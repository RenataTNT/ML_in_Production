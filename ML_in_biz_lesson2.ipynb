{
  "nbformat": 4,
  "nbformat_minor": 0,
  "metadata": {
    "colab": {
      "name": "ML_in_biz_lesson2.ipynb",
      "provenance": [],
      "collapsed_sections": [],
      "authorship_tag": "ABX9TyNiy9gn6usAXfXN3XgCvgh3",
      "include_colab_link": true
    },
    "kernelspec": {
      "name": "python3",
      "display_name": "Python 3"
    }
  },
  "cells": [
    {
      "cell_type": "markdown",
      "metadata": {
        "id": "view-in-github",
        "colab_type": "text"
      },
      "source": [
        "<a href=\"https://colab.research.google.com/github/RenataTNT/ML_in_Production/blob/master/ML_in_biz_lesson2.ipynb\" target=\"_parent\"><img src=\"https://colab.research.google.com/assets/colab-badge.svg\" alt=\"Open In Colab\"/></a>"
      ]
    },
    {
      "cell_type": "markdown",
      "metadata": {
        "id": "E-KVme85TqYl",
        "colab_type": "text"
      },
      "source": [
        "1. Прочитайте базу COVID-19 и сделайте модель для сезонных изменений по data_exp_1 с глубиной прогноза h=1 и h=3 по образцу из примера для обработки ряда \"цена Нефти\" ."
      ]
    },
    {
      "cell_type": "markdown",
      "metadata": {
        "id": "lou_3lxeT6ND",
        "colab_type": "text"
      },
      "source": [
        ""
      ]
    },
    {
      "cell_type": "code",
      "metadata": {
        "id": "shiAXLA0ZrmU",
        "colab_type": "code",
        "colab": {}
      },
      "source": [
        "import pandas as pd\n",
        "import matplotlib.pyplot as plt\n",
        "import numpy as np\n",
        "\n"
      ],
      "execution_count": 0,
      "outputs": []
    },
    {
      "cell_type": "code",
      "metadata": {
        "id": "3m5cE0SuZlcQ",
        "colab_type": "code",
        "colab": {}
      },
      "source": [
        "covid_data=pd.read_csv('covid_19_data.csv')"
      ],
      "execution_count": 0,
      "outputs": []
    },
    {
      "cell_type": "code",
      "metadata": {
        "id": "VjwUf36WZ1mJ",
        "colab_type": "code",
        "outputId": "dea0e41c-9520-4f2e-8030-5c4a81ad1bab",
        "colab": {
          "base_uri": "https://localhost:8080/",
          "height": 204
        }
      },
      "source": [
        "covid_data.head()"
      ],
      "execution_count": 3,
      "outputs": [
        {
          "output_type": "execute_result",
          "data": {
            "text/html": [
              "<div>\n",
              "<style scoped>\n",
              "    .dataframe tbody tr th:only-of-type {\n",
              "        vertical-align: middle;\n",
              "    }\n",
              "\n",
              "    .dataframe tbody tr th {\n",
              "        vertical-align: top;\n",
              "    }\n",
              "\n",
              "    .dataframe thead th {\n",
              "        text-align: right;\n",
              "    }\n",
              "</style>\n",
              "<table border=\"1\" class=\"dataframe\">\n",
              "  <thead>\n",
              "    <tr style=\"text-align: right;\">\n",
              "      <th></th>\n",
              "      <th>SNo</th>\n",
              "      <th>ObservationDate</th>\n",
              "      <th>Province/State</th>\n",
              "      <th>Country/Region</th>\n",
              "      <th>Last Update</th>\n",
              "      <th>Confirmed</th>\n",
              "      <th>Deaths</th>\n",
              "      <th>Recovered</th>\n",
              "    </tr>\n",
              "  </thead>\n",
              "  <tbody>\n",
              "    <tr>\n",
              "      <th>0</th>\n",
              "      <td>1</td>\n",
              "      <td>01/22/2020</td>\n",
              "      <td>Anhui</td>\n",
              "      <td>Mainland China</td>\n",
              "      <td>1/22/2020 17:00</td>\n",
              "      <td>1.0</td>\n",
              "      <td>0.0</td>\n",
              "      <td>0.0</td>\n",
              "    </tr>\n",
              "    <tr>\n",
              "      <th>1</th>\n",
              "      <td>2</td>\n",
              "      <td>01/22/2020</td>\n",
              "      <td>Beijing</td>\n",
              "      <td>Mainland China</td>\n",
              "      <td>1/22/2020 17:00</td>\n",
              "      <td>14.0</td>\n",
              "      <td>0.0</td>\n",
              "      <td>0.0</td>\n",
              "    </tr>\n",
              "    <tr>\n",
              "      <th>2</th>\n",
              "      <td>3</td>\n",
              "      <td>01/22/2020</td>\n",
              "      <td>Chongqing</td>\n",
              "      <td>Mainland China</td>\n",
              "      <td>1/22/2020 17:00</td>\n",
              "      <td>6.0</td>\n",
              "      <td>0.0</td>\n",
              "      <td>0.0</td>\n",
              "    </tr>\n",
              "    <tr>\n",
              "      <th>3</th>\n",
              "      <td>4</td>\n",
              "      <td>01/22/2020</td>\n",
              "      <td>Fujian</td>\n",
              "      <td>Mainland China</td>\n",
              "      <td>1/22/2020 17:00</td>\n",
              "      <td>1.0</td>\n",
              "      <td>0.0</td>\n",
              "      <td>0.0</td>\n",
              "    </tr>\n",
              "    <tr>\n",
              "      <th>4</th>\n",
              "      <td>5</td>\n",
              "      <td>01/22/2020</td>\n",
              "      <td>Gansu</td>\n",
              "      <td>Mainland China</td>\n",
              "      <td>1/22/2020 17:00</td>\n",
              "      <td>0.0</td>\n",
              "      <td>0.0</td>\n",
              "      <td>0.0</td>\n",
              "    </tr>\n",
              "  </tbody>\n",
              "</table>\n",
              "</div>"
            ],
            "text/plain": [
              "   SNo ObservationDate Province/State  ... Confirmed Deaths  Recovered\n",
              "0    1      01/22/2020          Anhui  ...       1.0    0.0        0.0\n",
              "1    2      01/22/2020        Beijing  ...      14.0    0.0        0.0\n",
              "2    3      01/22/2020      Chongqing  ...       6.0    0.0        0.0\n",
              "3    4      01/22/2020         Fujian  ...       1.0    0.0        0.0\n",
              "4    5      01/22/2020          Gansu  ...       0.0    0.0        0.0\n",
              "\n",
              "[5 rows x 8 columns]"
            ]
          },
          "metadata": {
            "tags": []
          },
          "execution_count": 3
        }
      ]
    },
    {
      "cell_type": "code",
      "metadata": {
        "id": "V1k7FAWjd3jn",
        "colab_type": "code",
        "outputId": "77817bdc-732f-47ee-f5d5-4ffa93e4bcc9",
        "colab": {
          "base_uri": "https://localhost:8080/",
          "height": 204
        }
      },
      "source": [
        "covid_data.tail()"
      ],
      "execution_count": 4,
      "outputs": [
        {
          "output_type": "execute_result",
          "data": {
            "text/html": [
              "<div>\n",
              "<style scoped>\n",
              "    .dataframe tbody tr th:only-of-type {\n",
              "        vertical-align: middle;\n",
              "    }\n",
              "\n",
              "    .dataframe tbody tr th {\n",
              "        vertical-align: top;\n",
              "    }\n",
              "\n",
              "    .dataframe thead th {\n",
              "        text-align: right;\n",
              "    }\n",
              "</style>\n",
              "<table border=\"1\" class=\"dataframe\">\n",
              "  <thead>\n",
              "    <tr style=\"text-align: right;\">\n",
              "      <th></th>\n",
              "      <th>SNo</th>\n",
              "      <th>ObservationDate</th>\n",
              "      <th>Province/State</th>\n",
              "      <th>Country/Region</th>\n",
              "      <th>Last Update</th>\n",
              "      <th>Confirmed</th>\n",
              "      <th>Deaths</th>\n",
              "      <th>Recovered</th>\n",
              "    </tr>\n",
              "  </thead>\n",
              "  <tbody>\n",
              "    <tr>\n",
              "      <th>14166</th>\n",
              "      <td>14167</td>\n",
              "      <td>04/11/2020</td>\n",
              "      <td>Wyoming</td>\n",
              "      <td>US</td>\n",
              "      <td>2020-04-11 22:52:46</td>\n",
              "      <td>261.0</td>\n",
              "      <td>0.0</td>\n",
              "      <td>0.0</td>\n",
              "    </tr>\n",
              "    <tr>\n",
              "      <th>14167</th>\n",
              "      <td>14168</td>\n",
              "      <td>04/11/2020</td>\n",
              "      <td>Xinjiang</td>\n",
              "      <td>Mainland China</td>\n",
              "      <td>2020-04-11 22:52:46</td>\n",
              "      <td>76.0</td>\n",
              "      <td>3.0</td>\n",
              "      <td>73.0</td>\n",
              "    </tr>\n",
              "    <tr>\n",
              "      <th>14168</th>\n",
              "      <td>14169</td>\n",
              "      <td>04/11/2020</td>\n",
              "      <td>Yukon</td>\n",
              "      <td>Canada</td>\n",
              "      <td>2020-04-11 22:52:46</td>\n",
              "      <td>8.0</td>\n",
              "      <td>0.0</td>\n",
              "      <td>0.0</td>\n",
              "    </tr>\n",
              "    <tr>\n",
              "      <th>14169</th>\n",
              "      <td>14170</td>\n",
              "      <td>04/11/2020</td>\n",
              "      <td>Yunnan</td>\n",
              "      <td>Mainland China</td>\n",
              "      <td>2020-04-11 22:52:46</td>\n",
              "      <td>184.0</td>\n",
              "      <td>2.0</td>\n",
              "      <td>174.0</td>\n",
              "    </tr>\n",
              "    <tr>\n",
              "      <th>14170</th>\n",
              "      <td>14171</td>\n",
              "      <td>04/11/2020</td>\n",
              "      <td>Zhejiang</td>\n",
              "      <td>Mainland China</td>\n",
              "      <td>2020-04-11 22:52:46</td>\n",
              "      <td>1267.0</td>\n",
              "      <td>1.0</td>\n",
              "      <td>1236.0</td>\n",
              "    </tr>\n",
              "  </tbody>\n",
              "</table>\n",
              "</div>"
            ],
            "text/plain": [
              "         SNo ObservationDate Province/State  ... Confirmed Deaths  Recovered\n",
              "14166  14167      04/11/2020        Wyoming  ...     261.0    0.0        0.0\n",
              "14167  14168      04/11/2020       Xinjiang  ...      76.0    3.0       73.0\n",
              "14168  14169      04/11/2020          Yukon  ...       8.0    0.0        0.0\n",
              "14169  14170      04/11/2020         Yunnan  ...     184.0    2.0      174.0\n",
              "14170  14171      04/11/2020       Zhejiang  ...    1267.0    1.0     1236.0\n",
              "\n",
              "[5 rows x 8 columns]"
            ]
          },
          "metadata": {
            "tags": []
          },
          "execution_count": 4
        }
      ]
    },
    {
      "cell_type": "code",
      "metadata": {
        "id": "klKqelwJdkoe",
        "colab_type": "code",
        "outputId": "b077e03c-a955-4fe4-ba17-40c54dc6d4a5",
        "colab": {
          "base_uri": "https://localhost:8080/",
          "height": 272
        }
      },
      "source": [
        "covid_data.info()"
      ],
      "execution_count": 5,
      "outputs": [
        {
          "output_type": "stream",
          "text": [
            "<class 'pandas.core.frame.DataFrame'>\n",
            "RangeIndex: 14171 entries, 0 to 14170\n",
            "Data columns (total 8 columns):\n",
            " #   Column           Non-Null Count  Dtype  \n",
            "---  ------           --------------  -----  \n",
            " 0   SNo              14171 non-null  int64  \n",
            " 1   ObservationDate  14171 non-null  object \n",
            " 2   Province/State   7247 non-null   object \n",
            " 3   Country/Region   14171 non-null  object \n",
            " 4   Last Update      14171 non-null  object \n",
            " 5   Confirmed        14171 non-null  float64\n",
            " 6   Deaths           14171 non-null  float64\n",
            " 7   Recovered        14171 non-null  float64\n",
            "dtypes: float64(3), int64(1), object(4)\n",
            "memory usage: 885.8+ KB\n"
          ],
          "name": "stdout"
        }
      ]
    },
    {
      "cell_type": "code",
      "metadata": {
        "id": "_mL8x1AegpqH",
        "colab_type": "code",
        "outputId": "db1374d8-4ccf-433f-9252-e8c57dae61b0",
        "colab": {
          "base_uri": "https://localhost:8080/",
          "height": 419
        }
      },
      "source": [
        "covid_data.loc[covid_data['Country/Region']=='Russia']"
      ],
      "execution_count": 6,
      "outputs": [
        {
          "output_type": "execute_result",
          "data": {
            "text/html": [
              "<div>\n",
              "<style scoped>\n",
              "    .dataframe tbody tr th:only-of-type {\n",
              "        vertical-align: middle;\n",
              "    }\n",
              "\n",
              "    .dataframe tbody tr th {\n",
              "        vertical-align: top;\n",
              "    }\n",
              "\n",
              "    .dataframe thead th {\n",
              "        text-align: right;\n",
              "    }\n",
              "</style>\n",
              "<table border=\"1\" class=\"dataframe\">\n",
              "  <thead>\n",
              "    <tr style=\"text-align: right;\">\n",
              "      <th></th>\n",
              "      <th>SNo</th>\n",
              "      <th>ObservationDate</th>\n",
              "      <th>Province/State</th>\n",
              "      <th>Country/Region</th>\n",
              "      <th>Last Update</th>\n",
              "      <th>Confirmed</th>\n",
              "      <th>Deaths</th>\n",
              "      <th>Recovered</th>\n",
              "    </tr>\n",
              "  </thead>\n",
              "  <tbody>\n",
              "    <tr>\n",
              "      <th>482</th>\n",
              "      <td>483</td>\n",
              "      <td>01/31/2020</td>\n",
              "      <td>NaN</td>\n",
              "      <td>Russia</td>\n",
              "      <td>1/31/2020 23:59</td>\n",
              "      <td>2.0</td>\n",
              "      <td>0.0</td>\n",
              "      <td>0.0</td>\n",
              "    </tr>\n",
              "    <tr>\n",
              "      <th>540</th>\n",
              "      <td>541</td>\n",
              "      <td>02/01/2020</td>\n",
              "      <td>NaN</td>\n",
              "      <td>Russia</td>\n",
              "      <td>1/31/2020 16:13</td>\n",
              "      <td>2.0</td>\n",
              "      <td>0.0</td>\n",
              "      <td>0.0</td>\n",
              "    </tr>\n",
              "    <tr>\n",
              "      <th>610</th>\n",
              "      <td>611</td>\n",
              "      <td>02/02/2020</td>\n",
              "      <td>NaN</td>\n",
              "      <td>Russia</td>\n",
              "      <td>2020-01-31T16:13:45</td>\n",
              "      <td>2.0</td>\n",
              "      <td>0.0</td>\n",
              "      <td>0.0</td>\n",
              "    </tr>\n",
              "    <tr>\n",
              "      <th>677</th>\n",
              "      <td>678</td>\n",
              "      <td>02/03/2020</td>\n",
              "      <td>NaN</td>\n",
              "      <td>Russia</td>\n",
              "      <td>2020-01-31T16:13:45</td>\n",
              "      <td>2.0</td>\n",
              "      <td>0.0</td>\n",
              "      <td>0.0</td>\n",
              "    </tr>\n",
              "    <tr>\n",
              "      <th>745</th>\n",
              "      <td>746</td>\n",
              "      <td>02/04/2020</td>\n",
              "      <td>NaN</td>\n",
              "      <td>Russia</td>\n",
              "      <td>2020-01-31T16:13:45</td>\n",
              "      <td>2.0</td>\n",
              "      <td>0.0</td>\n",
              "      <td>0.0</td>\n",
              "    </tr>\n",
              "    <tr>\n",
              "      <th>...</th>\n",
              "      <td>...</td>\n",
              "      <td>...</td>\n",
              "      <td>...</td>\n",
              "      <td>...</td>\n",
              "      <td>...</td>\n",
              "      <td>...</td>\n",
              "      <td>...</td>\n",
              "      <td>...</td>\n",
              "    </tr>\n",
              "    <tr>\n",
              "      <th>12703</th>\n",
              "      <td>12704</td>\n",
              "      <td>04/07/2020</td>\n",
              "      <td>NaN</td>\n",
              "      <td>Russia</td>\n",
              "      <td>2020-04-07 23:11:31</td>\n",
              "      <td>7497.0</td>\n",
              "      <td>58.0</td>\n",
              "      <td>494.0</td>\n",
              "    </tr>\n",
              "    <tr>\n",
              "      <th>13023</th>\n",
              "      <td>13024</td>\n",
              "      <td>04/08/2020</td>\n",
              "      <td>NaN</td>\n",
              "      <td>Russia</td>\n",
              "      <td>2020-04-08 22:59:00</td>\n",
              "      <td>8672.0</td>\n",
              "      <td>63.0</td>\n",
              "      <td>580.0</td>\n",
              "    </tr>\n",
              "    <tr>\n",
              "      <th>13343</th>\n",
              "      <td>13344</td>\n",
              "      <td>04/09/2020</td>\n",
              "      <td>NaN</td>\n",
              "      <td>Russia</td>\n",
              "      <td>2020-04-09 23:09:19</td>\n",
              "      <td>10131.0</td>\n",
              "      <td>76.0</td>\n",
              "      <td>698.0</td>\n",
              "    </tr>\n",
              "    <tr>\n",
              "      <th>13663</th>\n",
              "      <td>13664</td>\n",
              "      <td>04/10/2020</td>\n",
              "      <td>NaN</td>\n",
              "      <td>Russia</td>\n",
              "      <td>2020-04-10 23:01:43</td>\n",
              "      <td>11917.0</td>\n",
              "      <td>94.0</td>\n",
              "      <td>795.0</td>\n",
              "    </tr>\n",
              "    <tr>\n",
              "      <th>13984</th>\n",
              "      <td>13985</td>\n",
              "      <td>04/11/2020</td>\n",
              "      <td>NaN</td>\n",
              "      <td>Russia</td>\n",
              "      <td>2020-04-11 22:52:46</td>\n",
              "      <td>13584.0</td>\n",
              "      <td>106.0</td>\n",
              "      <td>1045.0</td>\n",
              "    </tr>\n",
              "  </tbody>\n",
              "</table>\n",
              "<p>72 rows × 8 columns</p>\n",
              "</div>"
            ],
            "text/plain": [
              "         SNo ObservationDate Province/State  ... Confirmed Deaths  Recovered\n",
              "482      483      01/31/2020            NaN  ...       2.0    0.0        0.0\n",
              "540      541      02/01/2020            NaN  ...       2.0    0.0        0.0\n",
              "610      611      02/02/2020            NaN  ...       2.0    0.0        0.0\n",
              "677      678      02/03/2020            NaN  ...       2.0    0.0        0.0\n",
              "745      746      02/04/2020            NaN  ...       2.0    0.0        0.0\n",
              "...      ...             ...            ...  ...       ...    ...        ...\n",
              "12703  12704      04/07/2020            NaN  ...    7497.0   58.0      494.0\n",
              "13023  13024      04/08/2020            NaN  ...    8672.0   63.0      580.0\n",
              "13343  13344      04/09/2020            NaN  ...   10131.0   76.0      698.0\n",
              "13663  13664      04/10/2020            NaN  ...   11917.0   94.0      795.0\n",
              "13984  13985      04/11/2020            NaN  ...   13584.0  106.0     1045.0\n",
              "\n",
              "[72 rows x 8 columns]"
            ]
          },
          "metadata": {
            "tags": []
          },
          "execution_count": 6
        }
      ]
    },
    {
      "cell_type": "markdown",
      "metadata": {
        "id": "m_JTT0NGhhPN",
        "colab_type": "text"
      },
      "source": [
        "Видно, что данные изо дня в день отражаются нарастающим итогом, поэтому определим количество заражений по странам на последний день наблюдений"
      ]
    },
    {
      "cell_type": "code",
      "metadata": {
        "id": "4L_1qkyyaABa",
        "colab_type": "code",
        "outputId": "f251a520-0242-46f2-82fb-8ae40eace566",
        "colab": {
          "base_uri": "https://localhost:8080/",
          "height": 561
        }
      },
      "source": [
        "covid_all_countries=covid_data.loc[covid_data['ObservationDate']=='04/09/2020'].groupby('Country/Region')['Confirmed'].sum()\n",
        "covid_all_countries.sort_values(ascending=False).head(30)"
      ],
      "execution_count": 7,
      "outputs": [
        {
          "output_type": "execute_result",
          "data": {
            "text/plain": [
              "Country/Region\n",
              "US                461437.0\n",
              "Spain             153222.0\n",
              "Italy             143626.0\n",
              "France            118781.0\n",
              "Germany           118181.0\n",
              "Mainland China     81865.0\n",
              "Iran               66220.0\n",
              "UK                 65872.0\n",
              "Turkey             42282.0\n",
              "Belgium            24983.0\n",
              "Switzerland        24051.0\n",
              "Netherlands        21903.0\n",
              "Canada             20654.0\n",
              "Brazil             18092.0\n",
              "Portugal           13956.0\n",
              "Austria            13244.0\n",
              "South Korea        10423.0\n",
              "Russia             10131.0\n",
              "Israel              9968.0\n",
              "Sweden              9141.0\n",
              "India               6725.0\n",
              "Ireland             6574.0\n",
              "Norway              6211.0\n",
              "Australia           6108.0\n",
              "Chile               5972.0\n",
              "Denmark             5830.0\n",
              "Poland              5575.0\n",
              "Czech Republic      5569.0\n",
              "Peru                5256.0\n",
              "Romania             5202.0\n",
              "Name: Confirmed, dtype: float64"
            ]
          },
          "metadata": {
            "tags": []
          },
          "execution_count": 7
        }
      ]
    },
    {
      "cell_type": "markdown",
      "metadata": {
        "id": "NQivwRwqjmi5",
        "colab_type": "text"
      },
      "source": [
        "Подсчитаем количество дней наблюдений по странам"
      ]
    },
    {
      "cell_type": "code",
      "metadata": {
        "id": "uni2y68ejuoV",
        "colab_type": "code",
        "outputId": "6381a8a2-e37e-4f6c-9be8-c8ad7c2dfadb",
        "colab": {
          "base_uri": "https://localhost:8080/",
          "height": 1000
        }
      },
      "source": [
        "Covid_oldest_cases=covid_data[['Country/Region','ObservationDate']].drop_duplicates().groupby('Country/Region').count()\n",
        "Covid_oldest_cases.sort_values(by='ObservationDate', ascending=False).head(30)"
      ],
      "execution_count": 8,
      "outputs": [
        {
          "output_type": "execute_result",
          "data": {
            "text/html": [
              "<div>\n",
              "<style scoped>\n",
              "    .dataframe tbody tr th:only-of-type {\n",
              "        vertical-align: middle;\n",
              "    }\n",
              "\n",
              "    .dataframe tbody tr th {\n",
              "        vertical-align: top;\n",
              "    }\n",
              "\n",
              "    .dataframe thead th {\n",
              "        text-align: right;\n",
              "    }\n",
              "</style>\n",
              "<table border=\"1\" class=\"dataframe\">\n",
              "  <thead>\n",
              "    <tr style=\"text-align: right;\">\n",
              "      <th></th>\n",
              "      <th>ObservationDate</th>\n",
              "    </tr>\n",
              "    <tr>\n",
              "      <th>Country/Region</th>\n",
              "      <th></th>\n",
              "    </tr>\n",
              "  </thead>\n",
              "  <tbody>\n",
              "    <tr>\n",
              "      <th>Japan</th>\n",
              "      <td>81</td>\n",
              "    </tr>\n",
              "    <tr>\n",
              "      <th>South Korea</th>\n",
              "      <td>81</td>\n",
              "    </tr>\n",
              "    <tr>\n",
              "      <th>US</th>\n",
              "      <td>81</td>\n",
              "    </tr>\n",
              "    <tr>\n",
              "      <th>Taiwan</th>\n",
              "      <td>81</td>\n",
              "    </tr>\n",
              "    <tr>\n",
              "      <th>Macau</th>\n",
              "      <td>81</td>\n",
              "    </tr>\n",
              "    <tr>\n",
              "      <th>Mainland China</th>\n",
              "      <td>81</td>\n",
              "    </tr>\n",
              "    <tr>\n",
              "      <th>Thailand</th>\n",
              "      <td>81</td>\n",
              "    </tr>\n",
              "    <tr>\n",
              "      <th>Hong Kong</th>\n",
              "      <td>81</td>\n",
              "    </tr>\n",
              "    <tr>\n",
              "      <th>Vietnam</th>\n",
              "      <td>80</td>\n",
              "    </tr>\n",
              "    <tr>\n",
              "      <th>Singapore</th>\n",
              "      <td>80</td>\n",
              "    </tr>\n",
              "    <tr>\n",
              "      <th>Australia</th>\n",
              "      <td>79</td>\n",
              "    </tr>\n",
              "    <tr>\n",
              "      <th>France</th>\n",
              "      <td>79</td>\n",
              "    </tr>\n",
              "    <tr>\n",
              "      <th>Malaysia</th>\n",
              "      <td>79</td>\n",
              "    </tr>\n",
              "    <tr>\n",
              "      <th>Nepal</th>\n",
              "      <td>78</td>\n",
              "    </tr>\n",
              "    <tr>\n",
              "      <th>Canada</th>\n",
              "      <td>77</td>\n",
              "    </tr>\n",
              "    <tr>\n",
              "      <th>Sri Lanka</th>\n",
              "      <td>76</td>\n",
              "    </tr>\n",
              "    <tr>\n",
              "      <th>Cambodia</th>\n",
              "      <td>76</td>\n",
              "    </tr>\n",
              "    <tr>\n",
              "      <th>Germany</th>\n",
              "      <td>75</td>\n",
              "    </tr>\n",
              "    <tr>\n",
              "      <th>United Arab Emirates</th>\n",
              "      <td>74</td>\n",
              "    </tr>\n",
              "    <tr>\n",
              "      <th>Philippines</th>\n",
              "      <td>74</td>\n",
              "    </tr>\n",
              "    <tr>\n",
              "      <th>Finland</th>\n",
              "      <td>74</td>\n",
              "    </tr>\n",
              "    <tr>\n",
              "      <th>India</th>\n",
              "      <td>73</td>\n",
              "    </tr>\n",
              "    <tr>\n",
              "      <th>UK</th>\n",
              "      <td>72</td>\n",
              "    </tr>\n",
              "    <tr>\n",
              "      <th>Sweden</th>\n",
              "      <td>72</td>\n",
              "    </tr>\n",
              "    <tr>\n",
              "      <th>Italy</th>\n",
              "      <td>72</td>\n",
              "    </tr>\n",
              "    <tr>\n",
              "      <th>Russia</th>\n",
              "      <td>72</td>\n",
              "    </tr>\n",
              "    <tr>\n",
              "      <th>Spain</th>\n",
              "      <td>71</td>\n",
              "    </tr>\n",
              "    <tr>\n",
              "      <th>Belgium</th>\n",
              "      <td>68</td>\n",
              "    </tr>\n",
              "    <tr>\n",
              "      <th>Egypt</th>\n",
              "      <td>58</td>\n",
              "    </tr>\n",
              "    <tr>\n",
              "      <th>Iran</th>\n",
              "      <td>53</td>\n",
              "    </tr>\n",
              "  </tbody>\n",
              "</table>\n",
              "</div>"
            ],
            "text/plain": [
              "                      ObservationDate\n",
              "Country/Region                       \n",
              "Japan                              81\n",
              "South Korea                        81\n",
              "US                                 81\n",
              "Taiwan                             81\n",
              "Macau                              81\n",
              "Mainland China                     81\n",
              "Thailand                           81\n",
              "Hong Kong                          81\n",
              "Vietnam                            80\n",
              "Singapore                          80\n",
              "Australia                          79\n",
              "France                             79\n",
              "Malaysia                           79\n",
              "Nepal                              78\n",
              "Canada                             77\n",
              "Sri Lanka                          76\n",
              "Cambodia                           76\n",
              "Germany                            75\n",
              "United Arab Emirates               74\n",
              "Philippines                        74\n",
              "Finland                            74\n",
              "India                              73\n",
              "UK                                 72\n",
              "Sweden                             72\n",
              "Italy                              72\n",
              "Russia                             72\n",
              "Spain                              71\n",
              "Belgium                            68\n",
              "Egypt                              58\n",
              "Iran                               53"
            ]
          },
          "metadata": {
            "tags": []
          },
          "execution_count": 8
        }
      ]
    },
    {
      "cell_type": "markdown",
      "metadata": {
        "id": "xajfcw4A5mqQ",
        "colab_type": "text"
      },
      "source": [
        "На эот раз выберем **Францию** для анализа"
      ]
    },
    {
      "cell_type": "code",
      "metadata": {
        "id": "WoQa2YOauGyI",
        "colab_type": "code",
        "outputId": "bbca1714-2382-47be-bf3f-974d71012b32",
        "colab": {
          "base_uri": "https://localhost:8080/",
          "height": 204
        }
      },
      "source": [
        "COVID = covid_data.copy()\n",
        "\n",
        "COVID['Date']= pd.to_datetime(COVID['ObservationDate']).dt.date\n",
        "COVID.head()"
      ],
      "execution_count": 9,
      "outputs": [
        {
          "output_type": "execute_result",
          "data": {
            "text/html": [
              "<div>\n",
              "<style scoped>\n",
              "    .dataframe tbody tr th:only-of-type {\n",
              "        vertical-align: middle;\n",
              "    }\n",
              "\n",
              "    .dataframe tbody tr th {\n",
              "        vertical-align: top;\n",
              "    }\n",
              "\n",
              "    .dataframe thead th {\n",
              "        text-align: right;\n",
              "    }\n",
              "</style>\n",
              "<table border=\"1\" class=\"dataframe\">\n",
              "  <thead>\n",
              "    <tr style=\"text-align: right;\">\n",
              "      <th></th>\n",
              "      <th>SNo</th>\n",
              "      <th>ObservationDate</th>\n",
              "      <th>Province/State</th>\n",
              "      <th>Country/Region</th>\n",
              "      <th>Last Update</th>\n",
              "      <th>Confirmed</th>\n",
              "      <th>Deaths</th>\n",
              "      <th>Recovered</th>\n",
              "      <th>Date</th>\n",
              "    </tr>\n",
              "  </thead>\n",
              "  <tbody>\n",
              "    <tr>\n",
              "      <th>0</th>\n",
              "      <td>1</td>\n",
              "      <td>01/22/2020</td>\n",
              "      <td>Anhui</td>\n",
              "      <td>Mainland China</td>\n",
              "      <td>1/22/2020 17:00</td>\n",
              "      <td>1.0</td>\n",
              "      <td>0.0</td>\n",
              "      <td>0.0</td>\n",
              "      <td>2020-01-22</td>\n",
              "    </tr>\n",
              "    <tr>\n",
              "      <th>1</th>\n",
              "      <td>2</td>\n",
              "      <td>01/22/2020</td>\n",
              "      <td>Beijing</td>\n",
              "      <td>Mainland China</td>\n",
              "      <td>1/22/2020 17:00</td>\n",
              "      <td>14.0</td>\n",
              "      <td>0.0</td>\n",
              "      <td>0.0</td>\n",
              "      <td>2020-01-22</td>\n",
              "    </tr>\n",
              "    <tr>\n",
              "      <th>2</th>\n",
              "      <td>3</td>\n",
              "      <td>01/22/2020</td>\n",
              "      <td>Chongqing</td>\n",
              "      <td>Mainland China</td>\n",
              "      <td>1/22/2020 17:00</td>\n",
              "      <td>6.0</td>\n",
              "      <td>0.0</td>\n",
              "      <td>0.0</td>\n",
              "      <td>2020-01-22</td>\n",
              "    </tr>\n",
              "    <tr>\n",
              "      <th>3</th>\n",
              "      <td>4</td>\n",
              "      <td>01/22/2020</td>\n",
              "      <td>Fujian</td>\n",
              "      <td>Mainland China</td>\n",
              "      <td>1/22/2020 17:00</td>\n",
              "      <td>1.0</td>\n",
              "      <td>0.0</td>\n",
              "      <td>0.0</td>\n",
              "      <td>2020-01-22</td>\n",
              "    </tr>\n",
              "    <tr>\n",
              "      <th>4</th>\n",
              "      <td>5</td>\n",
              "      <td>01/22/2020</td>\n",
              "      <td>Gansu</td>\n",
              "      <td>Mainland China</td>\n",
              "      <td>1/22/2020 17:00</td>\n",
              "      <td>0.0</td>\n",
              "      <td>0.0</td>\n",
              "      <td>0.0</td>\n",
              "      <td>2020-01-22</td>\n",
              "    </tr>\n",
              "  </tbody>\n",
              "</table>\n",
              "</div>"
            ],
            "text/plain": [
              "   SNo ObservationDate Province/State  ... Deaths Recovered        Date\n",
              "0    1      01/22/2020          Anhui  ...    0.0       0.0  2020-01-22\n",
              "1    2      01/22/2020        Beijing  ...    0.0       0.0  2020-01-22\n",
              "2    3      01/22/2020      Chongqing  ...    0.0       0.0  2020-01-22\n",
              "3    4      01/22/2020         Fujian  ...    0.0       0.0  2020-01-22\n",
              "4    5      01/22/2020          Gansu  ...    0.0       0.0  2020-01-22\n",
              "\n",
              "[5 rows x 9 columns]"
            ]
          },
          "metadata": {
            "tags": []
          },
          "execution_count": 9
        }
      ]
    },
    {
      "cell_type": "code",
      "metadata": {
        "id": "o4Iq4PA_uVor",
        "colab_type": "code",
        "outputId": "0228105d-39b2-422d-c118-0ec5a2df74fa",
        "colab": {
          "base_uri": "https://localhost:8080/",
          "height": 204
        }
      },
      "source": [
        "France=COVID.loc[COVID['Country/Region']=='France']\n",
        "France_covid=France.set_index(pd.DatetimeIndex(France['Date'].values))\n",
        "France_covid.tail()"
      ],
      "execution_count": 10,
      "outputs": [
        {
          "output_type": "execute_result",
          "data": {
            "text/html": [
              "<div>\n",
              "<style scoped>\n",
              "    .dataframe tbody tr th:only-of-type {\n",
              "        vertical-align: middle;\n",
              "    }\n",
              "\n",
              "    .dataframe tbody tr th {\n",
              "        vertical-align: top;\n",
              "    }\n",
              "\n",
              "    .dataframe thead th {\n",
              "        text-align: right;\n",
              "    }\n",
              "</style>\n",
              "<table border=\"1\" class=\"dataframe\">\n",
              "  <thead>\n",
              "    <tr style=\"text-align: right;\">\n",
              "      <th></th>\n",
              "      <th>SNo</th>\n",
              "      <th>ObservationDate</th>\n",
              "      <th>Province/State</th>\n",
              "      <th>Country/Region</th>\n",
              "      <th>Last Update</th>\n",
              "      <th>Confirmed</th>\n",
              "      <th>Deaths</th>\n",
              "      <th>Recovered</th>\n",
              "      <th>Date</th>\n",
              "    </tr>\n",
              "  </thead>\n",
              "  <tbody>\n",
              "    <tr>\n",
              "      <th>2020-04-11</th>\n",
              "      <td>14111</td>\n",
              "      <td>04/11/2020</td>\n",
              "      <td>New Caledonia</td>\n",
              "      <td>France</td>\n",
              "      <td>2020-04-11 22:52:46</td>\n",
              "      <td>18.0</td>\n",
              "      <td>0.0</td>\n",
              "      <td>1.0</td>\n",
              "      <td>2020-04-11</td>\n",
              "    </tr>\n",
              "    <tr>\n",
              "      <th>2020-04-11</th>\n",
              "      <td>14137</td>\n",
              "      <td>04/11/2020</td>\n",
              "      <td>Reunion</td>\n",
              "      <td>France</td>\n",
              "      <td>2020-04-11 22:52:46</td>\n",
              "      <td>388.0</td>\n",
              "      <td>0.0</td>\n",
              "      <td>40.0</td>\n",
              "      <td>2020-04-11</td>\n",
              "    </tr>\n",
              "    <tr>\n",
              "      <th>2020-04-11</th>\n",
              "      <td>14139</td>\n",
              "      <td>04/11/2020</td>\n",
              "      <td>Saint Barthelemy</td>\n",
              "      <td>France</td>\n",
              "      <td>2020-04-11 22:52:46</td>\n",
              "      <td>6.0</td>\n",
              "      <td>0.0</td>\n",
              "      <td>1.0</td>\n",
              "      <td>2020-04-11</td>\n",
              "    </tr>\n",
              "    <tr>\n",
              "      <th>2020-04-11</th>\n",
              "      <td>14140</td>\n",
              "      <td>04/11/2020</td>\n",
              "      <td>Saint Pierre and Miquelon</td>\n",
              "      <td>France</td>\n",
              "      <td>2020-04-11 22:52:46</td>\n",
              "      <td>1.0</td>\n",
              "      <td>0.0</td>\n",
              "      <td>0.0</td>\n",
              "      <td>2020-04-11</td>\n",
              "    </tr>\n",
              "    <tr>\n",
              "      <th>2020-04-11</th>\n",
              "      <td>14151</td>\n",
              "      <td>04/11/2020</td>\n",
              "      <td>St Martin</td>\n",
              "      <td>France</td>\n",
              "      <td>2020-04-11 22:52:46</td>\n",
              "      <td>32.0</td>\n",
              "      <td>2.0</td>\n",
              "      <td>11.0</td>\n",
              "      <td>2020-04-11</td>\n",
              "    </tr>\n",
              "  </tbody>\n",
              "</table>\n",
              "</div>"
            ],
            "text/plain": [
              "              SNo ObservationDate  ... Recovered        Date\n",
              "2020-04-11  14111      04/11/2020  ...       1.0  2020-04-11\n",
              "2020-04-11  14137      04/11/2020  ...      40.0  2020-04-11\n",
              "2020-04-11  14139      04/11/2020  ...       1.0  2020-04-11\n",
              "2020-04-11  14140      04/11/2020  ...       0.0  2020-04-11\n",
              "2020-04-11  14151      04/11/2020  ...      11.0  2020-04-11\n",
              "\n",
              "[5 rows x 9 columns]"
            ]
          },
          "metadata": {
            "tags": []
          },
          "execution_count": 10
        }
      ]
    },
    {
      "cell_type": "code",
      "metadata": {
        "id": "GR30SXmlCRH4",
        "colab_type": "code",
        "colab": {}
      },
      "source": [
        "#France_covid=France_covid.drop(['SNo', 'Province/State'] , axis=1)\n"
      ],
      "execution_count": 0,
      "outputs": []
    },
    {
      "cell_type": "code",
      "metadata": {
        "id": "ZovUOuBGMSib",
        "colab_type": "code",
        "colab": {}
      },
      "source": [
        "France_covid=France_covid.groupby('Date').sum()"
      ],
      "execution_count": 0,
      "outputs": []
    },
    {
      "cell_type": "code",
      "metadata": {
        "id": "LN5dccgeMng9",
        "colab_type": "code",
        "outputId": "cdaae10e-44db-4dce-ee3e-80661d4caaa6",
        "colab": {
          "base_uri": "https://localhost:8080/",
          "height": 235
        }
      },
      "source": [
        "France_covid=France_covid.drop('SNo', axis=1)\n",
        "France_covid.tail()"
      ],
      "execution_count": 12,
      "outputs": [
        {
          "output_type": "execute_result",
          "data": {
            "text/html": [
              "<div>\n",
              "<style scoped>\n",
              "    .dataframe tbody tr th:only-of-type {\n",
              "        vertical-align: middle;\n",
              "    }\n",
              "\n",
              "    .dataframe tbody tr th {\n",
              "        vertical-align: top;\n",
              "    }\n",
              "\n",
              "    .dataframe thead th {\n",
              "        text-align: right;\n",
              "    }\n",
              "</style>\n",
              "<table border=\"1\" class=\"dataframe\">\n",
              "  <thead>\n",
              "    <tr style=\"text-align: right;\">\n",
              "      <th></th>\n",
              "      <th>Confirmed</th>\n",
              "      <th>Deaths</th>\n",
              "      <th>Recovered</th>\n",
              "    </tr>\n",
              "    <tr>\n",
              "      <th>Date</th>\n",
              "      <th></th>\n",
              "      <th></th>\n",
              "      <th></th>\n",
              "    </tr>\n",
              "  </thead>\n",
              "  <tbody>\n",
              "    <tr>\n",
              "      <th>2020-04-07</th>\n",
              "      <td>110065.0</td>\n",
              "      <td>10343.0</td>\n",
              "      <td>19523.0</td>\n",
              "    </tr>\n",
              "    <tr>\n",
              "      <th>2020-04-08</th>\n",
              "      <td>113959.0</td>\n",
              "      <td>10887.0</td>\n",
              "      <td>21452.0</td>\n",
              "    </tr>\n",
              "    <tr>\n",
              "      <th>2020-04-09</th>\n",
              "      <td>118781.0</td>\n",
              "      <td>12228.0</td>\n",
              "      <td>23413.0</td>\n",
              "    </tr>\n",
              "    <tr>\n",
              "      <th>2020-04-10</th>\n",
              "      <td>125931.0</td>\n",
              "      <td>13215.0</td>\n",
              "      <td>25195.0</td>\n",
              "    </tr>\n",
              "    <tr>\n",
              "      <th>2020-04-11</th>\n",
              "      <td>130727.0</td>\n",
              "      <td>13851.0</td>\n",
              "      <td>26663.0</td>\n",
              "    </tr>\n",
              "  </tbody>\n",
              "</table>\n",
              "</div>"
            ],
            "text/plain": [
              "            Confirmed   Deaths  Recovered\n",
              "Date                                     \n",
              "2020-04-07   110065.0  10343.0    19523.0\n",
              "2020-04-08   113959.0  10887.0    21452.0\n",
              "2020-04-09   118781.0  12228.0    23413.0\n",
              "2020-04-10   125931.0  13215.0    25195.0\n",
              "2020-04-11   130727.0  13851.0    26663.0"
            ]
          },
          "metadata": {
            "tags": []
          },
          "execution_count": 12
        }
      ]
    },
    {
      "cell_type": "code",
      "metadata": {
        "id": "AJdrA5bfvDtx",
        "colab_type": "code",
        "outputId": "9b19600a-a9c8-4113-f817-d962565e7f4c",
        "colab": {
          "base_uri": "https://localhost:8080/",
          "height": 367
        }
      },
      "source": [
        "France_covid.plot(figsize=(20,5), title='Covid_France')\n"
      ],
      "execution_count": 13,
      "outputs": [
        {
          "output_type": "execute_result",
          "data": {
            "text/plain": [
              "<matplotlib.axes._subplots.AxesSubplot at 0x7f96fe9affd0>"
            ]
          },
          "metadata": {
            "tags": []
          },
          "execution_count": 13
        },
        {
          "output_type": "display_data",
          "data": {
            "image/png": "[encoded data removed]",
            "text/plain": [
              "<Figure size 1440x360 with 1 Axes>"
            ]
          },
          "metadata": {
            "tags": [],
            "needs_background": "light"
          }
        }
      ]
    },
    {
      "cell_type": "markdown",
      "metadata": {
        "id": "fHqqYq4F3oCH",
        "colab_type": "text"
      },
      "source": [
        "Будем анализировать не нарастающие итоги заболеваний, а дневные приросты"
      ]
    },
    {
      "cell_type": "code",
      "metadata": {
        "id": "NePw7YRK3mr4",
        "colab_type": "code",
        "outputId": "88c3be27-57dd-47f6-8a22-3efb8c4c7da9",
        "colab": {
          "base_uri": "https://localhost:8080/",
          "height": 450
        }
      },
      "source": [
        "France_covid['Confirmed_daily']=France_covid['Confirmed']\n",
        "France_covid['Confirmed_daily'].iloc[1:]=France_covid['Confirmed'].iloc[1:].values-France_covid['Confirmed'].iloc[:-1].values\n",
        "France_covid"
      ],
      "execution_count": 14,
      "outputs": [
        {
          "output_type": "execute_result",
          "data": {
            "text/html": [
              "<div>\n",
              "<style scoped>\n",
              "    .dataframe tbody tr th:only-of-type {\n",
              "        vertical-align: middle;\n",
              "    }\n",
              "\n",
              "    .dataframe tbody tr th {\n",
              "        vertical-align: top;\n",
              "    }\n",
              "\n",
              "    .dataframe thead th {\n",
              "        text-align: right;\n",
              "    }\n",
              "</style>\n",
              "<table border=\"1\" class=\"dataframe\">\n",
              "  <thead>\n",
              "    <tr style=\"text-align: right;\">\n",
              "      <th></th>\n",
              "      <th>Confirmed</th>\n",
              "      <th>Deaths</th>\n",
              "      <th>Recovered</th>\n",
              "      <th>Confirmed_daily</th>\n",
              "    </tr>\n",
              "    <tr>\n",
              "      <th>Date</th>\n",
              "      <th></th>\n",
              "      <th></th>\n",
              "      <th></th>\n",
              "      <th></th>\n",
              "    </tr>\n",
              "  </thead>\n",
              "  <tbody>\n",
              "    <tr>\n",
              "      <th>2020-01-24</th>\n",
              "      <td>2.0</td>\n",
              "      <td>0.0</td>\n",
              "      <td>0.0</td>\n",
              "      <td>2.0</td>\n",
              "    </tr>\n",
              "    <tr>\n",
              "      <th>2020-01-25</th>\n",
              "      <td>3.0</td>\n",
              "      <td>0.0</td>\n",
              "      <td>0.0</td>\n",
              "      <td>1.0</td>\n",
              "    </tr>\n",
              "    <tr>\n",
              "      <th>2020-01-26</th>\n",
              "      <td>3.0</td>\n",
              "      <td>0.0</td>\n",
              "      <td>0.0</td>\n",
              "      <td>0.0</td>\n",
              "    </tr>\n",
              "    <tr>\n",
              "      <th>2020-01-27</th>\n",
              "      <td>3.0</td>\n",
              "      <td>0.0</td>\n",
              "      <td>0.0</td>\n",
              "      <td>0.0</td>\n",
              "    </tr>\n",
              "    <tr>\n",
              "      <th>2020-01-28</th>\n",
              "      <td>4.0</td>\n",
              "      <td>0.0</td>\n",
              "      <td>0.0</td>\n",
              "      <td>1.0</td>\n",
              "    </tr>\n",
              "    <tr>\n",
              "      <th>...</th>\n",
              "      <td>...</td>\n",
              "      <td>...</td>\n",
              "      <td>...</td>\n",
              "      <td>...</td>\n",
              "    </tr>\n",
              "    <tr>\n",
              "      <th>2020-04-07</th>\n",
              "      <td>110065.0</td>\n",
              "      <td>10343.0</td>\n",
              "      <td>19523.0</td>\n",
              "      <td>11102.0</td>\n",
              "    </tr>\n",
              "    <tr>\n",
              "      <th>2020-04-08</th>\n",
              "      <td>113959.0</td>\n",
              "      <td>10887.0</td>\n",
              "      <td>21452.0</td>\n",
              "      <td>3894.0</td>\n",
              "    </tr>\n",
              "    <tr>\n",
              "      <th>2020-04-09</th>\n",
              "      <td>118781.0</td>\n",
              "      <td>12228.0</td>\n",
              "      <td>23413.0</td>\n",
              "      <td>4822.0</td>\n",
              "    </tr>\n",
              "    <tr>\n",
              "      <th>2020-04-10</th>\n",
              "      <td>125931.0</td>\n",
              "      <td>13215.0</td>\n",
              "      <td>25195.0</td>\n",
              "      <td>7150.0</td>\n",
              "    </tr>\n",
              "    <tr>\n",
              "      <th>2020-04-11</th>\n",
              "      <td>130727.0</td>\n",
              "      <td>13851.0</td>\n",
              "      <td>26663.0</td>\n",
              "      <td>4796.0</td>\n",
              "    </tr>\n",
              "  </tbody>\n",
              "</table>\n",
              "<p>79 rows × 4 columns</p>\n",
              "</div>"
            ],
            "text/plain": [
              "            Confirmed   Deaths  Recovered  Confirmed_daily\n",
              "Date                                                      \n",
              "2020-01-24        2.0      0.0        0.0              2.0\n",
              "2020-01-25        3.0      0.0        0.0              1.0\n",
              "2020-01-26        3.0      0.0        0.0              0.0\n",
              "2020-01-27        3.0      0.0        0.0              0.0\n",
              "2020-01-28        4.0      0.0        0.0              1.0\n",
              "...               ...      ...        ...              ...\n",
              "2020-04-07   110065.0  10343.0    19523.0          11102.0\n",
              "2020-04-08   113959.0  10887.0    21452.0           3894.0\n",
              "2020-04-09   118781.0  12228.0    23413.0           4822.0\n",
              "2020-04-10   125931.0  13215.0    25195.0           7150.0\n",
              "2020-04-11   130727.0  13851.0    26663.0           4796.0\n",
              "\n",
              "[79 rows x 4 columns]"
            ]
          },
          "metadata": {
            "tags": []
          },
          "execution_count": 14
        }
      ]
    },
    {
      "cell_type": "code",
      "metadata": {
        "id": "2c7Vvh-UOKxw",
        "colab_type": "code",
        "colab": {}
      },
      "source": [
        "# функция для экспоненциального сглаживания\n",
        "def exponential_smoothing(series, alpha):\n",
        "    result = [series[0]] # first value is same as series\n",
        "    for n in range(1, len(series)):\n",
        "        result.append(alpha * series[n] + (1 - alpha) * result[n-1])\n",
        "    return result"
      ],
      "execution_count": 0,
      "outputs": []
    },
    {
      "cell_type": "code",
      "metadata": {
        "id": "4HLXQoigOVBI",
        "colab_type": "code",
        "colab": {}
      },
      "source": [
        "# сгладим подтвержденные случаи\n",
        "Confirmed_exp=exponential_smoothing(France_covid['Confirmed_daily'], 0.2)\n"
      ],
      "execution_count": 0,
      "outputs": []
    },
    {
      "cell_type": "code",
      "metadata": {
        "id": "nEEv7HE8PAd7",
        "colab_type": "code",
        "outputId": "76c35f91-2594-462a-a272-87b77c79b269",
        "colab": {
          "base_uri": "https://localhost:8080/",
          "height": 367
        }
      },
      "source": [
        "plt.figure(figsize=(20,5))\n",
        "France_covid['Confirmed_daily'].plot(title='Covid_France', label='реальные подтвержденные случаи')\n",
        "plt.plot(France_covid.index,Confirmed_exp, label='экспоненциальное сглаживание')\n",
        "plt.plot(France_covid.index,France_covid['Confirmed_daily'] - Confirmed_exp, color = 'green', label=\"без тренда по экспоненциальному сглаживанию\")\n",
        "plt.legend()"
      ],
      "execution_count": 17,
      "outputs": [
        {
          "output_type": "execute_result",
          "data": {
            "text/plain": [
              "<matplotlib.legend.Legend at 0x7f96fe48da90>"
            ]
          },
          "metadata": {
            "tags": []
          },
          "execution_count": 17
        },
        {
          "output_type": "display_data",
          "data": {
            "image/png": "[encoded data removed]",
            "text/plain": [
              "<Figure size 1440x360 with 1 Axes>"
            ]
          },
          "metadata": {
            "tags": [],
            "needs_background": "light"
          }
        }
      ]
    },
    {
      "cell_type": "code",
      "metadata": {
        "id": "FXozl4FJV9-W",
        "colab_type": "code",
        "outputId": "ed1b0fbd-411c-4d34-85a3-fa99355ffb5c",
        "colab": {
          "base_uri": "https://localhost:8080/",
          "height": 337
        }
      },
      "source": [
        "plt.figure(figsize=(20,5))\n",
        "plt.plot(France_covid.index,France_covid['Confirmed_daily'] - Confirmed_exp, color = 'green', label=\"без тренда по экспоненциальному сглаживанию\")\n",
        "\n",
        "plt.legend()"
      ],
      "execution_count": 18,
      "outputs": [
        {
          "output_type": "execute_result",
          "data": {
            "text/plain": [
              "<matplotlib.legend.Legend at 0x7f96fe459198>"
            ]
          },
          "metadata": {
            "tags": []
          },
          "execution_count": 18
        },
        {
          "output_type": "display_data",
          "data": {
            "image/png": "[encoded data removed]",
            "text/plain": [
              "<Figure size 1440x360 with 1 Axes>"
            ]
          },
          "metadata": {
            "tags": [],
            "needs_background": "light"
          }
        }
      ]
    },
    {
      "cell_type": "markdown",
      "metadata": {
        "id": "-NTERMf1W_Y3",
        "colab_type": "text"
      },
      "source": [
        "Проверим даты выбросов"
      ]
    },
    {
      "cell_type": "code",
      "metadata": {
        "id": "PSeCBUUCW-6i",
        "colab_type": "code",
        "colab": {
          "base_uri": "https://localhost:8080/",
          "height": 68
        },
        "outputId": "3dc60fec-bd66-43a2-b0b7-316f1ab1d0e8"
      },
      "source": [
        "France_covid_trend_free=France_covid['Confirmed_daily'] - Confirmed_exp\n",
        "France_covid_trend_free.loc[France_covid_trend_free==max(France_covid_trend_free)]\n"
      ],
      "execution_count": 19,
      "outputs": [
        {
          "output_type": "execute_result",
          "data": {
            "text/plain": [
              "Date\n",
              "2020-04-04    17161.494119\n",
              "Name: Confirmed_daily, dtype: float64"
            ]
          },
          "metadata": {
            "tags": []
          },
          "execution_count": 19
        }
      ]
    },
    {
      "cell_type": "code",
      "metadata": {
        "id": "RB0BplX9gMd4",
        "colab_type": "code",
        "colab": {
          "base_uri": "https://localhost:8080/",
          "height": 34
        },
        "outputId": "0771bd6f-f7d5-419c-ec69-7ad49eb1689b"
      },
      "source": [
        "France_covid_trend_free.index.get_loc(pd.to_datetime('2020-04-04').date())"
      ],
      "execution_count": 20,
      "outputs": [
        {
          "output_type": "execute_result",
          "data": {
            "text/plain": [
              "71"
            ]
          },
          "metadata": {
            "tags": []
          },
          "execution_count": 20
        }
      ]
    },
    {
      "cell_type": "markdown",
      "metadata": {
        "id": "2cj3wq_6Zszb",
        "colab_type": "text"
      },
      "source": [
        "Немного сгладим выброс в исходном ряду и ряду Confirmed_exp, как среднее соседних пиков. Эту дату будем использовать только в тренировочной выборке"
      ]
    },
    {
      "cell_type": "code",
      "metadata": {
        "id": "Zwm3n0FBlHef",
        "colab_type": "code",
        "colab": {
          "base_uri": "https://localhost:8080/",
          "height": 34
        },
        "outputId": "674ed027-eac3-4824-d9ec-276c9a856bdd"
      },
      "source": [
        "France_covid['Confirmed_daily'][71]"
      ],
      "execution_count": 21,
      "outputs": [
        {
          "output_type": "execute_result",
          "data": {
            "text/plain": [
              "25646.0"
            ]
          },
          "metadata": {
            "tags": []
          },
          "execution_count": 21
        }
      ]
    },
    {
      "cell_type": "code",
      "metadata": {
        "id": "IsBmuEeKEuJ-",
        "colab_type": "code",
        "colab": {
          "base_uri": "https://localhost:8080/",
          "height": 255
        },
        "outputId": "529c492f-09cf-49d1-d861-34cd6e6889e3"
      },
      "source": [
        "France_covid['Confirmed_daily'][67:80]"
      ],
      "execution_count": 22,
      "outputs": [
        {
          "output_type": "execute_result",
          "data": {
            "text/plain": [
              "Date\n",
              "2020-03-31     7657.0\n",
              "2020-04-01     4922.0\n",
              "2020-04-02     2180.0\n",
              "2020-04-03     5273.0\n",
              "2020-04-04    25646.0\n",
              "2020-04-05     2925.0\n",
              "2020-04-06     5190.0\n",
              "2020-04-07    11102.0\n",
              "2020-04-08     3894.0\n",
              "2020-04-09     4822.0\n",
              "2020-04-10     7150.0\n",
              "2020-04-11     4796.0\n",
              "Name: Confirmed_daily, dtype: float64"
            ]
          },
          "metadata": {
            "tags": []
          },
          "execution_count": 22
        }
      ]
    },
    {
      "cell_type": "code",
      "metadata": {
        "id": "6v9IuZCSlT9S",
        "colab_type": "code",
        "colab": {
          "base_uri": "https://localhost:8080/",
          "height": 34
        },
        "outputId": "57720ce5-90e9-4f7a-fc22-faf8acae7c48"
      },
      "source": [
        "France_covid['Confirmed_daily'][71]=np.mean([France_covid['Confirmed_daily'][67],France_covid['Confirmed_daily'][74]])\n",
        "France_covid['Confirmed_daily'][71]"
      ],
      "execution_count": 23,
      "outputs": [
        {
          "output_type": "execute_result",
          "data": {
            "text/plain": [
              "9379.5"
            ]
          },
          "metadata": {
            "tags": []
          },
          "execution_count": 23
        }
      ]
    },
    {
      "cell_type": "code",
      "metadata": {
        "id": "wQsfIGn5kLR8",
        "colab_type": "code",
        "colab": {
          "base_uri": "https://localhost:8080/",
          "height": 255
        },
        "outputId": "c7a150cf-a3ee-4dd1-e619-c1313aa7e819"
      },
      "source": [
        "France_covid['Confirmed_daily'][67:80]"
      ],
      "execution_count": 24,
      "outputs": [
        {
          "output_type": "execute_result",
          "data": {
            "text/plain": [
              "Date\n",
              "2020-03-31     7657.0\n",
              "2020-04-01     4922.0\n",
              "2020-04-02     2180.0\n",
              "2020-04-03     5273.0\n",
              "2020-04-04     9379.5\n",
              "2020-04-05     2925.0\n",
              "2020-04-06     5190.0\n",
              "2020-04-07    11102.0\n",
              "2020-04-08     3894.0\n",
              "2020-04-09     4822.0\n",
              "2020-04-10     7150.0\n",
              "2020-04-11     4796.0\n",
              "Name: Confirmed_daily, dtype: float64"
            ]
          },
          "metadata": {
            "tags": []
          },
          "execution_count": 24
        }
      ]
    },
    {
      "cell_type": "code",
      "metadata": {
        "id": "c_a7UO7kiuJ_",
        "colab_type": "code",
        "colab": {
          "base_uri": "https://localhost:8080/",
          "height": 34
        },
        "outputId": "ed9901be-040c-4e5d-ad3c-25e4cae62b75"
      },
      "source": [
        "Confirmed_exp[71]=np.mean([Confirmed_exp[67],Confirmed_exp[74]])\n",
        "Confirmed_exp[71]"
      ],
      "execution_count": 25,
      "outputs": [
        {
          "output_type": "execute_result",
          "data": {
            "text/plain": [
              "5994.708067959313"
            ]
          },
          "metadata": {
            "tags": []
          },
          "execution_count": 25
        }
      ]
    },
    {
      "cell_type": "code",
      "metadata": {
        "id": "O4YOossqQQd4",
        "colab_type": "code",
        "colab": {}
      },
      "source": [
        "France_covid_trend_free=France_covid['Confirmed_daily'] - Confirmed_exp"
      ],
      "execution_count": 0,
      "outputs": []
    },
    {
      "cell_type": "code",
      "metadata": {
        "id": "dSQDkpFNkdxR",
        "colab_type": "code",
        "colab": {
          "base_uri": "https://localhost:8080/",
          "height": 367
        },
        "outputId": "bc1114e6-6ec7-46db-ed1c-6b0dc1466a95"
      },
      "source": [
        "plt.figure(figsize=(20,5))\n",
        "France_covid['Confirmed_daily'].plot(title='Covid_France', label='реальные подтвержденные случаи')\n",
        "plt.plot(France_covid.index,Confirmed_exp, label='экспоненциальное сглаживание')\n",
        "plt.plot(France_covid_trend_free, color = 'green', label=\"без тренда по экспоненциальному сглаживанию\")\n",
        "plt.legend()"
      ],
      "execution_count": 27,
      "outputs": [
        {
          "output_type": "execute_result",
          "data": {
            "text/plain": [
              "<matplotlib.legend.Legend at 0x7f96fd0db4e0>"
            ]
          },
          "metadata": {
            "tags": []
          },
          "execution_count": 27
        },
        {
          "output_type": "display_data",
          "data": {
            "image/png": "[encoded data removed]",
            "text/plain": [
              "<Figure size 1440x360 with 1 Axes>"
            ]
          },
          "metadata": {
            "tags": [],
            "needs_background": "light"
          }
        }
      ]
    },
    {
      "cell_type": "markdown",
      "metadata": {
        "id": "p3i8VSLASTDN",
        "colab_type": "text"
      },
      "source": [
        "Построим датасет для прогноза"
      ]
    },
    {
      "cell_type": "code",
      "metadata": {
        "id": "JqmR7rHYRhsG",
        "colab_type": "code",
        "outputId": "acd39824-58b2-4ced-c510-372b78a63123",
        "colab": {
          "base_uri": "https://localhost:8080/",
          "height": 535
        }
      },
      "source": [
        "df= pd.DataFrame(Confirmed_exp)\n",
        " # добавили историю на глубину 3 измерения от текущего (р=3)\n",
        "df['t'] = 0\n",
        "df.iloc[1:,1]=df.iloc[:-1,0].values\n",
        "df['t1']=0\n",
        "df.iloc[2:,2]=df.iloc[:-2,0].values\n",
        "df['t2']=0\n",
        "df.iloc[3:,3]=df.iloc[:-3,0].values\n",
        "df.fillna(0)\n",
        "# добавили сглаживание (3 вида - просто для коллекции)\n",
        "df['exp_0_01'] = exponential_smoothing(df[0], 0.05)\n",
        "df['exp_0_03'] = exponential_smoothing(df[0], 0.09)\n",
        "df['exp_0_08'] = exponential_smoothing(df[0], 0.5)\n",
        "# добавим разности - 1-й порядок\n",
        "df['diff1'] = 0\n",
        "df['diff1'].iloc[1:] = df.iloc[1:,0].values-df.iloc[:-1,0].values\n",
        "\n",
        "# добавим относительную разницу между соседними значениями\n",
        "df['diff2'] = 0\n",
        "df['diff2'].iloc[1:] = df.iloc[1:,0].values/df.iloc[:-1,0].values\n",
        "\n",
        "\n",
        "\n",
        "df.index=France_covid.index\n",
        "\n",
        "\n",
        "df"
      ],
      "execution_count": 28,
      "outputs": [
        {
          "output_type": "stream",
          "text": [
            "/usr/local/lib/python3.6/dist-packages/pandas/core/indexing.py:671: SettingWithCopyWarning: \n",
            "A value is trying to be set on a copy of a slice from a DataFrame\n",
            "\n",
            "See the caveats in the documentation: https://pandas.pydata.org/pandas-docs/stable/user_guide/indexing.html#returning-a-view-versus-a-copy\n",
            "  self._setitem_with_indexer(indexer, value)\n"
          ],
          "name": "stderr"
        },
        {
          "output_type": "execute_result",
          "data": {
            "text/html": [
              "<div>\n",
              "<style scoped>\n",
              "    .dataframe tbody tr th:only-of-type {\n",
              "        vertical-align: middle;\n",
              "    }\n",
              "\n",
              "    .dataframe tbody tr th {\n",
              "        vertical-align: top;\n",
              "    }\n",
              "\n",
              "    .dataframe thead th {\n",
              "        text-align: right;\n",
              "    }\n",
              "</style>\n",
              "<table border=\"1\" class=\"dataframe\">\n",
              "  <thead>\n",
              "    <tr style=\"text-align: right;\">\n",
              "      <th></th>\n",
              "      <th>0</th>\n",
              "      <th>t</th>\n",
              "      <th>t1</th>\n",
              "      <th>t2</th>\n",
              "      <th>exp_0_01</th>\n",
              "      <th>exp_0_03</th>\n",
              "      <th>exp_0_08</th>\n",
              "      <th>diff1</th>\n",
              "      <th>diff2</th>\n",
              "    </tr>\n",
              "    <tr>\n",
              "      <th>Date</th>\n",
              "      <th></th>\n",
              "      <th></th>\n",
              "      <th></th>\n",
              "      <th></th>\n",
              "      <th></th>\n",
              "      <th></th>\n",
              "      <th></th>\n",
              "      <th></th>\n",
              "      <th></th>\n",
              "    </tr>\n",
              "  </thead>\n",
              "  <tbody>\n",
              "    <tr>\n",
              "      <th>2020-01-24</th>\n",
              "      <td>2.000000</td>\n",
              "      <td>0.000000</td>\n",
              "      <td>0.000000</td>\n",
              "      <td>0.000000</td>\n",
              "      <td>2.000000</td>\n",
              "      <td>2.000000</td>\n",
              "      <td>2.000000</td>\n",
              "      <td>0.000000</td>\n",
              "      <td>0.000000</td>\n",
              "    </tr>\n",
              "    <tr>\n",
              "      <th>2020-01-25</th>\n",
              "      <td>1.800000</td>\n",
              "      <td>2.000000</td>\n",
              "      <td>0.000000</td>\n",
              "      <td>0.000000</td>\n",
              "      <td>1.990000</td>\n",
              "      <td>1.982000</td>\n",
              "      <td>1.900000</td>\n",
              "      <td>-0.200000</td>\n",
              "      <td>0.900000</td>\n",
              "    </tr>\n",
              "    <tr>\n",
              "      <th>2020-01-26</th>\n",
              "      <td>1.440000</td>\n",
              "      <td>1.800000</td>\n",
              "      <td>2.000000</td>\n",
              "      <td>0.000000</td>\n",
              "      <td>1.962500</td>\n",
              "      <td>1.933220</td>\n",
              "      <td>1.670000</td>\n",
              "      <td>-0.360000</td>\n",
              "      <td>0.800000</td>\n",
              "    </tr>\n",
              "    <tr>\n",
              "      <th>2020-01-27</th>\n",
              "      <td>1.152000</td>\n",
              "      <td>1.440000</td>\n",
              "      <td>1.800000</td>\n",
              "      <td>2.000000</td>\n",
              "      <td>1.921975</td>\n",
              "      <td>1.862910</td>\n",
              "      <td>1.411000</td>\n",
              "      <td>-0.288000</td>\n",
              "      <td>0.800000</td>\n",
              "    </tr>\n",
              "    <tr>\n",
              "      <th>2020-01-28</th>\n",
              "      <td>1.121600</td>\n",
              "      <td>1.152000</td>\n",
              "      <td>1.440000</td>\n",
              "      <td>1.800000</td>\n",
              "      <td>1.881956</td>\n",
              "      <td>1.796192</td>\n",
              "      <td>1.266300</td>\n",
              "      <td>-0.030400</td>\n",
              "      <td>0.973611</td>\n",
              "    </tr>\n",
              "    <tr>\n",
              "      <th>...</th>\n",
              "      <td>...</td>\n",
              "      <td>...</td>\n",
              "      <td>...</td>\n",
              "      <td>...</td>\n",
              "      <td>...</td>\n",
              "      <td>...</td>\n",
              "      <td>...</td>\n",
              "      <td>...</td>\n",
              "      <td>...</td>\n",
              "    </tr>\n",
              "    <tr>\n",
              "      <th>2020-04-07</th>\n",
              "      <td>7769.267011</td>\n",
              "      <td>6936.083764</td>\n",
              "      <td>7372.604705</td>\n",
              "      <td>5994.708068</td>\n",
              "      <td>2729.258887</td>\n",
              "      <td>3953.639412</td>\n",
              "      <td>7170.234442</td>\n",
              "      <td>833.183247</td>\n",
              "      <td>1.120123</td>\n",
              "    </tr>\n",
              "    <tr>\n",
              "      <th>2020-04-08</th>\n",
              "      <td>6994.213609</td>\n",
              "      <td>7769.267011</td>\n",
              "      <td>6936.083764</td>\n",
              "      <td>7372.604705</td>\n",
              "      <td>2942.506623</td>\n",
              "      <td>4227.291090</td>\n",
              "      <td>7082.224025</td>\n",
              "      <td>-775.053402</td>\n",
              "      <td>0.900241</td>\n",
              "    </tr>\n",
              "    <tr>\n",
              "      <th>2020-04-09</th>\n",
              "      <td>6559.770887</td>\n",
              "      <td>6994.213609</td>\n",
              "      <td>7769.267011</td>\n",
              "      <td>6936.083764</td>\n",
              "      <td>3123.369836</td>\n",
              "      <td>4437.214272</td>\n",
              "      <td>6820.997456</td>\n",
              "      <td>-434.442722</td>\n",
              "      <td>0.937885</td>\n",
              "    </tr>\n",
              "    <tr>\n",
              "      <th>2020-04-10</th>\n",
              "      <td>6677.816710</td>\n",
              "      <td>6559.770887</td>\n",
              "      <td>6994.213609</td>\n",
              "      <td>7769.267011</td>\n",
              "      <td>3301.092180</td>\n",
              "      <td>4638.868491</td>\n",
              "      <td>6749.407083</td>\n",
              "      <td>118.045823</td>\n",
              "      <td>1.017995</td>\n",
              "    </tr>\n",
              "    <tr>\n",
              "      <th>2020-04-11</th>\n",
              "      <td>6301.453368</td>\n",
              "      <td>6677.816710</td>\n",
              "      <td>6559.770887</td>\n",
              "      <td>6994.213609</td>\n",
              "      <td>3451.110239</td>\n",
              "      <td>4788.501130</td>\n",
              "      <td>6525.430225</td>\n",
              "      <td>-376.363342</td>\n",
              "      <td>0.943640</td>\n",
              "    </tr>\n",
              "  </tbody>\n",
              "</table>\n",
              "<p>79 rows × 9 columns</p>\n",
              "</div>"
            ],
            "text/plain": [
              "                      0            t  ...       diff1     diff2\n",
              "Date                                  ...                      \n",
              "2020-01-24     2.000000     0.000000  ...    0.000000  0.000000\n",
              "2020-01-25     1.800000     2.000000  ...   -0.200000  0.900000\n",
              "2020-01-26     1.440000     1.800000  ...   -0.360000  0.800000\n",
              "2020-01-27     1.152000     1.440000  ...   -0.288000  0.800000\n",
              "2020-01-28     1.121600     1.152000  ...   -0.030400  0.973611\n",
              "...                 ...          ...  ...         ...       ...\n",
              "2020-04-07  7769.267011  6936.083764  ...  833.183247  1.120123\n",
              "2020-04-08  6994.213609  7769.267011  ... -775.053402  0.900241\n",
              "2020-04-09  6559.770887  6994.213609  ... -434.442722  0.937885\n",
              "2020-04-10  6677.816710  6559.770887  ...  118.045823  1.017995\n",
              "2020-04-11  6301.453368  6677.816710  ... -376.363342  0.943640\n",
              "\n",
              "[79 rows x 9 columns]"
            ]
          },
          "metadata": {
            "tags": []
          },
          "execution_count": 28
        }
      ]
    },
    {
      "cell_type": "markdown",
      "metadata": {
        "id": "oa15pKGg1K88",
        "colab_type": "text"
      },
      "source": [
        "Построим модель градиентного бустинга"
      ]
    },
    {
      "cell_type": "code",
      "metadata": {
        "id": "Wk14GfVDtn50",
        "colab_type": "code",
        "outputId": "80ea7e9b-8642-43eb-8460-74dc7133a33f",
        "colab": {
          "base_uri": "https://localhost:8080/",
          "height": 350
        }
      },
      "source": [
        "from sklearn.ensemble import GradientBoostingRegressor\n",
        "from sklearn.preprocessing import StandardScaler\n",
        "\n",
        "from sklearn.metrics import mean_absolute_error, mean_squared_error, median_absolute_error, r2_score\n",
        "scl =StandardScaler()\n",
        "scly =StandardScaler()\n",
        "\n",
        "# сделаем примеры и модель \n",
        "def split_data_b( data, split_date ):\n",
        "    return data.loc[data.index.get_level_values('Date') <= split_date].copy(), \\\n",
        "           data.loc[data.index.get_level_values('Date') >=  split_date].copy()\n",
        "\n",
        "train_b, test_b = split_data_b( df, pd.to_datetime('2020-04-05').date())\n",
        "\n",
        "X_train_b = train_b.iloc[:-1,:]\n",
        "y_train_b = train_b[df.columns[0]].values[1:]\n",
        "X_test_b = test_b.iloc[:-1,:]\n",
        "y_test_b = test_b[df.columns[0]].values[1:]\n",
        "\n",
        "\n",
        "plt.figure( figsize=( 10, 5 ))\n",
        "plt.xlabel('Время')\n",
        "plt.ylabel('количество подтвержденных случаев')\n",
        "plt.plot(train_b.index.get_level_values('Date'),train_b[df.columns[0]], label='train data')\n",
        "\n",
        "plt.plot(test_b.index.get_level_values('Date'),test_b[df.columns[0]], label='test data')\n",
        "plt.title( 'Тестовые и тренировочные данные' )\n",
        "plt.legend()\n",
        "plt.show()"
      ],
      "execution_count": 29,
      "outputs": [
        {
          "output_type": "display_data",
          "data": {
            "image/png": "[encoded data removed]",
            "text/plain": [
              "<Figure size 720x360 with 1 Axes>"
            ]
          },
          "metadata": {
            "tags": [],
            "needs_background": "light"
          }
        }
      ]
    },
    {
      "cell_type": "code",
      "metadata": {
        "id": "KikzWYv-MM_Y",
        "colab_type": "code",
        "colab": {
          "base_uri": "https://localhost:8080/",
          "height": 266
        },
        "outputId": "5b733aaa-3a08-4631-acf4-d806dc4084bb"
      },
      "source": [
        "X_test_b"
      ],
      "execution_count": 30,
      "outputs": [
        {
          "output_type": "execute_result",
          "data": {
            "text/html": [
              "<div>\n",
              "<style scoped>\n",
              "    .dataframe tbody tr th:only-of-type {\n",
              "        vertical-align: middle;\n",
              "    }\n",
              "\n",
              "    .dataframe tbody tr th {\n",
              "        vertical-align: top;\n",
              "    }\n",
              "\n",
              "    .dataframe thead th {\n",
              "        text-align: right;\n",
              "    }\n",
              "</style>\n",
              "<table border=\"1\" class=\"dataframe\">\n",
              "  <thead>\n",
              "    <tr style=\"text-align: right;\">\n",
              "      <th></th>\n",
              "      <th>0</th>\n",
              "      <th>t</th>\n",
              "      <th>t1</th>\n",
              "      <th>t2</th>\n",
              "      <th>exp_0_01</th>\n",
              "      <th>exp_0_03</th>\n",
              "      <th>exp_0_08</th>\n",
              "      <th>diff1</th>\n",
              "      <th>diff2</th>\n",
              "    </tr>\n",
              "    <tr>\n",
              "      <th>Date</th>\n",
              "      <th></th>\n",
              "      <th></th>\n",
              "      <th></th>\n",
              "      <th></th>\n",
              "      <th></th>\n",
              "      <th></th>\n",
              "      <th></th>\n",
              "      <th></th>\n",
              "      <th></th>\n",
              "    </tr>\n",
              "  </thead>\n",
              "  <tbody>\n",
              "    <tr>\n",
              "      <th>2020-04-05</th>\n",
              "      <td>7372.604705</td>\n",
              "      <td>5994.708068</td>\n",
              "      <td>4194.132352</td>\n",
              "      <td>3924.415440</td>\n",
              "      <td>2228.622224</td>\n",
              "      <td>3243.980342</td>\n",
              "      <td>6206.319980</td>\n",
              "      <td>1377.896637</td>\n",
              "      <td>1.229852</td>\n",
              "    </tr>\n",
              "    <tr>\n",
              "      <th>2020-04-06</th>\n",
              "      <td>6936.083764</td>\n",
              "      <td>7372.604705</td>\n",
              "      <td>5994.708068</td>\n",
              "      <td>4194.132352</td>\n",
              "      <td>2463.995301</td>\n",
              "      <td>3576.269650</td>\n",
              "      <td>6571.201872</td>\n",
              "      <td>-436.520941</td>\n",
              "      <td>0.940791</td>\n",
              "    </tr>\n",
              "    <tr>\n",
              "      <th>2020-04-07</th>\n",
              "      <td>7769.267011</td>\n",
              "      <td>6936.083764</td>\n",
              "      <td>7372.604705</td>\n",
              "      <td>5994.708068</td>\n",
              "      <td>2729.258887</td>\n",
              "      <td>3953.639412</td>\n",
              "      <td>7170.234442</td>\n",
              "      <td>833.183247</td>\n",
              "      <td>1.120123</td>\n",
              "    </tr>\n",
              "    <tr>\n",
              "      <th>2020-04-08</th>\n",
              "      <td>6994.213609</td>\n",
              "      <td>7769.267011</td>\n",
              "      <td>6936.083764</td>\n",
              "      <td>7372.604705</td>\n",
              "      <td>2942.506623</td>\n",
              "      <td>4227.291090</td>\n",
              "      <td>7082.224025</td>\n",
              "      <td>-775.053402</td>\n",
              "      <td>0.900241</td>\n",
              "    </tr>\n",
              "    <tr>\n",
              "      <th>2020-04-09</th>\n",
              "      <td>6559.770887</td>\n",
              "      <td>6994.213609</td>\n",
              "      <td>7769.267011</td>\n",
              "      <td>6936.083764</td>\n",
              "      <td>3123.369836</td>\n",
              "      <td>4437.214272</td>\n",
              "      <td>6820.997456</td>\n",
              "      <td>-434.442722</td>\n",
              "      <td>0.937885</td>\n",
              "    </tr>\n",
              "    <tr>\n",
              "      <th>2020-04-10</th>\n",
              "      <td>6677.816710</td>\n",
              "      <td>6559.770887</td>\n",
              "      <td>6994.213609</td>\n",
              "      <td>7769.267011</td>\n",
              "      <td>3301.092180</td>\n",
              "      <td>4638.868491</td>\n",
              "      <td>6749.407083</td>\n",
              "      <td>118.045823</td>\n",
              "      <td>1.017995</td>\n",
              "    </tr>\n",
              "  </tbody>\n",
              "</table>\n",
              "</div>"
            ],
            "text/plain": [
              "                      0            t  ...        diff1     diff2\n",
              "Date                                  ...                       \n",
              "2020-04-05  7372.604705  5994.708068  ...  1377.896637  1.229852\n",
              "2020-04-06  6936.083764  7372.604705  ...  -436.520941  0.940791\n",
              "2020-04-07  7769.267011  6936.083764  ...   833.183247  1.120123\n",
              "2020-04-08  6994.213609  7769.267011  ...  -775.053402  0.900241\n",
              "2020-04-09  6559.770887  6994.213609  ...  -434.442722  0.937885\n",
              "2020-04-10  6677.816710  6559.770887  ...   118.045823  1.017995\n",
              "\n",
              "[6 rows x 9 columns]"
            ]
          },
          "metadata": {
            "tags": []
          },
          "execution_count": 30
        }
      ]
    },
    {
      "cell_type": "code",
      "metadata": {
        "id": "RJJVKQx1Myxf",
        "colab_type": "code",
        "colab": {
          "base_uri": "https://localhost:8080/",
          "height": 51
        },
        "outputId": "4a3139a9-7219-4d09-9b57-47c18c82a92d"
      },
      "source": [
        "y_test_b"
      ],
      "execution_count": 31,
      "outputs": [
        {
          "output_type": "execute_result",
          "data": {
            "text/plain": [
              "array([6936.08376412, 7769.2670113 , 6994.21360904, 6559.77088723,\n",
              "       6677.81670979, 6301.45336783])"
            ]
          },
          "metadata": {
            "tags": []
          },
          "execution_count": 31
        }
      ]
    },
    {
      "cell_type": "code",
      "metadata": {
        "id": "nCLGn63Hy-p7",
        "colab_type": "code",
        "outputId": "fcea4c4e-b468-4034-dc9e-f66f943d5da1",
        "colab": {
          "base_uri": "https://localhost:8080/",
          "height": 296
        }
      },
      "source": [
        "def mean_absolute_percentage_error(y_true, y_pred): \n",
        "    y_true, y_pred = np.array(y_true), np.array(y_pred)\n",
        "    return np.mean(np.abs((y_true - y_pred) / y_true)) * 100\n",
        "\n",
        "model_gb = GradientBoostingRegressor(max_depth=15, random_state=42, n_estimators=100)\n",
        "model_gb.fit( X_train_b, y_train_b ) \n",
        "X_test_pred_gb = model_gb.predict(X_test_b)\n",
        "\n",
        "plt.figure( figsize=( 20, 4 ))\n",
        "\n",
        "plt.xlabel('Время')\n",
        "plt.ylabel('количество подтвержденных случаев')\n",
        "plt.bar(test_b.index[1:],X_test_pred_gb, label='predict GB data', color='lightgreen')\n",
        "plt.plot(test_b.index[1:],y_test_b, label='test data')\n",
        "\n",
        "\n",
        "plt.legend()\n",
        "plt.show()\n",
        "\n",
        "er_g = mean_absolute_percentage_error(y_true=y_test_b, y_pred=X_test_pred_gb)\n",
        "\n",
        "print('ошибка градиентного бустинга :  ', er_g, '%')"
      ],
      "execution_count": 32,
      "outputs": [
        {
          "output_type": "display_data",
          "data": {
            "image/png": "[encoded data removed]",
            "text/plain": [
              "<Figure size 1440x288 with 1 Axes>"
            ]
          },
          "metadata": {
            "tags": [],
            "needs_background": "light"
          }
        },
        {
          "output_type": "stream",
          "text": [
            "ошибка градиентного бустинга :   5.768429247041148 %\n"
          ],
          "name": "stdout"
        }
      ]
    },
    {
      "cell_type": "code",
      "metadata": {
        "id": "B6KXRQXe2dDX",
        "colab_type": "code",
        "outputId": "cb39bb43-c905-4acb-e1ab-6d6cebfadd18",
        "colab": {
          "base_uri": "https://localhost:8080/",
          "height": 85
        }
      },
      "source": [
        "y_test_b, X_test_pred_gb"
      ],
      "execution_count": 33,
      "outputs": [
        {
          "output_type": "execute_result",
          "data": {
            "text/plain": [
              "(array([6936.08376412, 7769.2670113 , 6994.21360904, 6559.77088723,\n",
              "        6677.81670979, 6301.45336783]),\n",
              " array([6527.89219616, 6486.83200608, 6636.07401975, 6636.07401975,\n",
              "        6636.07401975, 6636.07401975]))"
            ]
          },
          "metadata": {
            "tags": []
          },
          "execution_count": 33
        }
      ]
    },
    {
      "cell_type": "markdown",
      "metadata": {
        "id": "ijRWMHze6Dd_",
        "colab_type": "text"
      },
      "source": [
        "3 дня"
      ]
    },
    {
      "cell_type": "code",
      "metadata": {
        "id": "Y-dX5t5wT_X2",
        "colab_type": "code",
        "colab": {
          "base_uri": "https://localhost:8080/",
          "height": 296
        },
        "outputId": "b4655678-1032-4e0e-d9e6-64564028bd9b"
      },
      "source": [
        "h=3\n",
        "\n",
        "X_train_b = train_b.iloc[:-h,:]\n",
        "y_train_b = train_b[df.columns[0]].values[h:]\n",
        "X_test_b = test_b.iloc[:-h,:]\n",
        "y_test_b = test_b[df.columns[0]].values[h:]\n",
        "\n",
        "\n",
        "model_gb.fit( X_train_b, y_train_b ) \n",
        "X_test_pred_gb = model_gb.predict(X_test_b)\n",
        "\n",
        "plt.figure( figsize=(10, 4 ))\n",
        "\n",
        "plt.xlabel('Время')\n",
        "plt.ylabel('количество подтвержденных случаев')\n",
        "plt.bar(test_b.index[h:],X_test_pred_gb, label='predict GB data', color='lightgreen')\n",
        "plt.plot(test_b.index[h:],y_test_b, label='test data')\n",
        "\n",
        "plt.legend()\n",
        "plt.show()\n",
        "\n",
        "er_g = mean_absolute_percentage_error(y_true=y_test_b, y_pred=X_test_pred_gb)\n",
        "\n",
        "print('ошибка градиентного бустинга :  ', er_g, '%')\n"
      ],
      "execution_count": 34,
      "outputs": [
        {
          "output_type": "display_data",
          "data": {
            "image/png": "[encoded data removed]",
            "text/plain": [
              "<Figure size 720x288 with 1 Axes>"
            ]
          },
          "metadata": {
            "tags": [],
            "needs_background": "light"
          }
        },
        {
          "output_type": "stream",
          "text": [
            "ошибка градиентного бустинга :   6.987835561373962 %\n"
          ],
          "name": "stdout"
        }
      ]
    },
    {
      "cell_type": "markdown",
      "metadata": {
        "id": "s0BaesZTWiDD",
        "colab_type": "text"
      },
      "source": [
        "3. Сделайте вывод о том, как изменилась ошибка модели по значениям h."
      ]
    },
    {
      "cell_type": "markdown",
      "metadata": {
        "id": "DELYVin2WlqD",
        "colab_type": "text"
      },
      "source": [
        "**С ростом h ошибка прогноза увеличивается**"
      ]
    },
    {
      "cell_type": "markdown",
      "metadata": {
        "id": "Y471Kz7_Wuex",
        "colab_type": "text"
      },
      "source": [
        "4. Попробуйте предположить характер ряда (стационарный или нет, с трендом, с сезоном, с циклом) для рядов из списка и аргументируйте свой ответ (одна строка):\n",
        "\n",
        "а) Изменение температуры за окном :). **- ряд нестационарный, с сезоном (времена года) и циклом (годовой цикл)**\n",
        "\n",
        "б) Количество денег, которые тратят покупатели в интернет магазине.- **- ряд нестационарный, с сезоном (праздники) и циклом (годовые циклы), а также может имется растущий тренд с ростом инфляции**\n",
        "\n",
        "в) Вес растущего котенка. - - **- ряд нестационарный, с растущим трендом**\n",
        "\n",
        "г) Прирост объема деревьев в лесу от времени - - **- ряд нестационарный, с сезоном (максимальные значения прироста наблюдается весной-летом) и циклом (годовые циклы)**"
      ]
    },
    {
      "cell_type": "code",
      "metadata": {
        "id": "LaDMxOUDZFSn",
        "colab_type": "code",
        "colab": {}
      },
      "source": [
        ""
      ],
      "execution_count": 0,
      "outputs": []
    }
  ]
}