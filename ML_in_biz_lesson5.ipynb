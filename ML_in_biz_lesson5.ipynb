{
  "nbformat": 4,
  "nbformat_minor": 0,
  "metadata": {
    "colab": {
      "name": "ML_in_biz_lesson5.ipynb",
      "provenance": [],
      "collapsed_sections": [],
      "authorship_tag": "ABX9TyMVN4iQN81b3ZHlcJ5nhWxN",
      "include_colab_link": true
    },
    "kernelspec": {
      "name": "python3",
      "display_name": "Python 3"
    }
  },
  "cells": [
    {
      "cell_type": "markdown",
      "metadata": {
        "id": "view-in-github",
        "colab_type": "text"
      },
      "source": [
        "<a href=\"https://colab.research.google.com/github/RenataTNT/ML_in_Production/blob/master/ML_in_biz_lesson5.ipynb\" target=\"_parent\"><img src=\"https://colab.research.google.com/assets/colab-badge.svg\" alt=\"Open In Colab\"/></a>"
      ]
    },
    {
      "cell_type": "markdown",
      "metadata": {
        "id": "kfsWf2FkJiN5",
        "colab_type": "text"
      },
      "source": [
        "Прочитайте базу my_BRENT2019.csv. Сделайте ее перерасчет (ресемплинг) в представление по неделям и перейдите к представлению ряда первыми разностями.\n",
        "Добавьте первые разности по стоимости доллара и евро к рублю (недельные).\n",
        "\n",
        "Постройте модель предсказания 1-й точки от текущей (h=1).\n",
        "\n",
        "Сделайте вывод о поведении ошибки предсказания ряда в сравнении с прямым прогнозированием"
      ]
    },
    {
      "cell_type": "code",
      "metadata": {
        "id": "KTAhH_FpK4n6",
        "colab_type": "code",
        "colab": {}
      },
      "source": [
        "import pandas as pd\n",
        "import matplotlib.pyplot as plt\n",
        "import numpy as np\n"
      ],
      "execution_count": 0,
      "outputs": []
    },
    {
      "cell_type": "code",
      "metadata": {
        "id": "L1-AbNYHLF6F",
        "colab_type": "code",
        "colab": {
          "base_uri": "https://localhost:8080/",
          "height": 450
        },
        "outputId": "1d485f1c-0341-4699-9e83-1ffd1ad98259"
      },
      "source": [
        "brent_data = pd.read_csv('my_BRENT2019.csv',index_col=[0], parse_dates=[0])\n",
        "brent_data"
      ],
      "execution_count": 168,
      "outputs": [
        {
          "output_type": "execute_result",
          "data": {
            "text/html": [
              "<div>\n",
              "<style scoped>\n",
              "    .dataframe tbody tr th:only-of-type {\n",
              "        vertical-align: middle;\n",
              "    }\n",
              "\n",
              "    .dataframe tbody tr th {\n",
              "        vertical-align: top;\n",
              "    }\n",
              "\n",
              "    .dataframe thead th {\n",
              "        text-align: right;\n",
              "    }\n",
              "</style>\n",
              "<table border=\"1\" class=\"dataframe\">\n",
              "  <thead>\n",
              "    <tr style=\"text-align: right;\">\n",
              "      <th></th>\n",
              "      <th>Значение</th>\n",
              "      <th>year</th>\n",
              "      <th>month</th>\n",
              "      <th>dayofmonth</th>\n",
              "      <th>quarter</th>\n",
              "      <th>dayofyear</th>\n",
              "      <th>weekofyear</th>\n",
              "      <th>dayofweek</th>\n",
              "      <th>is_holiday</th>\n",
              "      <th>is_prev_holiday</th>\n",
              "      <th>is_next_holiday</th>\n",
              "    </tr>\n",
              "    <tr>\n",
              "      <th>Дата</th>\n",
              "      <th></th>\n",
              "      <th></th>\n",
              "      <th></th>\n",
              "      <th></th>\n",
              "      <th></th>\n",
              "      <th></th>\n",
              "      <th></th>\n",
              "      <th></th>\n",
              "      <th></th>\n",
              "      <th></th>\n",
              "      <th></th>\n",
              "    </tr>\n",
              "  </thead>\n",
              "  <tbody>\n",
              "    <tr>\n",
              "      <th>2010-09-01</th>\n",
              "      <td>76.37</td>\n",
              "      <td>2010</td>\n",
              "      <td>9</td>\n",
              "      <td>1</td>\n",
              "      <td>3</td>\n",
              "      <td>244</td>\n",
              "      <td>35</td>\n",
              "      <td>2</td>\n",
              "      <td>0</td>\n",
              "      <td>0</td>\n",
              "      <td>0</td>\n",
              "    </tr>\n",
              "    <tr>\n",
              "      <th>2010-09-02</th>\n",
              "      <td>76.89</td>\n",
              "      <td>2010</td>\n",
              "      <td>9</td>\n",
              "      <td>2</td>\n",
              "      <td>3</td>\n",
              "      <td>245</td>\n",
              "      <td>35</td>\n",
              "      <td>3</td>\n",
              "      <td>0</td>\n",
              "      <td>0</td>\n",
              "      <td>0</td>\n",
              "    </tr>\n",
              "    <tr>\n",
              "      <th>2010-09-03</th>\n",
              "      <td>76.57</td>\n",
              "      <td>2010</td>\n",
              "      <td>9</td>\n",
              "      <td>3</td>\n",
              "      <td>3</td>\n",
              "      <td>246</td>\n",
              "      <td>35</td>\n",
              "      <td>4</td>\n",
              "      <td>0</td>\n",
              "      <td>0</td>\n",
              "      <td>0</td>\n",
              "    </tr>\n",
              "    <tr>\n",
              "      <th>2010-09-04</th>\n",
              "      <td>76.62</td>\n",
              "      <td>2010</td>\n",
              "      <td>9</td>\n",
              "      <td>4</td>\n",
              "      <td>3</td>\n",
              "      <td>247</td>\n",
              "      <td>35</td>\n",
              "      <td>5</td>\n",
              "      <td>0</td>\n",
              "      <td>0</td>\n",
              "      <td>0</td>\n",
              "    </tr>\n",
              "    <tr>\n",
              "      <th>2010-09-05</th>\n",
              "      <td>76.63</td>\n",
              "      <td>2010</td>\n",
              "      <td>9</td>\n",
              "      <td>5</td>\n",
              "      <td>3</td>\n",
              "      <td>248</td>\n",
              "      <td>35</td>\n",
              "      <td>6</td>\n",
              "      <td>0</td>\n",
              "      <td>1</td>\n",
              "      <td>0</td>\n",
              "    </tr>\n",
              "    <tr>\n",
              "      <th>...</th>\n",
              "      <td>...</td>\n",
              "      <td>...</td>\n",
              "      <td>...</td>\n",
              "      <td>...</td>\n",
              "      <td>...</td>\n",
              "      <td>...</td>\n",
              "      <td>...</td>\n",
              "      <td>...</td>\n",
              "      <td>...</td>\n",
              "      <td>...</td>\n",
              "      <td>...</td>\n",
              "    </tr>\n",
              "    <tr>\n",
              "      <th>2019-08-27</th>\n",
              "      <td>59.59</td>\n",
              "      <td>2019</td>\n",
              "      <td>8</td>\n",
              "      <td>27</td>\n",
              "      <td>3</td>\n",
              "      <td>239</td>\n",
              "      <td>35</td>\n",
              "      <td>1</td>\n",
              "      <td>0</td>\n",
              "      <td>0</td>\n",
              "      <td>0</td>\n",
              "    </tr>\n",
              "    <tr>\n",
              "      <th>2019-08-28</th>\n",
              "      <td>59.84</td>\n",
              "      <td>2019</td>\n",
              "      <td>8</td>\n",
              "      <td>28</td>\n",
              "      <td>3</td>\n",
              "      <td>240</td>\n",
              "      <td>35</td>\n",
              "      <td>2</td>\n",
              "      <td>0</td>\n",
              "      <td>0</td>\n",
              "      <td>0</td>\n",
              "    </tr>\n",
              "    <tr>\n",
              "      <th>2019-08-29</th>\n",
              "      <td>60.37</td>\n",
              "      <td>2019</td>\n",
              "      <td>8</td>\n",
              "      <td>29</td>\n",
              "      <td>3</td>\n",
              "      <td>241</td>\n",
              "      <td>35</td>\n",
              "      <td>3</td>\n",
              "      <td>0</td>\n",
              "      <td>0</td>\n",
              "      <td>0</td>\n",
              "    </tr>\n",
              "    <tr>\n",
              "      <th>2019-08-30</th>\n",
              "      <td>59.19</td>\n",
              "      <td>2019</td>\n",
              "      <td>8</td>\n",
              "      <td>30</td>\n",
              "      <td>3</td>\n",
              "      <td>242</td>\n",
              "      <td>35</td>\n",
              "      <td>4</td>\n",
              "      <td>0</td>\n",
              "      <td>0</td>\n",
              "      <td>0</td>\n",
              "    </tr>\n",
              "    <tr>\n",
              "      <th>2019-09-01</th>\n",
              "      <td>58.84</td>\n",
              "      <td>2019</td>\n",
              "      <td>9</td>\n",
              "      <td>1</td>\n",
              "      <td>3</td>\n",
              "      <td>244</td>\n",
              "      <td>35</td>\n",
              "      <td>6</td>\n",
              "      <td>0</td>\n",
              "      <td>1</td>\n",
              "      <td>0</td>\n",
              "    </tr>\n",
              "  </tbody>\n",
              "</table>\n",
              "<p>2667 rows × 11 columns</p>\n",
              "</div>"
            ],
            "text/plain": [
              "            Значение  year  month  ...  is_holiday  is_prev_holiday  is_next_holiday\n",
              "Дата                               ...                                              \n",
              "2010-09-01     76.37  2010      9  ...           0                0                0\n",
              "2010-09-02     76.89  2010      9  ...           0                0                0\n",
              "2010-09-03     76.57  2010      9  ...           0                0                0\n",
              "2010-09-04     76.62  2010      9  ...           0                0                0\n",
              "2010-09-05     76.63  2010      9  ...           0                1                0\n",
              "...              ...   ...    ...  ...         ...              ...              ...\n",
              "2019-08-27     59.59  2019      8  ...           0                0                0\n",
              "2019-08-28     59.84  2019      8  ...           0                0                0\n",
              "2019-08-29     60.37  2019      8  ...           0                0                0\n",
              "2019-08-30     59.19  2019      8  ...           0                0                0\n",
              "2019-09-01     58.84  2019      9  ...           0                1                0\n",
              "\n",
              "[2667 rows x 11 columns]"
            ]
          },
          "metadata": {
            "tags": []
          },
          "execution_count": 168
        }
      ]
    },
    {
      "cell_type": "code",
      "metadata": {
        "id": "PPB08pQ_TCTv",
        "colab_type": "code",
        "colab": {}
      },
      "source": [
        ""
      ],
      "execution_count": 0,
      "outputs": []
    },
    {
      "cell_type": "code",
      "metadata": {
        "id": "o-uDceT0LhPo",
        "colab_type": "code",
        "colab": {
          "base_uri": "https://localhost:8080/",
          "height": 449
        },
        "outputId": "2b629fd7-928f-4e12-ead3-e3d3a718b5b3"
      },
      "source": [
        "brent_data['Значение'].plot( style='.', figsize=( 15, 7 ), title='Brent ')\n",
        "plt.ylabel('USA dollar')\n",
        "plt.xlabel('t')"
      ],
      "execution_count": 169,
      "outputs": [
        {
          "output_type": "execute_result",
          "data": {
            "text/plain": [
              "Text(0.5, 0, 't')"
            ]
          },
          "metadata": {
            "tags": []
          },
          "execution_count": 169
        },
        {
          "output_type": "display_data",
          "data": {
            "image/png": "[encoded data removed]",
            "text/plain": [
              "<Figure size 1080x504 with 1 Axes>"
            ]
          },
          "metadata": {
            "tags": [],
            "needs_background": "light"
          }
        }
      ]
    },
    {
      "cell_type": "markdown",
      "metadata": {
        "id": "-jfB96wXLqpF",
        "colab_type": "text"
      },
      "source": [
        "недельный ресемплинг:"
      ]
    },
    {
      "cell_type": "code",
      "metadata": {
        "id": "MPoENTekLupA",
        "colab_type": "code",
        "colab": {
          "base_uri": "https://localhost:8080/",
          "height": 450
        },
        "outputId": "136e76ce-e290-428c-b3f0-9d43461932fa"
      },
      "source": [
        "brent_data_weekly=brent_data.resample('W').mean()\n",
        "brent_data_weekly"
      ],
      "execution_count": 170,
      "outputs": [
        {
          "output_type": "execute_result",
          "data": {
            "text/html": [
              "<div>\n",
              "<style scoped>\n",
              "    .dataframe tbody tr th:only-of-type {\n",
              "        vertical-align: middle;\n",
              "    }\n",
              "\n",
              "    .dataframe tbody tr th {\n",
              "        vertical-align: top;\n",
              "    }\n",
              "\n",
              "    .dataframe thead th {\n",
              "        text-align: right;\n",
              "    }\n",
              "</style>\n",
              "<table border=\"1\" class=\"dataframe\">\n",
              "  <thead>\n",
              "    <tr style=\"text-align: right;\">\n",
              "      <th></th>\n",
              "      <th>Значение</th>\n",
              "      <th>year</th>\n",
              "      <th>month</th>\n",
              "      <th>dayofmonth</th>\n",
              "      <th>quarter</th>\n",
              "      <th>dayofyear</th>\n",
              "      <th>weekofyear</th>\n",
              "      <th>dayofweek</th>\n",
              "      <th>is_holiday</th>\n",
              "      <th>is_prev_holiday</th>\n",
              "      <th>is_next_holiday</th>\n",
              "    </tr>\n",
              "    <tr>\n",
              "      <th>Дата</th>\n",
              "      <th></th>\n",
              "      <th></th>\n",
              "      <th></th>\n",
              "      <th></th>\n",
              "      <th></th>\n",
              "      <th></th>\n",
              "      <th></th>\n",
              "      <th></th>\n",
              "      <th></th>\n",
              "      <th></th>\n",
              "      <th></th>\n",
              "    </tr>\n",
              "  </thead>\n",
              "  <tbody>\n",
              "    <tr>\n",
              "      <th>2010-09-05</th>\n",
              "      <td>76.616000</td>\n",
              "      <td>2010.0</td>\n",
              "      <td>9.000000</td>\n",
              "      <td>3.000000</td>\n",
              "      <td>3.000000</td>\n",
              "      <td>246.000000</td>\n",
              "      <td>35.0</td>\n",
              "      <td>4.000000</td>\n",
              "      <td>0.000000</td>\n",
              "      <td>0.200000</td>\n",
              "      <td>0.000000</td>\n",
              "    </tr>\n",
              "    <tr>\n",
              "      <th>2010-09-12</th>\n",
              "      <td>77.673333</td>\n",
              "      <td>2010.0</td>\n",
              "      <td>9.000000</td>\n",
              "      <td>8.500000</td>\n",
              "      <td>3.000000</td>\n",
              "      <td>251.500000</td>\n",
              "      <td>36.0</td>\n",
              "      <td>2.500000</td>\n",
              "      <td>0.166667</td>\n",
              "      <td>0.000000</td>\n",
              "      <td>0.166667</td>\n",
              "    </tr>\n",
              "    <tr>\n",
              "      <th>2010-09-19</th>\n",
              "      <td>78.693333</td>\n",
              "      <td>2010.0</td>\n",
              "      <td>9.000000</td>\n",
              "      <td>15.666667</td>\n",
              "      <td>3.000000</td>\n",
              "      <td>258.666667</td>\n",
              "      <td>37.0</td>\n",
              "      <td>2.666667</td>\n",
              "      <td>0.000000</td>\n",
              "      <td>0.000000</td>\n",
              "      <td>0.000000</td>\n",
              "    </tr>\n",
              "    <tr>\n",
              "      <th>2010-09-26</th>\n",
              "      <td>78.518333</td>\n",
              "      <td>2010.0</td>\n",
              "      <td>9.000000</td>\n",
              "      <td>22.666667</td>\n",
              "      <td>3.000000</td>\n",
              "      <td>265.666667</td>\n",
              "      <td>38.0</td>\n",
              "      <td>2.666667</td>\n",
              "      <td>0.000000</td>\n",
              "      <td>0.000000</td>\n",
              "      <td>0.000000</td>\n",
              "    </tr>\n",
              "    <tr>\n",
              "      <th>2010-10-03</th>\n",
              "      <td>81.211667</td>\n",
              "      <td>2010.0</td>\n",
              "      <td>9.333333</td>\n",
              "      <td>19.666667</td>\n",
              "      <td>3.333333</td>\n",
              "      <td>272.666667</td>\n",
              "      <td>39.0</td>\n",
              "      <td>2.666667</td>\n",
              "      <td>0.000000</td>\n",
              "      <td>0.000000</td>\n",
              "      <td>0.000000</td>\n",
              "    </tr>\n",
              "    <tr>\n",
              "      <th>...</th>\n",
              "      <td>...</td>\n",
              "      <td>...</td>\n",
              "      <td>...</td>\n",
              "      <td>...</td>\n",
              "      <td>...</td>\n",
              "      <td>...</td>\n",
              "      <td>...</td>\n",
              "      <td>...</td>\n",
              "      <td>...</td>\n",
              "      <td>...</td>\n",
              "      <td>...</td>\n",
              "    </tr>\n",
              "    <tr>\n",
              "      <th>2019-08-04</th>\n",
              "      <td>62.791667</td>\n",
              "      <td>2019.0</td>\n",
              "      <td>7.500000</td>\n",
              "      <td>16.166667</td>\n",
              "      <td>3.000000</td>\n",
              "      <td>212.666667</td>\n",
              "      <td>31.0</td>\n",
              "      <td>2.666667</td>\n",
              "      <td>0.000000</td>\n",
              "      <td>0.000000</td>\n",
              "      <td>0.000000</td>\n",
              "    </tr>\n",
              "    <tr>\n",
              "      <th>2019-08-11</th>\n",
              "      <td>58.236667</td>\n",
              "      <td>2019.0</td>\n",
              "      <td>8.000000</td>\n",
              "      <td>7.666667</td>\n",
              "      <td>3.000000</td>\n",
              "      <td>219.666667</td>\n",
              "      <td>32.0</td>\n",
              "      <td>2.666667</td>\n",
              "      <td>0.000000</td>\n",
              "      <td>0.000000</td>\n",
              "      <td>0.000000</td>\n",
              "    </tr>\n",
              "    <tr>\n",
              "      <th>2019-08-18</th>\n",
              "      <td>59.033333</td>\n",
              "      <td>2019.0</td>\n",
              "      <td>8.000000</td>\n",
              "      <td>14.666667</td>\n",
              "      <td>3.000000</td>\n",
              "      <td>226.666667</td>\n",
              "      <td>33.0</td>\n",
              "      <td>2.666667</td>\n",
              "      <td>0.000000</td>\n",
              "      <td>0.000000</td>\n",
              "      <td>0.000000</td>\n",
              "    </tr>\n",
              "    <tr>\n",
              "      <th>2019-08-25</th>\n",
              "      <td>59.495000</td>\n",
              "      <td>2019.0</td>\n",
              "      <td>8.000000</td>\n",
              "      <td>21.666667</td>\n",
              "      <td>3.000000</td>\n",
              "      <td>233.666667</td>\n",
              "      <td>34.0</td>\n",
              "      <td>2.666667</td>\n",
              "      <td>0.000000</td>\n",
              "      <td>0.000000</td>\n",
              "      <td>0.000000</td>\n",
              "    </tr>\n",
              "    <tr>\n",
              "      <th>2019-09-01</th>\n",
              "      <td>59.348333</td>\n",
              "      <td>2019.0</td>\n",
              "      <td>8.166667</td>\n",
              "      <td>23.500000</td>\n",
              "      <td>3.000000</td>\n",
              "      <td>240.666667</td>\n",
              "      <td>35.0</td>\n",
              "      <td>2.666667</td>\n",
              "      <td>0.000000</td>\n",
              "      <td>0.166667</td>\n",
              "      <td>0.000000</td>\n",
              "    </tr>\n",
              "  </tbody>\n",
              "</table>\n",
              "<p>470 rows × 11 columns</p>\n",
              "</div>"
            ],
            "text/plain": [
              "             Значение    year  ...  is_prev_holiday  is_next_holiday\n",
              "Дата                           ...                                  \n",
              "2010-09-05  76.616000  2010.0  ...         0.200000         0.000000\n",
              "2010-09-12  77.673333  2010.0  ...         0.000000         0.166667\n",
              "2010-09-19  78.693333  2010.0  ...         0.000000         0.000000\n",
              "2010-09-26  78.518333  2010.0  ...         0.000000         0.000000\n",
              "2010-10-03  81.211667  2010.0  ...         0.000000         0.000000\n",
              "...               ...     ...  ...              ...              ...\n",
              "2019-08-04  62.791667  2019.0  ...         0.000000         0.000000\n",
              "2019-08-11  58.236667  2019.0  ...         0.000000         0.000000\n",
              "2019-08-18  59.033333  2019.0  ...         0.000000         0.000000\n",
              "2019-08-25  59.495000  2019.0  ...         0.000000         0.000000\n",
              "2019-09-01  59.348333  2019.0  ...         0.166667         0.000000\n",
              "\n",
              "[470 rows x 11 columns]"
            ]
          },
          "metadata": {
            "tags": []
          },
          "execution_count": 170
        }
      ]
    },
    {
      "cell_type": "code",
      "metadata": {
        "id": "FPDu445mNe2t",
        "colab_type": "code",
        "colab": {
          "base_uri": "https://localhost:8080/",
          "height": 258
        },
        "outputId": "cce8b161-149b-4cb3-f1d2-ef00cad96ca2"
      },
      "source": [
        "brent_data_weekly['Значение'].plot( figsize=( 20, 3 ), title='Brent ')\n",
        "plt.ylabel('USA dollar')\n",
        "plt.xlabel('t')"
      ],
      "execution_count": 171,
      "outputs": [
        {
          "output_type": "execute_result",
          "data": {
            "text/plain": [
              "Text(0.5, 0, 't')"
            ]
          },
          "metadata": {
            "tags": []
          },
          "execution_count": 171
        },
        {
          "output_type": "display_data",
          "data": {
            "image/png": "[encoded data removed]",
            "text/plain": [
              "<Figure size 1440x216 with 1 Axes>"
            ]
          },
          "metadata": {
            "tags": [],
            "needs_background": "light"
          }
        }
      ]
    },
    {
      "cell_type": "code",
      "metadata": {
        "id": "Y7VSUdmzX3Zq",
        "colab_type": "code",
        "colab": {
          "base_uri": "https://localhost:8080/",
          "height": 340
        },
        "outputId": "7ba7e0e0-9908-4e19-fab4-b8c5e0261eb0"
      },
      "source": [
        "brent_data_weekly.info()"
      ],
      "execution_count": 172,
      "outputs": [
        {
          "output_type": "stream",
          "text": [
            "<class 'pandas.core.frame.DataFrame'>\n",
            "DatetimeIndex: 470 entries, 2010-09-05 to 2019-09-01\n",
            "Freq: W-SUN\n",
            "Data columns (total 11 columns):\n",
            " #   Column           Non-Null Count  Dtype  \n",
            "---  ------           --------------  -----  \n",
            " 0   Значение         469 non-null    float64\n",
            " 1   year             469 non-null    float64\n",
            " 2   month            469 non-null    float64\n",
            " 3   dayofmonth       469 non-null    float64\n",
            " 4   quarter          469 non-null    float64\n",
            " 5   dayofyear        469 non-null    float64\n",
            " 6   weekofyear       469 non-null    float64\n",
            " 7   dayofweek        469 non-null    float64\n",
            " 8   is_holiday       469 non-null    float64\n",
            " 9   is_prev_holiday  469 non-null    float64\n",
            " 10  is_next_holiday  469 non-null    float64\n",
            "dtypes: float64(11)\n",
            "memory usage: 44.1 KB\n"
          ],
          "name": "stdout"
        }
      ]
    },
    {
      "cell_type": "markdown",
      "metadata": {
        "id": "bF4pFq_hYCug",
        "colab_type": "text"
      },
      "source": [
        "видно пропуск в данных"
      ]
    },
    {
      "cell_type": "code",
      "metadata": {
        "id": "ewb6A9g6YQ2W",
        "colab_type": "code",
        "colab": {
          "base_uri": "https://localhost:8080/",
          "height": 34
        },
        "outputId": "4e407dee-0298-4174-d6fb-cdf46da07e9a"
      },
      "source": [
        "brent_data_weekly.loc[pd.isnull(brent_data_weekly['Значение'])].index"
      ],
      "execution_count": 173,
      "outputs": [
        {
          "output_type": "execute_result",
          "data": {
            "text/plain": [
              "DatetimeIndex(['2011-10-16'], dtype='datetime64[ns]', name='Дата', freq='W-SUN')"
            ]
          },
          "metadata": {
            "tags": []
          },
          "execution_count": 173
        }
      ]
    },
    {
      "cell_type": "code",
      "metadata": {
        "id": "IdFonrXQcLFA",
        "colab_type": "code",
        "colab": {
          "base_uri": "https://localhost:8080/",
          "height": 34
        },
        "outputId": "584887f4-1d85-4732-ec46-780fb2d3e931"
      },
      "source": [
        "brent_data_weekly.index.get_loc('2011-10-16')"
      ],
      "execution_count": 174,
      "outputs": [
        {
          "output_type": "execute_result",
          "data": {
            "text/plain": [
              "58"
            ]
          },
          "metadata": {
            "tags": []
          },
          "execution_count": 174
        }
      ]
    },
    {
      "cell_type": "code",
      "metadata": {
        "id": "BENHacoyePeF",
        "colab_type": "code",
        "colab": {
          "base_uri": "https://localhost:8080/",
          "height": 173
        },
        "outputId": "b1ced893-3530-4f93-ce11-f62ad1c7c8ee"
      },
      "source": [
        "brent_data_weekly[57:60]"
      ],
      "execution_count": 175,
      "outputs": [
        {
          "output_type": "execute_result",
          "data": {
            "text/html": [
              "<div>\n",
              "<style scoped>\n",
              "    .dataframe tbody tr th:only-of-type {\n",
              "        vertical-align: middle;\n",
              "    }\n",
              "\n",
              "    .dataframe tbody tr th {\n",
              "        vertical-align: top;\n",
              "    }\n",
              "\n",
              "    .dataframe thead th {\n",
              "        text-align: right;\n",
              "    }\n",
              "</style>\n",
              "<table border=\"1\" class=\"dataframe\">\n",
              "  <thead>\n",
              "    <tr style=\"text-align: right;\">\n",
              "      <th></th>\n",
              "      <th>Значение</th>\n",
              "      <th>year</th>\n",
              "      <th>month</th>\n",
              "      <th>dayofmonth</th>\n",
              "      <th>quarter</th>\n",
              "      <th>dayofyear</th>\n",
              "      <th>weekofyear</th>\n",
              "      <th>dayofweek</th>\n",
              "      <th>is_holiday</th>\n",
              "      <th>is_prev_holiday</th>\n",
              "      <th>is_next_holiday</th>\n",
              "    </tr>\n",
              "    <tr>\n",
              "      <th>Дата</th>\n",
              "      <th></th>\n",
              "      <th></th>\n",
              "      <th></th>\n",
              "      <th></th>\n",
              "      <th></th>\n",
              "      <th></th>\n",
              "      <th></th>\n",
              "      <th></th>\n",
              "      <th></th>\n",
              "      <th></th>\n",
              "      <th></th>\n",
              "    </tr>\n",
              "  </thead>\n",
              "  <tbody>\n",
              "    <tr>\n",
              "      <th>2011-10-09</th>\n",
              "      <td>103.476667</td>\n",
              "      <td>2011.0</td>\n",
              "      <td>10.0</td>\n",
              "      <td>5.666667</td>\n",
              "      <td>4.0</td>\n",
              "      <td>278.666667</td>\n",
              "      <td>40.0</td>\n",
              "      <td>2.666667</td>\n",
              "      <td>0.0</td>\n",
              "      <td>0.166667</td>\n",
              "      <td>0.0</td>\n",
              "    </tr>\n",
              "    <tr>\n",
              "      <th>2011-10-16</th>\n",
              "      <td>NaN</td>\n",
              "      <td>NaN</td>\n",
              "      <td>NaN</td>\n",
              "      <td>NaN</td>\n",
              "      <td>NaN</td>\n",
              "      <td>NaN</td>\n",
              "      <td>NaN</td>\n",
              "      <td>NaN</td>\n",
              "      <td>NaN</td>\n",
              "      <td>NaN</td>\n",
              "      <td>NaN</td>\n",
              "    </tr>\n",
              "    <tr>\n",
              "      <th>2011-10-23</th>\n",
              "      <td>109.756667</td>\n",
              "      <td>2011.0</td>\n",
              "      <td>10.0</td>\n",
              "      <td>21.333333</td>\n",
              "      <td>4.0</td>\n",
              "      <td>294.333333</td>\n",
              "      <td>42.0</td>\n",
              "      <td>4.333333</td>\n",
              "      <td>0.0</td>\n",
              "      <td>0.000000</td>\n",
              "      <td>0.0</td>\n",
              "    </tr>\n",
              "  </tbody>\n",
              "</table>\n",
              "</div>"
            ],
            "text/plain": [
              "              Значение    year  ...  is_prev_holiday  is_next_holiday\n",
              "Дата                            ...                                  \n",
              "2011-10-09  103.476667  2011.0  ...         0.166667              0.0\n",
              "2011-10-16         NaN     NaN  ...              NaN              NaN\n",
              "2011-10-23  109.756667  2011.0  ...         0.000000              0.0\n",
              "\n",
              "[3 rows x 11 columns]"
            ]
          },
          "metadata": {
            "tags": []
          },
          "execution_count": 175
        }
      ]
    },
    {
      "cell_type": "code",
      "metadata": {
        "id": "nvJU1K6aeY94",
        "colab_type": "code",
        "colab": {}
      },
      "source": [
        "brent_data_weekly['Значение'][58]=np.mean([brent_data_weekly['Значение'][57],brent_data_weekly['Значение'][59]])"
      ],
      "execution_count": 0,
      "outputs": []
    },
    {
      "cell_type": "code",
      "metadata": {
        "id": "1CmaCXY5fv1f",
        "colab_type": "code",
        "colab": {
          "base_uri": "https://localhost:8080/",
          "height": 173
        },
        "outputId": "d12a416b-bf15-4786-dde8-03a12622ab8a"
      },
      "source": [
        "brent_data_weekly[57:60]"
      ],
      "execution_count": 177,
      "outputs": [
        {
          "output_type": "execute_result",
          "data": {
            "text/html": [
              "<div>\n",
              "<style scoped>\n",
              "    .dataframe tbody tr th:only-of-type {\n",
              "        vertical-align: middle;\n",
              "    }\n",
              "\n",
              "    .dataframe tbody tr th {\n",
              "        vertical-align: top;\n",
              "    }\n",
              "\n",
              "    .dataframe thead th {\n",
              "        text-align: right;\n",
              "    }\n",
              "</style>\n",
              "<table border=\"1\" class=\"dataframe\">\n",
              "  <thead>\n",
              "    <tr style=\"text-align: right;\">\n",
              "      <th></th>\n",
              "      <th>Значение</th>\n",
              "      <th>year</th>\n",
              "      <th>month</th>\n",
              "      <th>dayofmonth</th>\n",
              "      <th>quarter</th>\n",
              "      <th>dayofyear</th>\n",
              "      <th>weekofyear</th>\n",
              "      <th>dayofweek</th>\n",
              "      <th>is_holiday</th>\n",
              "      <th>is_prev_holiday</th>\n",
              "      <th>is_next_holiday</th>\n",
              "    </tr>\n",
              "    <tr>\n",
              "      <th>Дата</th>\n",
              "      <th></th>\n",
              "      <th></th>\n",
              "      <th></th>\n",
              "      <th></th>\n",
              "      <th></th>\n",
              "      <th></th>\n",
              "      <th></th>\n",
              "      <th></th>\n",
              "      <th></th>\n",
              "      <th></th>\n",
              "      <th></th>\n",
              "    </tr>\n",
              "  </thead>\n",
              "  <tbody>\n",
              "    <tr>\n",
              "      <th>2011-10-09</th>\n",
              "      <td>103.476667</td>\n",
              "      <td>2011.0</td>\n",
              "      <td>10.0</td>\n",
              "      <td>5.666667</td>\n",
              "      <td>4.0</td>\n",
              "      <td>278.666667</td>\n",
              "      <td>40.0</td>\n",
              "      <td>2.666667</td>\n",
              "      <td>0.0</td>\n",
              "      <td>0.166667</td>\n",
              "      <td>0.0</td>\n",
              "    </tr>\n",
              "    <tr>\n",
              "      <th>2011-10-16</th>\n",
              "      <td>106.616667</td>\n",
              "      <td>NaN</td>\n",
              "      <td>NaN</td>\n",
              "      <td>NaN</td>\n",
              "      <td>NaN</td>\n",
              "      <td>NaN</td>\n",
              "      <td>NaN</td>\n",
              "      <td>NaN</td>\n",
              "      <td>NaN</td>\n",
              "      <td>NaN</td>\n",
              "      <td>NaN</td>\n",
              "    </tr>\n",
              "    <tr>\n",
              "      <th>2011-10-23</th>\n",
              "      <td>109.756667</td>\n",
              "      <td>2011.0</td>\n",
              "      <td>10.0</td>\n",
              "      <td>21.333333</td>\n",
              "      <td>4.0</td>\n",
              "      <td>294.333333</td>\n",
              "      <td>42.0</td>\n",
              "      <td>4.333333</td>\n",
              "      <td>0.0</td>\n",
              "      <td>0.000000</td>\n",
              "      <td>0.0</td>\n",
              "    </tr>\n",
              "  </tbody>\n",
              "</table>\n",
              "</div>"
            ],
            "text/plain": [
              "              Значение    year  ...  is_prev_holiday  is_next_holiday\n",
              "Дата                            ...                                  \n",
              "2011-10-09  103.476667  2011.0  ...         0.166667              0.0\n",
              "2011-10-16  106.616667     NaN  ...              NaN              NaN\n",
              "2011-10-23  109.756667  2011.0  ...         0.000000              0.0\n",
              "\n",
              "[3 rows x 11 columns]"
            ]
          },
          "metadata": {
            "tags": []
          },
          "execution_count": 177
        }
      ]
    },
    {
      "cell_type": "markdown",
      "metadata": {
        "id": "H9FCHJ5DN_vA",
        "colab_type": "text"
      },
      "source": [
        "первые разности"
      ]
    },
    {
      "cell_type": "code",
      "metadata": {
        "id": "FaZ2pzEtOCLW",
        "colab_type": "code",
        "colab": {}
      },
      "source": [
        "d_brent_data = brent_data_weekly['Значение'].values[1:]- brent_data_weekly['Значение'].values[:-1]"
      ],
      "execution_count": 0,
      "outputs": []
    },
    {
      "cell_type": "code",
      "metadata": {
        "id": "7iO8FYfaOPm1",
        "colab_type": "code",
        "colab": {
          "base_uri": "https://localhost:8080/",
          "height": 367
        },
        "outputId": "1669c24d-a4d5-47f6-8f8f-799aaf1adb4f"
      },
      "source": [
        "plt.figure(figsize=(15,5))\n",
        "plt.plot(brent_data_weekly.index[1:],d_brent_data)\n",
        "plt.ylabel('USA dollar')\n",
        "plt.xlabel('t')\n",
        "plt.title('Brent')"
      ],
      "execution_count": 179,
      "outputs": [
        {
          "output_type": "execute_result",
          "data": {
            "text/plain": [
              "Text(0.5, 1.0, 'Brent')"
            ]
          },
          "metadata": {
            "tags": []
          },
          "execution_count": 179
        },
        {
          "output_type": "display_data",
          "data": {
            "image/png": "[encoded data removed]",
            "text/plain": [
              "<Figure size 1080x360 with 1 Axes>"
            ]
          },
          "metadata": {
            "tags": [],
            "needs_background": "light"
          }
        }
      ]
    },
    {
      "cell_type": "markdown",
      "metadata": {
        "id": "soSoxnVHQk1h",
        "colab_type": "text"
      },
      "source": [
        "добавим курс рубля к доллару"
      ]
    },
    {
      "cell_type": "code",
      "metadata": {
        "id": "c8HV6KWiQiy1",
        "colab_type": "code",
        "colab": {
          "base_uri": "https://localhost:8080/",
          "height": 450
        },
        "outputId": "da7eb177-c9bb-4b20-cea1-e230d690ea06"
      },
      "source": [
        "dollar_data = pd.read_excel('RC_F01_09_2010_T01_09_2019.xlsx', index_col=[1])\n",
        "dollar_data.drop(['nominal','cdx'], axis=1,inplace = True)\n",
        "dollar_data"
      ],
      "execution_count": 180,
      "outputs": [
        {
          "output_type": "execute_result",
          "data": {
            "text/html": [
              "<div>\n",
              "<style scoped>\n",
              "    .dataframe tbody tr th:only-of-type {\n",
              "        vertical-align: middle;\n",
              "    }\n",
              "\n",
              "    .dataframe tbody tr th {\n",
              "        vertical-align: top;\n",
              "    }\n",
              "\n",
              "    .dataframe thead th {\n",
              "        text-align: right;\n",
              "    }\n",
              "</style>\n",
              "<table border=\"1\" class=\"dataframe\">\n",
              "  <thead>\n",
              "    <tr style=\"text-align: right;\">\n",
              "      <th></th>\n",
              "      <th>curs</th>\n",
              "    </tr>\n",
              "    <tr>\n",
              "      <th>data</th>\n",
              "      <th></th>\n",
              "    </tr>\n",
              "  </thead>\n",
              "  <tbody>\n",
              "    <tr>\n",
              "      <th>2010-09-01</th>\n",
              "      <td>30.8669</td>\n",
              "    </tr>\n",
              "    <tr>\n",
              "      <th>2010-09-02</th>\n",
              "      <td>30.8001</td>\n",
              "    </tr>\n",
              "    <tr>\n",
              "      <th>2010-09-03</th>\n",
              "      <td>30.6858</td>\n",
              "    </tr>\n",
              "    <tr>\n",
              "      <th>2010-09-04</th>\n",
              "      <td>30.6922</td>\n",
              "    </tr>\n",
              "    <tr>\n",
              "      <th>2010-09-07</th>\n",
              "      <td>30.5771</td>\n",
              "    </tr>\n",
              "    <tr>\n",
              "      <th>...</th>\n",
              "      <td>...</td>\n",
              "    </tr>\n",
              "    <tr>\n",
              "      <th>2019-08-27</th>\n",
              "      <td>65.9735</td>\n",
              "    </tr>\n",
              "    <tr>\n",
              "      <th>2019-08-28</th>\n",
              "      <td>66.2608</td>\n",
              "    </tr>\n",
              "    <tr>\n",
              "      <th>2019-08-29</th>\n",
              "      <td>66.4127</td>\n",
              "    </tr>\n",
              "    <tr>\n",
              "      <th>2019-08-30</th>\n",
              "      <td>66.7471</td>\n",
              "    </tr>\n",
              "    <tr>\n",
              "      <th>2019-08-31</th>\n",
              "      <td>66.4897</td>\n",
              "    </tr>\n",
              "  </tbody>\n",
              "</table>\n",
              "<p>2228 rows × 1 columns</p>\n",
              "</div>"
            ],
            "text/plain": [
              "               curs\n",
              "data               \n",
              "2010-09-01  30.8669\n",
              "2010-09-02  30.8001\n",
              "2010-09-03  30.6858\n",
              "2010-09-04  30.6922\n",
              "2010-09-07  30.5771\n",
              "...             ...\n",
              "2019-08-27  65.9735\n",
              "2019-08-28  66.2608\n",
              "2019-08-29  66.4127\n",
              "2019-08-30  66.7471\n",
              "2019-08-31  66.4897\n",
              "\n",
              "[2228 rows x 1 columns]"
            ]
          },
          "metadata": {
            "tags": []
          },
          "execution_count": 180
        }
      ]
    },
    {
      "cell_type": "code",
      "metadata": {
        "id": "X7cjSHJgSXbW",
        "colab_type": "code",
        "colab": {
          "base_uri": "https://localhost:8080/",
          "height": 450
        },
        "outputId": "9414d2aa-3aae-43a4-be2f-d6d315e1655a"
      },
      "source": [
        "dollar_weekly=dollar_data.resample('W').mean()\n",
        "dollar_weekly"
      ],
      "execution_count": 181,
      "outputs": [
        {
          "output_type": "execute_result",
          "data": {
            "text/html": [
              "<div>\n",
              "<style scoped>\n",
              "    .dataframe tbody tr th:only-of-type {\n",
              "        vertical-align: middle;\n",
              "    }\n",
              "\n",
              "    .dataframe tbody tr th {\n",
              "        vertical-align: top;\n",
              "    }\n",
              "\n",
              "    .dataframe thead th {\n",
              "        text-align: right;\n",
              "    }\n",
              "</style>\n",
              "<table border=\"1\" class=\"dataframe\">\n",
              "  <thead>\n",
              "    <tr style=\"text-align: right;\">\n",
              "      <th></th>\n",
              "      <th>curs</th>\n",
              "    </tr>\n",
              "    <tr>\n",
              "      <th>data</th>\n",
              "      <th></th>\n",
              "    </tr>\n",
              "  </thead>\n",
              "  <tbody>\n",
              "    <tr>\n",
              "      <th>2010-09-05</th>\n",
              "      <td>30.76125</td>\n",
              "    </tr>\n",
              "    <tr>\n",
              "      <th>2010-09-12</th>\n",
              "      <td>30.79402</td>\n",
              "    </tr>\n",
              "    <tr>\n",
              "      <th>2010-09-19</th>\n",
              "      <td>30.84672</td>\n",
              "    </tr>\n",
              "    <tr>\n",
              "      <th>2010-09-26</th>\n",
              "      <td>30.99920</td>\n",
              "    </tr>\n",
              "    <tr>\n",
              "      <th>2010-10-03</th>\n",
              "      <td>30.52764</td>\n",
              "    </tr>\n",
              "    <tr>\n",
              "      <th>...</th>\n",
              "      <td>...</td>\n",
              "    </tr>\n",
              "    <tr>\n",
              "      <th>2019-08-04</th>\n",
              "      <td>63.75872</td>\n",
              "    </tr>\n",
              "    <tr>\n",
              "      <th>2019-08-11</th>\n",
              "      <td>65.14700</td>\n",
              "    </tr>\n",
              "    <tr>\n",
              "      <th>2019-08-18</th>\n",
              "      <td>65.62408</td>\n",
              "    </tr>\n",
              "    <tr>\n",
              "      <th>2019-08-25</th>\n",
              "      <td>66.17588</td>\n",
              "    </tr>\n",
              "    <tr>\n",
              "      <th>2019-09-01</th>\n",
              "      <td>66.37676</td>\n",
              "    </tr>\n",
              "  </tbody>\n",
              "</table>\n",
              "<p>470 rows × 1 columns</p>\n",
              "</div>"
            ],
            "text/plain": [
              "                curs\n",
              "data                \n",
              "2010-09-05  30.76125\n",
              "2010-09-12  30.79402\n",
              "2010-09-19  30.84672\n",
              "2010-09-26  30.99920\n",
              "2010-10-03  30.52764\n",
              "...              ...\n",
              "2019-08-04  63.75872\n",
              "2019-08-11  65.14700\n",
              "2019-08-18  65.62408\n",
              "2019-08-25  66.17588\n",
              "2019-09-01  66.37676\n",
              "\n",
              "[470 rows x 1 columns]"
            ]
          },
          "metadata": {
            "tags": []
          },
          "execution_count": 181
        }
      ]
    },
    {
      "cell_type": "code",
      "metadata": {
        "id": "vHht3I3GWV3b",
        "colab_type": "code",
        "colab": {
          "base_uri": "https://localhost:8080/",
          "height": 258
        },
        "outputId": "30c2cdc7-590c-4462-86da-6c621debf941"
      },
      "source": [
        "dollar_weekly.plot( figsize=( 20, 3 ), title='Rub / dollar ')\n",
        "plt.ylabel('USA dollar')\n",
        "plt.xlabel('t')"
      ],
      "execution_count": 182,
      "outputs": [
        {
          "output_type": "execute_result",
          "data": {
            "text/plain": [
              "Text(0.5, 0, 't')"
            ]
          },
          "metadata": {
            "tags": []
          },
          "execution_count": 182
        },
        {
          "output_type": "display_data",
          "data": {
            "image/png": "[encoded data removed]",
            "text/plain": [
              "<Figure size 1440x216 with 1 Axes>"
            ]
          },
          "metadata": {
            "tags": [],
            "needs_background": "light"
          }
        }
      ]
    },
    {
      "cell_type": "code",
      "metadata": {
        "id": "9zNqaU1zXJaa",
        "colab_type": "code",
        "colab": {
          "base_uri": "https://localhost:8080/",
          "height": 170
        },
        "outputId": "7fe5da9f-0cc7-4806-dccb-7077a9b46301"
      },
      "source": [
        "dollar_weekly.info()"
      ],
      "execution_count": 183,
      "outputs": [
        {
          "output_type": "stream",
          "text": [
            "<class 'pandas.core.frame.DataFrame'>\n",
            "DatetimeIndex: 470 entries, 2010-09-05 to 2019-09-01\n",
            "Freq: W-SUN\n",
            "Data columns (total 1 columns):\n",
            " #   Column  Non-Null Count  Dtype  \n",
            "---  ------  --------------  -----  \n",
            " 0   curs    462 non-null    float64\n",
            "dtypes: float64(1)\n",
            "memory usage: 7.3 KB\n"
          ],
          "name": "stdout"
        }
      ]
    },
    {
      "cell_type": "code",
      "metadata": {
        "id": "ml07ILdDf7X6",
        "colab_type": "code",
        "colab": {
          "base_uri": "https://localhost:8080/",
          "height": 68
        },
        "outputId": "de5e1827-3be2-4178-e74a-6de28c31c625"
      },
      "source": [
        "missing_dollars=dollar_weekly.loc[pd.isnull(dollar_weekly['curs'])].index\n",
        "missing_dollars"
      ],
      "execution_count": 184,
      "outputs": [
        {
          "output_type": "execute_result",
          "data": {
            "text/plain": [
              "DatetimeIndex(['2011-01-09', '2012-01-08', '2013-01-06', '2015-01-11',\n",
              "               '2016-01-10', '2017-01-08', '2018-01-07', '2019-01-06'],\n",
              "              dtype='datetime64[ns]', name='data', freq=None)"
            ]
          },
          "metadata": {
            "tags": []
          },
          "execution_count": 184
        }
      ]
    },
    {
      "cell_type": "code",
      "metadata": {
        "id": "Ch_csK_Jgyor",
        "colab_type": "code",
        "colab": {
          "base_uri": "https://localhost:8080/",
          "height": 34
        },
        "outputId": "e3ee8fd7-4a07-4550-fdcf-150ce5823b46"
      },
      "source": [
        "missing_index=[]\n",
        "for week in missing_dollars:\n",
        "  missing_index.append(dollar_weekly.index.get_loc(week))\n",
        "missing_index"
      ],
      "execution_count": 185,
      "outputs": [
        {
          "output_type": "execute_result",
          "data": {
            "text/plain": [
              "[18, 70, 122, 227, 279, 331, 383, 435]"
            ]
          },
          "metadata": {
            "tags": []
          },
          "execution_count": 185
        }
      ]
    },
    {
      "cell_type": "code",
      "metadata": {
        "id": "ZfoRxHxWh1Ef",
        "colab_type": "code",
        "colab": {}
      },
      "source": [
        "for index in missing_index:\n",
        "  dollar_weekly['curs'][index]=np.mean([dollar_weekly['curs'][index-1],dollar_weekly['curs'][index+1]])\n"
      ],
      "execution_count": 0,
      "outputs": []
    },
    {
      "cell_type": "code",
      "metadata": {
        "id": "FxzA61RRieHT",
        "colab_type": "code",
        "colab": {
          "base_uri": "https://localhost:8080/",
          "height": 170
        },
        "outputId": "75084387-e3b6-4788-9ecc-97d4c451d27d"
      },
      "source": [
        "dollar_weekly.info()"
      ],
      "execution_count": 187,
      "outputs": [
        {
          "output_type": "stream",
          "text": [
            "<class 'pandas.core.frame.DataFrame'>\n",
            "DatetimeIndex: 470 entries, 2010-09-05 to 2019-09-01\n",
            "Freq: W-SUN\n",
            "Data columns (total 1 columns):\n",
            " #   Column  Non-Null Count  Dtype  \n",
            "---  ------  --------------  -----  \n",
            " 0   curs    470 non-null    float64\n",
            "dtypes: float64(1)\n",
            "memory usage: 27.3 KB\n"
          ],
          "name": "stdout"
        }
      ]
    },
    {
      "cell_type": "code",
      "metadata": {
        "id": "rWArVId6V9o8",
        "colab_type": "code",
        "colab": {}
      },
      "source": [
        "d_dollar_weekly=dollar_weekly['curs'].values[1:]- dollar_weekly['curs'].values[:-1]"
      ],
      "execution_count": 0,
      "outputs": []
    },
    {
      "cell_type": "code",
      "metadata": {
        "id": "CJMYQU1NVMrk",
        "colab_type": "code",
        "colab": {
          "base_uri": "https://localhost:8080/",
          "height": 235
        },
        "outputId": "526a70f0-e550-4776-b454-928194d6ac56"
      },
      "source": [
        "data_weekly=pd.DataFrame(index=dollar_weekly.index[1:])\n",
        "data_weekly['brent_price']=d_brent_data\n",
        "data_weekly['curs']=d_dollar_weekly\n",
        "data_weekly.head()"
      ],
      "execution_count": 189,
      "outputs": [
        {
          "output_type": "execute_result",
          "data": {
            "text/html": [
              "<div>\n",
              "<style scoped>\n",
              "    .dataframe tbody tr th:only-of-type {\n",
              "        vertical-align: middle;\n",
              "    }\n",
              "\n",
              "    .dataframe tbody tr th {\n",
              "        vertical-align: top;\n",
              "    }\n",
              "\n",
              "    .dataframe thead th {\n",
              "        text-align: right;\n",
              "    }\n",
              "</style>\n",
              "<table border=\"1\" class=\"dataframe\">\n",
              "  <thead>\n",
              "    <tr style=\"text-align: right;\">\n",
              "      <th></th>\n",
              "      <th>brent_price</th>\n",
              "      <th>curs</th>\n",
              "    </tr>\n",
              "    <tr>\n",
              "      <th>data</th>\n",
              "      <th></th>\n",
              "      <th></th>\n",
              "    </tr>\n",
              "  </thead>\n",
              "  <tbody>\n",
              "    <tr>\n",
              "      <th>2010-09-12</th>\n",
              "      <td>1.057333</td>\n",
              "      <td>0.03277</td>\n",
              "    </tr>\n",
              "    <tr>\n",
              "      <th>2010-09-19</th>\n",
              "      <td>1.020000</td>\n",
              "      <td>0.05270</td>\n",
              "    </tr>\n",
              "    <tr>\n",
              "      <th>2010-09-26</th>\n",
              "      <td>-0.175000</td>\n",
              "      <td>0.15248</td>\n",
              "    </tr>\n",
              "    <tr>\n",
              "      <th>2010-10-03</th>\n",
              "      <td>2.693333</td>\n",
              "      <td>-0.47156</td>\n",
              "    </tr>\n",
              "    <tr>\n",
              "      <th>2010-10-10</th>\n",
              "      <td>2.935000</td>\n",
              "      <td>-0.45426</td>\n",
              "    </tr>\n",
              "  </tbody>\n",
              "</table>\n",
              "</div>"
            ],
            "text/plain": [
              "            brent_price     curs\n",
              "data                            \n",
              "2010-09-12     1.057333  0.03277\n",
              "2010-09-19     1.020000  0.05270\n",
              "2010-09-26    -0.175000  0.15248\n",
              "2010-10-03     2.693333 -0.47156\n",
              "2010-10-10     2.935000 -0.45426"
            ]
          },
          "metadata": {
            "tags": []
          },
          "execution_count": 189
        }
      ]
    },
    {
      "cell_type": "code",
      "metadata": {
        "id": "RDvOfigijHOt",
        "colab_type": "code",
        "colab": {
          "base_uri": "https://localhost:8080/",
          "height": 242
        },
        "outputId": "6cd0d018-96f3-40d0-ceba-7b22847274c4"
      },
      "source": [
        "data_weekly.plot(figsize=(20,3), style='.', grid=True)"
      ],
      "execution_count": 190,
      "outputs": [
        {
          "output_type": "execute_result",
          "data": {
            "text/plain": [
              "<matplotlib.axes._subplots.AxesSubplot at 0x7fe8a2b28cc0>"
            ]
          },
          "metadata": {
            "tags": []
          },
          "execution_count": 190
        },
        {
          "output_type": "display_data",
          "data": {
            "image/png": "[encoded data removed]",
            "text/plain": [
              "<Figure size 1440x216 with 1 Axes>"
            ]
          },
          "metadata": {
            "tags": [],
            "needs_background": "light"
          }
        }
      ]
    },
    {
      "cell_type": "code",
      "metadata": {
        "id": "-tFsA-VVMAXw",
        "colab_type": "code",
        "colab": {
          "base_uri": "https://localhost:8080/",
          "height": 297
        },
        "outputId": "48e6d4d6-aa0e-42f5-ff77-6d976c14505c"
      },
      "source": [
        "# stat до 2014:\n",
        "data_upto2014=data_weekly[:(17+3*52)]\n",
        "data_upto2014.describe()\n"
      ],
      "execution_count": 191,
      "outputs": [
        {
          "output_type": "execute_result",
          "data": {
            "text/html": [
              "<div>\n",
              "<style scoped>\n",
              "    .dataframe tbody tr th:only-of-type {\n",
              "        vertical-align: middle;\n",
              "    }\n",
              "\n",
              "    .dataframe tbody tr th {\n",
              "        vertical-align: top;\n",
              "    }\n",
              "\n",
              "    .dataframe thead th {\n",
              "        text-align: right;\n",
              "    }\n",
              "</style>\n",
              "<table border=\"1\" class=\"dataframe\">\n",
              "  <thead>\n",
              "    <tr style=\"text-align: right;\">\n",
              "      <th></th>\n",
              "      <th>brent_price</th>\n",
              "      <th>curs</th>\n",
              "    </tr>\n",
              "  </thead>\n",
              "  <tbody>\n",
              "    <tr>\n",
              "      <th>count</th>\n",
              "      <td>173.000000</td>\n",
              "      <td>173.000000</td>\n",
              "    </tr>\n",
              "    <tr>\n",
              "      <th>mean</th>\n",
              "      <td>0.204517</td>\n",
              "      <td>0.011238</td>\n",
              "    </tr>\n",
              "    <tr>\n",
              "      <th>std</th>\n",
              "      <td>2.533887</td>\n",
              "      <td>0.360246</td>\n",
              "    </tr>\n",
              "    <tr>\n",
              "      <th>min</th>\n",
              "      <td>-8.621667</td>\n",
              "      <td>-1.114340</td>\n",
              "    </tr>\n",
              "    <tr>\n",
              "      <th>25%</th>\n",
              "      <td>-1.190000</td>\n",
              "      <td>-0.208520</td>\n",
              "    </tr>\n",
              "    <tr>\n",
              "      <th>50%</th>\n",
              "      <td>0.430000</td>\n",
              "      <td>0.015320</td>\n",
              "    </tr>\n",
              "    <tr>\n",
              "      <th>75%</th>\n",
              "      <td>1.845000</td>\n",
              "      <td>0.217160</td>\n",
              "    </tr>\n",
              "    <tr>\n",
              "      <th>max</th>\n",
              "      <td>7.650000</td>\n",
              "      <td>1.337900</td>\n",
              "    </tr>\n",
              "  </tbody>\n",
              "</table>\n",
              "</div>"
            ],
            "text/plain": [
              "       brent_price        curs\n",
              "count   173.000000  173.000000\n",
              "mean      0.204517    0.011238\n",
              "std       2.533887    0.360246\n",
              "min      -8.621667   -1.114340\n",
              "25%      -1.190000   -0.208520\n",
              "50%       0.430000    0.015320\n",
              "75%       1.845000    0.217160\n",
              "max       7.650000    1.337900"
            ]
          },
          "metadata": {
            "tags": []
          },
          "execution_count": 191
        }
      ]
    },
    {
      "cell_type": "code",
      "metadata": {
        "id": "cAxfrO0oO4q_",
        "colab_type": "code",
        "colab": {
          "base_uri": "https://localhost:8080/",
          "height": 297
        },
        "outputId": "657e9803-9fbb-47f9-bec8-1dd910c91c81"
      },
      "source": [
        "# stat до 2015-2016:\n",
        "data_2015_2016=data_weekly[(4*52):(17+5*52)]\n",
        "data_2015_2016.describe()"
      ],
      "execution_count": 192,
      "outputs": [
        {
          "output_type": "execute_result",
          "data": {
            "text/html": [
              "<div>\n",
              "<style scoped>\n",
              "    .dataframe tbody tr th:only-of-type {\n",
              "        vertical-align: middle;\n",
              "    }\n",
              "\n",
              "    .dataframe tbody tr th {\n",
              "        vertical-align: top;\n",
              "    }\n",
              "\n",
              "    .dataframe thead th {\n",
              "        text-align: right;\n",
              "    }\n",
              "</style>\n",
              "<table border=\"1\" class=\"dataframe\">\n",
              "  <thead>\n",
              "    <tr style=\"text-align: right;\">\n",
              "      <th></th>\n",
              "      <th>brent_price</th>\n",
              "      <th>curs</th>\n",
              "    </tr>\n",
              "  </thead>\n",
              "  <tbody>\n",
              "    <tr>\n",
              "      <th>count</th>\n",
              "      <td>69.000000</td>\n",
              "      <td>69.000000</td>\n",
              "    </tr>\n",
              "    <tr>\n",
              "      <th>mean</th>\n",
              "      <td>-0.957005</td>\n",
              "      <td>0.496993</td>\n",
              "    </tr>\n",
              "    <tr>\n",
              "      <th>std</th>\n",
              "      <td>2.436808</td>\n",
              "      <td>2.166811</td>\n",
              "    </tr>\n",
              "    <tr>\n",
              "      <th>min</th>\n",
              "      <td>-6.346667</td>\n",
              "      <td>-7.472720</td>\n",
              "    </tr>\n",
              "    <tr>\n",
              "      <th>25%</th>\n",
              "      <td>-2.530000</td>\n",
              "      <td>-0.359660</td>\n",
              "    </tr>\n",
              "    <tr>\n",
              "      <th>50%</th>\n",
              "      <td>-0.864000</td>\n",
              "      <td>0.428300</td>\n",
              "    </tr>\n",
              "    <tr>\n",
              "      <th>75%</th>\n",
              "      <td>0.251667</td>\n",
              "      <td>1.589680</td>\n",
              "    </tr>\n",
              "    <tr>\n",
              "      <th>max</th>\n",
              "      <td>7.296667</td>\n",
              "      <td>6.817480</td>\n",
              "    </tr>\n",
              "  </tbody>\n",
              "</table>\n",
              "</div>"
            ],
            "text/plain": [
              "       brent_price       curs\n",
              "count    69.000000  69.000000\n",
              "mean     -0.957005   0.496993\n",
              "std       2.436808   2.166811\n",
              "min      -6.346667  -7.472720\n",
              "25%      -2.530000  -0.359660\n",
              "50%      -0.864000   0.428300\n",
              "75%       0.251667   1.589680\n",
              "max       7.296667   6.817480"
            ]
          },
          "metadata": {
            "tags": []
          },
          "execution_count": 192
        }
      ]
    },
    {
      "cell_type": "code",
      "metadata": {
        "id": "DXEIt7D4NfeK",
        "colab_type": "code",
        "colab": {
          "base_uri": "https://localhost:8080/",
          "height": 297
        },
        "outputId": "890dbc56-949b-4006-a7fe-193f16ee182a"
      },
      "source": [
        "# stat после 2016:\n",
        "data_after2016=data_weekly[(17+5*52):]\n",
        "data_after2016.describe()"
      ],
      "execution_count": 193,
      "outputs": [
        {
          "output_type": "execute_result",
          "data": {
            "text/html": [
              "<div>\n",
              "<style scoped>\n",
              "    .dataframe tbody tr th:only-of-type {\n",
              "        vertical-align: middle;\n",
              "    }\n",
              "\n",
              "    .dataframe tbody tr th {\n",
              "        vertical-align: top;\n",
              "    }\n",
              "\n",
              "    .dataframe thead th {\n",
              "        text-align: right;\n",
              "    }\n",
              "</style>\n",
              "<table border=\"1\" class=\"dataframe\">\n",
              "  <thead>\n",
              "    <tr style=\"text-align: right;\">\n",
              "      <th></th>\n",
              "      <th>brent_price</th>\n",
              "      <th>curs</th>\n",
              "    </tr>\n",
              "  </thead>\n",
              "  <tbody>\n",
              "    <tr>\n",
              "      <th>count</th>\n",
              "      <td>192.000000</td>\n",
              "      <td>192.000000</td>\n",
              "    </tr>\n",
              "    <tr>\n",
              "      <th>mean</th>\n",
              "      <td>0.117908</td>\n",
              "      <td>-0.022095</td>\n",
              "    </tr>\n",
              "    <tr>\n",
              "      <th>std</th>\n",
              "      <td>1.903608</td>\n",
              "      <td>0.953990</td>\n",
              "    </tr>\n",
              "    <tr>\n",
              "      <th>min</th>\n",
              "      <td>-4.930000</td>\n",
              "      <td>-2.858640</td>\n",
              "    </tr>\n",
              "    <tr>\n",
              "      <th>25%</th>\n",
              "      <td>-1.107875</td>\n",
              "      <td>-0.604025</td>\n",
              "    </tr>\n",
              "    <tr>\n",
              "      <th>50%</th>\n",
              "      <td>0.211667</td>\n",
              "      <td>-0.051400</td>\n",
              "    </tr>\n",
              "    <tr>\n",
              "      <th>75%</th>\n",
              "      <td>1.371583</td>\n",
              "      <td>0.508057</td>\n",
              "    </tr>\n",
              "    <tr>\n",
              "      <th>max</th>\n",
              "      <td>4.386000</td>\n",
              "      <td>4.100200</td>\n",
              "    </tr>\n",
              "  </tbody>\n",
              "</table>\n",
              "</div>"
            ],
            "text/plain": [
              "       brent_price        curs\n",
              "count   192.000000  192.000000\n",
              "mean      0.117908   -0.022095\n",
              "std       1.903608    0.953990\n",
              "min      -4.930000   -2.858640\n",
              "25%      -1.107875   -0.604025\n",
              "50%       0.211667   -0.051400\n",
              "75%       1.371583    0.508057\n",
              "max       4.386000    4.100200"
            ]
          },
          "metadata": {
            "tags": []
          },
          "execution_count": 193
        }
      ]
    },
    {
      "cell_type": "markdown",
      "metadata": {
        "id": "Up8kZR8cL1Bb",
        "colab_type": "text"
      },
      "source": [
        "Видим, что c 4-го квартала 2014 г и до конца 2015 года, дневные разницы валюты сильно скакали, их  std увеличился в 6 раз по сравнению с предыдущим периодом. С началом 2016 расбросы более менее стибилизировались. Будем тренировать можель на 2016-2018 и предсказывать 1-ю неделю 2019 "
      ]
    },
    {
      "cell_type": "code",
      "metadata": {
        "id": "q-PZ0o9uLzRe",
        "colab_type": "code",
        "colab": {
          "base_uri": "https://localhost:8080/",
          "height": 254
        },
        "outputId": "1d2c312c-2204-4652-a6c1-100f87713970"
      },
      "source": [
        "data_after2016.plot(figsize=(15,3))"
      ],
      "execution_count": 194,
      "outputs": [
        {
          "output_type": "execute_result",
          "data": {
            "text/plain": [
              "<matplotlib.axes._subplots.AxesSubplot at 0x7fe8a29b1cc0>"
            ]
          },
          "metadata": {
            "tags": []
          },
          "execution_count": 194
        },
        {
          "output_type": "display_data",
          "data": {
            "image/png": "[encoded data removed]",
            "text/plain": [
              "<Figure size 1080x216 with 1 Axes>"
            ]
          },
          "metadata": {
            "tags": [],
            "needs_background": "light"
          }
        }
      ]
    },
    {
      "cell_type": "markdown",
      "metadata": {
        "id": "Vq18ZlJEngGc",
        "colab_type": "text"
      },
      "source": [
        "Добавим признаков по календарю"
      ]
    },
    {
      "cell_type": "code",
      "metadata": {
        "id": "Wya8op7_nhiS",
        "colab_type": "code",
        "colab": {}
      },
      "source": [
        "X3 = data_after2016.index.get_level_values('data')"
      ],
      "execution_count": 0,
      "outputs": []
    },
    {
      "cell_type": "markdown",
      "metadata": {
        "id": "EffqGXRxsFv6",
        "colab_type": "text"
      },
      "source": [
        "неделя по счету от начала года"
      ]
    },
    {
      "cell_type": "code",
      "metadata": {
        "id": "LdfvdMS3obsV",
        "colab_type": "code",
        "colab": {
          "base_uri": "https://localhost:8080/",
          "height": 85
        },
        "outputId": "fd40dae0-9f44-4a52-92da-ca56f1e29b1d"
      },
      "source": [
        "X3_1 = pd.to_datetime(X3).week\n",
        "X3_1 "
      ],
      "execution_count": 196,
      "outputs": [
        {
          "output_type": "execute_result",
          "data": {
            "text/plain": [
              "Int64Index([53,  1,  2,  3,  4,  5,  6,  7,  8,  9,\n",
              "            ...\n",
              "            26, 27, 28, 29, 30, 31, 32, 33, 34, 35],\n",
              "           dtype='int64', name='data', length=192)"
            ]
          },
          "metadata": {
            "tags": []
          },
          "execution_count": 196
        }
      ]
    },
    {
      "cell_type": "code",
      "metadata": {
        "id": "pGgSgfQRozJn",
        "colab_type": "code",
        "colab": {
          "base_uri": "https://localhost:8080/",
          "height": 119
        },
        "outputId": "5fc3c124-b45d-4d3d-8eb1-167e221ff20a"
      },
      "source": [
        "data_after2016['week_n']=X3_1"
      ],
      "execution_count": 197,
      "outputs": [
        {
          "output_type": "stream",
          "text": [
            "/usr/local/lib/python3.6/dist-packages/ipykernel_launcher.py:1: SettingWithCopyWarning: \n",
            "A value is trying to be set on a copy of a slice from a DataFrame.\n",
            "Try using .loc[row_indexer,col_indexer] = value instead\n",
            "\n",
            "See the caveats in the documentation: https://pandas.pydata.org/pandas-docs/stable/user_guide/indexing.html#returning-a-view-versus-a-copy\n",
            "  \"\"\"Entry point for launching an IPython kernel.\n"
          ],
          "name": "stderr"
        }
      ]
    },
    {
      "cell_type": "code",
      "metadata": {
        "id": "mhXyJFMoKmgU",
        "colab_type": "code",
        "colab": {
          "base_uri": "https://localhost:8080/",
          "height": 235
        },
        "outputId": "fbacdaa6-44aa-4112-d06b-7f8d809fa3f2"
      },
      "source": [
        "X_train=data_after2016[:52*3]\n",
        "X_train.tail()"
      ],
      "execution_count": 198,
      "outputs": [
        {
          "output_type": "execute_result",
          "data": {
            "text/html": [
              "<div>\n",
              "<style scoped>\n",
              "    .dataframe tbody tr th:only-of-type {\n",
              "        vertical-align: middle;\n",
              "    }\n",
              "\n",
              "    .dataframe tbody tr th {\n",
              "        vertical-align: top;\n",
              "    }\n",
              "\n",
              "    .dataframe thead th {\n",
              "        text-align: right;\n",
              "    }\n",
              "</style>\n",
              "<table border=\"1\" class=\"dataframe\">\n",
              "  <thead>\n",
              "    <tr style=\"text-align: right;\">\n",
              "      <th></th>\n",
              "      <th>brent_price</th>\n",
              "      <th>curs</th>\n",
              "      <th>week_n</th>\n",
              "    </tr>\n",
              "    <tr>\n",
              "      <th>data</th>\n",
              "      <th></th>\n",
              "      <th></th>\n",
              "      <th></th>\n",
              "    </tr>\n",
              "  </thead>\n",
              "  <tbody>\n",
              "    <tr>\n",
              "      <th>2018-11-25</th>\n",
              "      <td>-4.536667</td>\n",
              "      <td>-1.39894</td>\n",
              "      <td>47</td>\n",
              "    </tr>\n",
              "    <tr>\n",
              "      <th>2018-12-02</th>\n",
              "      <td>-2.316667</td>\n",
              "      <td>0.91634</td>\n",
              "      <td>48</td>\n",
              "    </tr>\n",
              "    <tr>\n",
              "      <th>2018-12-09</th>\n",
              "      <td>1.370000</td>\n",
              "      <td>-0.03502</td>\n",
              "      <td>49</td>\n",
              "    </tr>\n",
              "    <tr>\n",
              "      <th>2018-12-16</th>\n",
              "      <td>-0.936667</td>\n",
              "      <td>-0.27368</td>\n",
              "      <td>50</td>\n",
              "    </tr>\n",
              "    <tr>\n",
              "      <th>2018-12-23</th>\n",
              "      <td>-4.930000</td>\n",
              "      <td>0.80056</td>\n",
              "      <td>51</td>\n",
              "    </tr>\n",
              "  </tbody>\n",
              "</table>\n",
              "</div>"
            ],
            "text/plain": [
              "            brent_price     curs  week_n\n",
              "data                                    \n",
              "2018-11-25    -4.536667 -1.39894      47\n",
              "2018-12-02    -2.316667  0.91634      48\n",
              "2018-12-09     1.370000 -0.03502      49\n",
              "2018-12-16    -0.936667 -0.27368      50\n",
              "2018-12-23    -4.930000  0.80056      51"
            ]
          },
          "metadata": {
            "tags": []
          },
          "execution_count": 198
        }
      ]
    },
    {
      "cell_type": "code",
      "metadata": {
        "id": "-GZjl5eJW6KP",
        "colab_type": "code",
        "colab": {
          "base_uri": "https://localhost:8080/",
          "height": 238
        },
        "outputId": "3edc180e-9a8e-482e-ae02-42421ef09f30"
      },
      "source": [
        "y_train=data_after2016['brent_price'][1:52*3+1]\n",
        "y_train"
      ],
      "execution_count": 199,
      "outputs": [
        {
          "output_type": "execute_result",
          "data": {
            "text/plain": [
              "data\n",
              "2016-01-10   -1.100500\n",
              "2016-01-17   -4.874000\n",
              "2016-01-24   -2.418000\n",
              "2016-01-31    3.512500\n",
              "2016-02-07    2.015500\n",
              "                ...   \n",
              "2018-12-02   -2.316667\n",
              "2018-12-09    1.370000\n",
              "2018-12-16   -0.936667\n",
              "2018-12-23   -4.930000\n",
              "2018-12-30   -2.443667\n",
              "Freq: W-SUN, Name: brent_price, Length: 156, dtype: float64"
            ]
          },
          "metadata": {
            "tags": []
          },
          "execution_count": 199
        }
      ]
    },
    {
      "cell_type": "code",
      "metadata": {
        "id": "Q0Hl7t1gTYaG",
        "colab_type": "code",
        "colab": {
          "base_uri": "https://localhost:8080/",
          "height": 235
        },
        "outputId": "d93b2630-af5c-4a35-f7d2-389ee1e2d08d"
      },
      "source": [
        "X_test=data_after2016[52*3:-1]\n",
        "X_test.head()"
      ],
      "execution_count": 200,
      "outputs": [
        {
          "output_type": "execute_result",
          "data": {
            "text/html": [
              "<div>\n",
              "<style scoped>\n",
              "    .dataframe tbody tr th:only-of-type {\n",
              "        vertical-align: middle;\n",
              "    }\n",
              "\n",
              "    .dataframe tbody tr th {\n",
              "        vertical-align: top;\n",
              "    }\n",
              "\n",
              "    .dataframe thead th {\n",
              "        text-align: right;\n",
              "    }\n",
              "</style>\n",
              "<table border=\"1\" class=\"dataframe\">\n",
              "  <thead>\n",
              "    <tr style=\"text-align: right;\">\n",
              "      <th></th>\n",
              "      <th>brent_price</th>\n",
              "      <th>curs</th>\n",
              "      <th>week_n</th>\n",
              "    </tr>\n",
              "    <tr>\n",
              "      <th>data</th>\n",
              "      <th></th>\n",
              "      <th></th>\n",
              "      <th></th>\n",
              "    </tr>\n",
              "  </thead>\n",
              "  <tbody>\n",
              "    <tr>\n",
              "      <th>2018-12-30</th>\n",
              "      <td>-2.443667</td>\n",
              "      <td>1.812973</td>\n",
              "      <td>52</td>\n",
              "    </tr>\n",
              "    <tr>\n",
              "      <th>2019-01-06</th>\n",
              "      <td>2.838000</td>\n",
              "      <td>-1.016150</td>\n",
              "      <td>1</td>\n",
              "    </tr>\n",
              "    <tr>\n",
              "      <th>2019-01-13</th>\n",
              "      <td>4.085667</td>\n",
              "      <td>-1.016150</td>\n",
              "      <td>2</td>\n",
              "    </tr>\n",
              "    <tr>\n",
              "      <th>2019-01-20</th>\n",
              "      <td>1.196667</td>\n",
              "      <td>-0.190153</td>\n",
              "      <td>3</td>\n",
              "    </tr>\n",
              "    <tr>\n",
              "      <th>2019-01-27</th>\n",
              "      <td>0.335000</td>\n",
              "      <td>-0.529340</td>\n",
              "      <td>4</td>\n",
              "    </tr>\n",
              "  </tbody>\n",
              "</table>\n",
              "</div>"
            ],
            "text/plain": [
              "            brent_price      curs  week_n\n",
              "data                                     \n",
              "2018-12-30    -2.443667  1.812973      52\n",
              "2019-01-06     2.838000 -1.016150       1\n",
              "2019-01-13     4.085667 -1.016150       2\n",
              "2019-01-20     1.196667 -0.190153       3\n",
              "2019-01-27     0.335000 -0.529340       4"
            ]
          },
          "metadata": {
            "tags": []
          },
          "execution_count": 200
        }
      ]
    },
    {
      "cell_type": "code",
      "metadata": {
        "id": "yFhr7JIXWRUu",
        "colab_type": "code",
        "colab": {
          "base_uri": "https://localhost:8080/",
          "height": 136
        },
        "outputId": "dc70fdb1-cb24-42ed-b48e-11feeab79ad7"
      },
      "source": [
        "y_test=data_after2016['brent_price'][52*3+1:]\n",
        "y_test.head()"
      ],
      "execution_count": 201,
      "outputs": [
        {
          "output_type": "execute_result",
          "data": {
            "text/plain": [
              "data\n",
              "2019-01-06    2.838000\n",
              "2019-01-13    4.085667\n",
              "2019-01-20    1.196667\n",
              "2019-01-27    0.335000\n",
              "2019-02-03    0.073333\n",
              "Freq: W-SUN, Name: brent_price, dtype: float64"
            ]
          },
          "metadata": {
            "tags": []
          },
          "execution_count": 201
        }
      ]
    },
    {
      "cell_type": "code",
      "metadata": {
        "id": "KviGBhLbT-8D",
        "colab_type": "code",
        "colab": {}
      },
      "source": [
        "import xgboost as xgb\n",
        "from sklearn.model_selection import GridSearchCV"
      ],
      "execution_count": 0,
      "outputs": []
    },
    {
      "cell_type": "code",
      "metadata": {
        "id": "gJfOXN4bc4Hc",
        "colab_type": "code",
        "colab": {}
      },
      "source": [
        "from sklearn.metrics import r2_score"
      ],
      "execution_count": 0,
      "outputs": []
    },
    {
      "cell_type": "code",
      "metadata": {
        "id": "HFG1YDdwiR6B",
        "colab_type": "code",
        "colab": {}
      },
      "source": [
        "gbm = xgb.XGBRegressor()"
      ],
      "execution_count": 0,
      "outputs": []
    },
    {
      "cell_type": "code",
      "metadata": {
        "id": "FYVha1hZj0Om",
        "colab_type": "code",
        "colab": {}
      },
      "source": [
        "# reg_cv = GridSearchCV(gbm, {'max_depth': [2,3], 'n_estimators': [100,300,500,1000]}, verbose=1)\n",
        "# reg_cv.fit(X_train,y_train)"
      ],
      "execution_count": 0,
      "outputs": []
    },
    {
      "cell_type": "code",
      "metadata": {
        "id": "1YfwNuBKkEYh",
        "colab_type": "code",
        "colab": {}
      },
      "source": [
        "reg_cv.best_params_={'max_depth': 2, 'n_estimators': 100}"
      ],
      "execution_count": 0,
      "outputs": []
    },
    {
      "cell_type": "code",
      "metadata": {
        "id": "kUhfzNq8kGK1",
        "colab_type": "code",
        "colab": {}
      },
      "source": [
        "gbm = xgb.XGBRegressor(**reg_cv.best_params_)"
      ],
      "execution_count": 0,
      "outputs": []
    },
    {
      "cell_type": "code",
      "metadata": {
        "id": "2XKGcy4riUoM",
        "colab_type": "code",
        "colab": {
          "base_uri": "https://localhost:8080/",
          "height": 153
        },
        "outputId": "b5384e8d-ad24-4c9a-8efd-8be784950ac7"
      },
      "source": [
        "gbm.fit(X_train,y_train)"
      ],
      "execution_count": 208,
      "outputs": [
        {
          "output_type": "stream",
          "text": [
            "[20:00:49] WARNING: /workspace/src/objective/regression_obj.cu:152: reg:linear is now deprecated in favor of reg:squarederror.\n"
          ],
          "name": "stdout"
        },
        {
          "output_type": "execute_result",
          "data": {
            "text/plain": [
              "XGBRegressor(base_score=0.5, booster='gbtree', colsample_bylevel=1,\n",
              "             colsample_bynode=1, colsample_bytree=1, gamma=0,\n",
              "             importance_type='gain', learning_rate=0.1, max_delta_step=0,\n",
              "             max_depth=2, min_child_weight=1, missing=None, n_estimators=100,\n",
              "             n_jobs=1, nthread=None, objective='reg:linear', random_state=0,\n",
              "             reg_alpha=0, reg_lambda=1, scale_pos_weight=1, seed=None,\n",
              "             silent=None, subsample=1, verbosity=1)"
            ]
          },
          "metadata": {
            "tags": []
          },
          "execution_count": 208
        }
      ]
    },
    {
      "cell_type": "code",
      "metadata": {
        "id": "F9gF94APpjZP",
        "colab_type": "code",
        "colab": {}
      },
      "source": [
        "y_train_pred=gbm.predict(X_train)"
      ],
      "execution_count": 0,
      "outputs": []
    },
    {
      "cell_type": "code",
      "metadata": {
        "id": "3VtVXo8_ppfy",
        "colab_type": "code",
        "colab": {
          "base_uri": "https://localhost:8080/",
          "height": 211
        },
        "outputId": "8286e0b9-e6bf-4d61-aef0-3ec3dd1315e1"
      },
      "source": [
        "plt.figure(figsize=(15,3))\n",
        "plt.plot(y_train.values, label='true')\n",
        "plt.plot(y_train_pred, label='train_predict')\n",
        "\n",
        "plt.legend()\n",
        "plt.grid()"
      ],
      "execution_count": 210,
      "outputs": [
        {
          "output_type": "display_data",
          "data": {
            "image/png": "[encoded data removed]",
            "text/plain": [
              "<Figure size 1080x216 with 1 Axes>"
            ]
          },
          "metadata": {
            "tags": [],
            "needs_background": "light"
          }
        }
      ]
    },
    {
      "cell_type": "code",
      "metadata": {
        "id": "qXRcOOORpzhZ",
        "colab_type": "code",
        "colab": {
          "base_uri": "https://localhost:8080/",
          "height": 34
        },
        "outputId": "94d50cf8-1bb5-45a6-c0ab-2e1831c5b472"
      },
      "source": [
        "r2_score(y_train.values,y_train_pred), mean_absolute_percentage_error(y_train.values,y_train_pred)"
      ],
      "execution_count": 244,
      "outputs": [
        {
          "output_type": "execute_result",
          "data": {
            "text/plain": [
              "(0.5197414102885339, 160.96486505447066)"
            ]
          },
          "metadata": {
            "tags": []
          },
          "execution_count": 244
        }
      ]
    },
    {
      "cell_type": "code",
      "metadata": {
        "id": "-WWTex6ZicQg",
        "colab_type": "code",
        "colab": {}
      },
      "source": [
        "y_pred = gbm.predict(X_test)\n"
      ],
      "execution_count": 0,
      "outputs": []
    },
    {
      "cell_type": "code",
      "metadata": {
        "id": "-Kb7S504il1n",
        "colab_type": "code",
        "colab": {
          "base_uri": "https://localhost:8080/",
          "height": 211
        },
        "outputId": "c2447677-5151-45e6-b67d-eb1ef05eaeae"
      },
      "source": [
        "plt.figure(figsize=(15,3))\n",
        "plt.plot(y_test.values, label='true')\n",
        "plt.plot(y_pred, label='predict')\n",
        "\n",
        "plt.legend()\n",
        "plt.grid()"
      ],
      "execution_count": 213,
      "outputs": [
        {
          "output_type": "display_data",
          "data": {
            "image/png": "[encoded data removed]",
            "text/plain": [
              "<Figure size 1080x216 with 1 Axes>"
            ]
          },
          "metadata": {
            "tags": [],
            "needs_background": "light"
          }
        }
      ]
    },
    {
      "cell_type": "code",
      "metadata": {
        "id": "BkSfCWtDirK2",
        "colab_type": "code",
        "colab": {
          "base_uri": "https://localhost:8080/",
          "height": 34
        },
        "outputId": "9602467e-5e98-4610-de4c-cfe61a3736e6"
      },
      "source": [
        "r1=r2_score(y_test.values,y_pred)\n",
        "r1"
      ],
      "execution_count": 262,
      "outputs": [
        {
          "output_type": "execute_result",
          "data": {
            "text/plain": [
              "0.04670416647280429"
            ]
          },
          "metadata": {
            "tags": []
          },
          "execution_count": 262
        }
      ]
    },
    {
      "cell_type": "code",
      "metadata": {
        "id": "xXNZQ-PNjDCz",
        "colab_type": "code",
        "colab": {}
      },
      "source": [
        "def mean_absolute_percentage_error(y_true, y_pred): \n",
        "    y_true, y_pred = np.array(y_true), np.array(y_pred)\n",
        "    return np.mean(np.abs((y_true - y_pred) / y_true)) * 100"
      ],
      "execution_count": 0,
      "outputs": []
    },
    {
      "cell_type": "code",
      "metadata": {
        "id": "GvwP7KvCjEYq",
        "colab_type": "code",
        "colab": {
          "base_uri": "https://localhost:8080/",
          "height": 34
        },
        "outputId": "9df74eee-9e0d-4707-fcb5-85ac9ad87f0a"
      },
      "source": [
        "mape1=mean_absolute_percentage_error(y_test.values,y_pred)\n",
        "mape1"
      ],
      "execution_count": 263,
      "outputs": [
        {
          "output_type": "execute_result",
          "data": {
            "text/plain": [
              "142.05599827927782"
            ]
          },
          "metadata": {
            "tags": []
          },
          "execution_count": 263
        }
      ]
    },
    {
      "cell_type": "markdown",
      "metadata": {
        "id": "naF9fN7mb8-8",
        "colab_type": "text"
      },
      "source": [
        "Уберем все дополнительные признаки и будем обучать модель только по Brent"
      ]
    },
    {
      "cell_type": "code",
      "metadata": {
        "id": "WhyJxYTpqtqc",
        "colab_type": "code",
        "colab": {
          "base_uri": "https://localhost:8080/",
          "height": 34
        },
        "outputId": "cd5e5000-e996-4d04-80c6-b1189491e50e"
      },
      "source": [
        "X_train2=data_after2016['brent_price'][:52*3].values.reshape(156,1)\n",
        "X_train2.shape"
      ],
      "execution_count": 217,
      "outputs": [
        {
          "output_type": "execute_result",
          "data": {
            "text/plain": [
              "(156, 1)"
            ]
          },
          "metadata": {
            "tags": []
          },
          "execution_count": 217
        }
      ]
    },
    {
      "cell_type": "code",
      "metadata": {
        "id": "aCYyMoVPs3X_",
        "colab_type": "code",
        "colab": {
          "base_uri": "https://localhost:8080/",
          "height": 34
        },
        "outputId": "462773cb-1eb8-435f-a933-3a74c597e6f9"
      },
      "source": [
        "y_train2=y_train.values.reshape(156,1)\n",
        "y_train2.shape"
      ],
      "execution_count": 218,
      "outputs": [
        {
          "output_type": "execute_result",
          "data": {
            "text/plain": [
              "(156, 1)"
            ]
          },
          "metadata": {
            "tags": []
          },
          "execution_count": 218
        }
      ]
    },
    {
      "cell_type": "code",
      "metadata": {
        "id": "1hVvmeBTq8Oz",
        "colab_type": "code",
        "colab": {
          "base_uri": "https://localhost:8080/",
          "height": 34
        },
        "outputId": "749a80e4-8f1f-4da2-ce79-597ec4f95d7a"
      },
      "source": [
        "X_test2=data_after2016['brent_price'][52*3:-1].values.reshape(35,1)\n",
        "X_test.shape"
      ],
      "execution_count": 219,
      "outputs": [
        {
          "output_type": "execute_result",
          "data": {
            "text/plain": [
              "(35, 3)"
            ]
          },
          "metadata": {
            "tags": []
          },
          "execution_count": 219
        }
      ]
    },
    {
      "cell_type": "code",
      "metadata": {
        "id": "qXakldbjwHjF",
        "colab_type": "code",
        "colab": {}
      },
      "source": [
        "y_test2=data_after2016['brent_price'][52*3+1:].values.reshape(35,1)"
      ],
      "execution_count": 0,
      "outputs": []
    },
    {
      "cell_type": "code",
      "metadata": {
        "id": "stR7FVRsrP3D",
        "colab_type": "code",
        "colab": {}
      },
      "source": [
        "gbm = xgb.XGBRegressor(**reg_cv.best_params_)"
      ],
      "execution_count": 0,
      "outputs": []
    },
    {
      "cell_type": "code",
      "metadata": {
        "id": "6bbmXD1urzys",
        "colab_type": "code",
        "colab": {
          "base_uri": "https://localhost:8080/",
          "height": 153
        },
        "outputId": "ae6ef302-02ca-46c9-eab2-d39904b2772e"
      },
      "source": [
        "gbm.fit(X_train2,y_train2)"
      ],
      "execution_count": 222,
      "outputs": [
        {
          "output_type": "stream",
          "text": [
            "[20:00:50] WARNING: /workspace/src/objective/regression_obj.cu:152: reg:linear is now deprecated in favor of reg:squarederror.\n"
          ],
          "name": "stdout"
        },
        {
          "output_type": "execute_result",
          "data": {
            "text/plain": [
              "XGBRegressor(base_score=0.5, booster='gbtree', colsample_bylevel=1,\n",
              "             colsample_bynode=1, colsample_bytree=1, gamma=0,\n",
              "             importance_type='gain', learning_rate=0.1, max_delta_step=0,\n",
              "             max_depth=2, min_child_weight=1, missing=None, n_estimators=100,\n",
              "             n_jobs=1, nthread=None, objective='reg:linear', random_state=0,\n",
              "             reg_alpha=0, reg_lambda=1, scale_pos_weight=1, seed=None,\n",
              "             silent=None, subsample=1, verbosity=1)"
            ]
          },
          "metadata": {
            "tags": []
          },
          "execution_count": 222
        }
      ]
    },
    {
      "cell_type": "code",
      "metadata": {
        "id": "WIaLSWdpvW1q",
        "colab_type": "code",
        "colab": {}
      },
      "source": [
        "y_train_pred2=gbm.predict(X_train2)"
      ],
      "execution_count": 0,
      "outputs": []
    },
    {
      "cell_type": "code",
      "metadata": {
        "id": "8NCTuh_LrVkc",
        "colab_type": "code",
        "colab": {
          "base_uri": "https://localhost:8080/",
          "height": 211
        },
        "outputId": "2df3e369-9eda-4c91-8423-1a0bac2731e4"
      },
      "source": [
        "plt.figure(figsize=(15,3))\n",
        "plt.plot(y_train.values, label='true')\n",
        "plt.plot(y_train_pred2, label='train_predict2')\n",
        "\n",
        "plt.legend()\n",
        "plt.grid()"
      ],
      "execution_count": 224,
      "outputs": [
        {
          "output_type": "display_data",
          "data": {
            "image/png": "[encoded data removed]",
            "text/plain": [
              "<Figure size 1080x216 with 1 Axes>"
            ]
          },
          "metadata": {
            "tags": [],
            "needs_background": "light"
          }
        }
      ]
    },
    {
      "cell_type": "code",
      "metadata": {
        "id": "AqGYpHypvm50",
        "colab_type": "code",
        "colab": {
          "base_uri": "https://localhost:8080/",
          "height": 34
        },
        "outputId": "07765d3c-25c0-46a4-f1db-2a16e4c7a639"
      },
      "source": [
        "r2_score(y_train.values,y_train_pred2), mean_absolute_percentage_error(y_train.values,y_train_pred2)"
      ],
      "execution_count": 243,
      "outputs": [
        {
          "output_type": "execute_result",
          "data": {
            "text/plain": [
              "(0.4461541453753387, 139.66961932561506)"
            ]
          },
          "metadata": {
            "tags": []
          },
          "execution_count": 243
        }
      ]
    },
    {
      "cell_type": "markdown",
      "metadata": {
        "id": "7L6C5PimyIaB",
        "colab_type": "text"
      },
      "source": [
        "r2 на трейне упал"
      ]
    },
    {
      "cell_type": "code",
      "metadata": {
        "id": "roZXtoXmwPIK",
        "colab_type": "code",
        "colab": {}
      },
      "source": [
        "y_test_pred2=gbm.predict(X_test2)"
      ],
      "execution_count": 0,
      "outputs": []
    },
    {
      "cell_type": "code",
      "metadata": {
        "id": "RAoZKbgzwSiL",
        "colab_type": "code",
        "colab": {
          "base_uri": "https://localhost:8080/",
          "height": 211
        },
        "outputId": "e946abc6-11a1-4251-d705-bde7cae5df20"
      },
      "source": [
        "plt.figure(figsize=(15,3))\n",
        "plt.plot(y_test.values, label='true')\n",
        "plt.plot(y_test_pred2, label='test_predict2')\n",
        "\n",
        "plt.legend()\n",
        "plt.grid()"
      ],
      "execution_count": 227,
      "outputs": [
        {
          "output_type": "display_data",
          "data": {
            "image/png": "[encoded data removed]",
            "text/plain": [
              "<Figure size 1080x216 with 1 Axes>"
            ]
          },
          "metadata": {
            "tags": [],
            "needs_background": "light"
          }
        }
      ]
    },
    {
      "cell_type": "code",
      "metadata": {
        "id": "bTHr87X3wcAz",
        "colab_type": "code",
        "colab": {
          "base_uri": "https://localhost:8080/",
          "height": 34
        },
        "outputId": "74781bae-0639-481e-a1df-3b77a84baa40"
      },
      "source": [
        "r2=r2_score(y_test.values,y_test_pred2)\n",
        "r2"
      ],
      "execution_count": 264,
      "outputs": [
        {
          "output_type": "execute_result",
          "data": {
            "text/plain": [
              "-0.039272339285641555"
            ]
          },
          "metadata": {
            "tags": []
          },
          "execution_count": 264
        }
      ]
    },
    {
      "cell_type": "code",
      "metadata": {
        "id": "kkc4OaRgwjfA",
        "colab_type": "code",
        "colab": {
          "base_uri": "https://localhost:8080/",
          "height": 34
        },
        "outputId": "69b7a4cd-ef2c-4185-8a28-4316fcde9712"
      },
      "source": [
        "mape2=mean_absolute_percentage_error(y_test.values,y_test_pred2)\n",
        "mape2"
      ],
      "execution_count": 265,
      "outputs": [
        {
          "output_type": "execute_result",
          "data": {
            "text/plain": [
              "123.32958378308972"
            ]
          },
          "metadata": {
            "tags": []
          },
          "execution_count": 265
        }
      ]
    },
    {
      "cell_type": "markdown",
      "metadata": {
        "id": "RQtNQ0dm0PZx",
        "colab_type": "text"
      },
      "source": [
        "по r2 предсказание теста без дополнительных признаков стал хуже, а MAPE чуть улучшился"
      ]
    },
    {
      "cell_type": "markdown",
      "metadata": {
        "id": "OTIy0CSRyiF8",
        "colab_type": "text"
      },
      "source": [
        "Оставим только brent и курс валют (т.е. без номера недели)"
      ]
    },
    {
      "cell_type": "code",
      "metadata": {
        "id": "DDRgzNdryoTS",
        "colab_type": "code",
        "colab": {}
      },
      "source": [
        "X_train3=X_train.drop(columns='week_n')\n",
        "X_test3=X_test.drop(columns='week_n')"
      ],
      "execution_count": 0,
      "outputs": []
    },
    {
      "cell_type": "code",
      "metadata": {
        "id": "Z9U94CqezCQT",
        "colab_type": "code",
        "colab": {
          "base_uri": "https://localhost:8080/",
          "height": 153
        },
        "outputId": "f5588ba2-2ab8-4934-8a89-735c930fc72d"
      },
      "source": [
        "gbm.fit(X_train3,y_train)"
      ],
      "execution_count": 234,
      "outputs": [
        {
          "output_type": "stream",
          "text": [
            "[20:06:21] WARNING: /workspace/src/objective/regression_obj.cu:152: reg:linear is now deprecated in favor of reg:squarederror.\n"
          ],
          "name": "stdout"
        },
        {
          "output_type": "execute_result",
          "data": {
            "text/plain": [
              "XGBRegressor(base_score=0.5, booster='gbtree', colsample_bylevel=1,\n",
              "             colsample_bynode=1, colsample_bytree=1, gamma=0,\n",
              "             importance_type='gain', learning_rate=0.1, max_delta_step=0,\n",
              "             max_depth=2, min_child_weight=1, missing=None, n_estimators=100,\n",
              "             n_jobs=1, nthread=None, objective='reg:linear', random_state=0,\n",
              "             reg_alpha=0, reg_lambda=1, scale_pos_weight=1, seed=None,\n",
              "             silent=None, subsample=1, verbosity=1)"
            ]
          },
          "metadata": {
            "tags": []
          },
          "execution_count": 234
        }
      ]
    },
    {
      "cell_type": "code",
      "metadata": {
        "id": "o_p-hqx9zMwx",
        "colab_type": "code",
        "colab": {
          "base_uri": "https://localhost:8080/",
          "height": 34
        },
        "outputId": "c21cd596-b668-4956-9fdc-dc1437aa8f08"
      },
      "source": [
        "y_train_pred3=gbm.predict(X_train3)\n",
        "r2_score(y_train.values,y_train_pred3), mean_absolute_percentage_error(y_train.values,y_train_pred3)"
      ],
      "execution_count": 242,
      "outputs": [
        {
          "output_type": "execute_result",
          "data": {
            "text/plain": [
              "(0.5241127189101373, 150.90962480812175)"
            ]
          },
          "metadata": {
            "tags": []
          },
          "execution_count": 242
        }
      ]
    },
    {
      "cell_type": "markdown",
      "metadata": {
        "id": "vM8GR3Q9zbIS",
        "colab_type": "text"
      },
      "source": [
        "без номера недели r2 на трейне лучше"
      ]
    },
    {
      "cell_type": "code",
      "metadata": {
        "id": "r9aXe0lpzjic",
        "colab_type": "code",
        "colab": {}
      },
      "source": [
        "y_test_pred3=gbm.predict(X_test3)"
      ],
      "execution_count": 0,
      "outputs": []
    },
    {
      "cell_type": "code",
      "metadata": {
        "id": "f0xvXCAvzphT",
        "colab_type": "code",
        "colab": {
          "base_uri": "https://localhost:8080/",
          "height": 227
        },
        "outputId": "f7a6889f-fa92-41a5-889b-e14005a97ce4"
      },
      "source": [
        "plt.figure(figsize=(15,3))\n",
        "plt.plot(y_test.values, label='true')\n",
        "plt.plot(y_test_pred3, label='test_predict3')\n",
        "plt.title('предсказание на 2х признаках: brent и курс $')\n",
        "plt.legend()\n",
        "plt.grid()"
      ],
      "execution_count": 237,
      "outputs": [
        {
          "output_type": "display_data",
          "data": {
            "image/png": "[encoded data removed]",
            "text/plain": [
              "<Figure size 1080x216 with 1 Axes>"
            ]
          },
          "metadata": {
            "tags": [],
            "needs_background": "light"
          }
        }
      ]
    },
    {
      "cell_type": "code",
      "metadata": {
        "id": "zJuVgzrVz5J9",
        "colab_type": "code",
        "colab": {
          "base_uri": "https://localhost:8080/",
          "height": 34
        },
        "outputId": "fe1f32d9-9cd8-4481-9f3c-d2b4071be739"
      },
      "source": [
        "r3=r2_score(y_test.values,y_test_pred3)\n",
        "r3"
      ],
      "execution_count": 266,
      "outputs": [
        {
          "output_type": "execute_result",
          "data": {
            "text/plain": [
              "0.14428515794571983"
            ]
          },
          "metadata": {
            "tags": []
          },
          "execution_count": 266
        }
      ]
    },
    {
      "cell_type": "markdown",
      "metadata": {
        "id": "mmLu9_Usz_N0",
        "colab_type": "text"
      },
      "source": [
        "без номера недели r2 на тесте лучше"
      ]
    },
    {
      "cell_type": "code",
      "metadata": {
        "id": "Q4NWGTnUz9Lw",
        "colab_type": "code",
        "colab": {
          "base_uri": "https://localhost:8080/",
          "height": 34
        },
        "outputId": "4a6c9cfa-6725-44c7-bdd0-a43cca490227"
      },
      "source": [
        "mape3=mean_absolute_percentage_error(y_test.values,y_test_pred3)\n",
        "mape3"
      ],
      "execution_count": 267,
      "outputs": [
        {
          "output_type": "execute_result",
          "data": {
            "text/plain": [
              "152.9893063342006"
            ]
          },
          "metadata": {
            "tags": []
          },
          "execution_count": 267
        }
      ]
    },
    {
      "cell_type": "markdown",
      "metadata": {
        "id": "Fj-gSGJv0UaM",
        "colab_type": "text"
      },
      "source": [
        "без номера недели MAPE на тесте хуже"
      ]
    },
    {
      "cell_type": "markdown",
      "metadata": {
        "id": "3aUCBxe31GjV",
        "colab_type": "text"
      },
      "source": [
        "теперь просто обучим прямую модель в зависимости от курса доллара"
      ]
    },
    {
      "cell_type": "code",
      "metadata": {
        "id": "IzQ_zOa415AL",
        "colab_type": "code",
        "colab": {}
      },
      "source": [
        "X_train4=data_after2016['curs'][:52*3].values.reshape(156,1)\n",
        "y_train4=data_after2016['brent_price'][:52*3].values.reshape(156,1)"
      ],
      "execution_count": 0,
      "outputs": []
    },
    {
      "cell_type": "code",
      "metadata": {
        "id": "UWokwK4X3eeX",
        "colab_type": "code",
        "colab": {}
      },
      "source": [
        "X_test4=data_after2016['curs'][52*3:].values.reshape(36,1)\n",
        "y_test4=data_after2016['brent_price'][52*3:].values.reshape(36,1)"
      ],
      "execution_count": 0,
      "outputs": []
    },
    {
      "cell_type": "code",
      "metadata": {
        "id": "7IuCRZqK1CSO",
        "colab_type": "code",
        "colab": {
          "base_uri": "https://localhost:8080/",
          "height": 153
        },
        "outputId": "08bcd2b4-4a0e-4bef-9ed2-0419e0bd6086"
      },
      "source": [
        "gbm.fit(X_train4,y_train4)"
      ],
      "execution_count": 255,
      "outputs": [
        {
          "output_type": "stream",
          "text": [
            "[20:28:13] WARNING: /workspace/src/objective/regression_obj.cu:152: reg:linear is now deprecated in favor of reg:squarederror.\n"
          ],
          "name": "stdout"
        },
        {
          "output_type": "execute_result",
          "data": {
            "text/plain": [
              "XGBRegressor(base_score=0.5, booster='gbtree', colsample_bylevel=1,\n",
              "             colsample_bynode=1, colsample_bytree=1, gamma=0,\n",
              "             importance_type='gain', learning_rate=0.1, max_delta_step=0,\n",
              "             max_depth=2, min_child_weight=1, missing=None, n_estimators=100,\n",
              "             n_jobs=1, nthread=None, objective='reg:linear', random_state=0,\n",
              "             reg_alpha=0, reg_lambda=1, scale_pos_weight=1, seed=None,\n",
              "             silent=None, subsample=1, verbosity=1)"
            ]
          },
          "metadata": {
            "tags": []
          },
          "execution_count": 255
        }
      ]
    },
    {
      "cell_type": "code",
      "metadata": {
        "id": "zRXkzENF4NSD",
        "colab_type": "code",
        "colab": {
          "base_uri": "https://localhost:8080/",
          "height": 34
        },
        "outputId": "495ff38b-37c8-4ea9-991e-6c19f994e0a5"
      },
      "source": [
        "y_train_pred4=gbm.predict(X_train4)\n",
        "r2_score(y_train4,y_train_pred4), mean_absolute_percentage_error(y_train4,y_train_pred4)"
      ],
      "execution_count": 257,
      "outputs": [
        {
          "output_type": "execute_result",
          "data": {
            "text/plain": [
              "(0.4542090524284409, 263.6941513960107)"
            ]
          },
          "metadata": {
            "tags": []
          },
          "execution_count": 257
        }
      ]
    },
    {
      "cell_type": "code",
      "metadata": {
        "id": "ijlkHXnk4hq6",
        "colab_type": "code",
        "colab": {
          "base_uri": "https://localhost:8080/",
          "height": 34
        },
        "outputId": "c73dd64a-81bd-4e76-c9ed-4583308874fd"
      },
      "source": [
        "y_test_pred4=gbm.predict(X_test4)\n",
        "r4=r2_score(y_test4,y_test_pred4) \n",
        "mape4=mean_absolute_percentage_error(y_test4,y_test_pred4)\n",
        "r4, mape4"
      ],
      "execution_count": 270,
      "outputs": [
        {
          "output_type": "execute_result",
          "data": {
            "text/plain": [
              "(0.049771530611952164, 148.76074772970256)"
            ]
          },
          "metadata": {
            "tags": []
          },
          "execution_count": 270
        }
      ]
    },
    {
      "cell_type": "code",
      "metadata": {
        "id": "AdbWoTEo5uXB",
        "colab_type": "code",
        "colab": {}
      },
      "source": [
        "R2=[r1,r2,r3,r4]\n",
        "MAPE=[mape1,mape2,mape3,mape4]"
      ],
      "execution_count": 0,
      "outputs": []
    },
    {
      "cell_type": "code",
      "metadata": {
        "id": "IZJRq0gA59YS",
        "colab_type": "code",
        "colab": {
          "base_uri": "https://localhost:8080/",
          "height": 363
        },
        "outputId": "971f6a2a-d3b9-4af6-d698-5de1ee89623b"
      },
      "source": [
        "plt.figure(figsize=(10,3))\n",
        "plt.bar(np.arange(4),R2)\n",
        "plt.title('r2_score')\n",
        "plt.xticks(np.arange(4),labels=['h=1, brent, $, week', 'h=1, brent', 'h=1, brent, $', 'direct brent by $'])"
      ],
      "execution_count": 290,
      "outputs": [
        {
          "output_type": "execute_result",
          "data": {
            "text/plain": [
              "([<matplotlib.axis.XTick at 0x7fe8a1ec0400>,\n",
              "  <matplotlib.axis.XTick at 0x7fe8a1ec02b0>,\n",
              "  <matplotlib.axis.XTick at 0x7fe8a1ec0390>,\n",
              "  <matplotlib.axis.XTick at 0x7fe8a1ef4b00>],\n",
              " [Text(0, 0, 'h=1, brent, $, week'),\n",
              "  Text(0, 0, 'h=1, brent'),\n",
              "  Text(0, 0, 'h=1, brent, $'),\n",
              "  Text(0, 0, 'direct brent by $')])"
            ]
          },
          "metadata": {
            "tags": []
          },
          "execution_count": 290
        },
        {
          "output_type": "display_data",
          "data": {
            "image/png": "[encoded data removed]",
            "text/plain": [
              "<Figure size 720x216 with 1 Axes>"
            ]
          },
          "metadata": {
            "tags": [],
            "needs_background": "light"
          }
        }
      ]
    },
    {
      "cell_type": "code",
      "metadata": {
        "id": "5jdyLbDm8Tsj",
        "colab_type": "code",
        "colab": {
          "base_uri": "https://localhost:8080/",
          "height": 363
        },
        "outputId": "e0abf0dc-8895-4f5d-e7af-e0ed4f0d20f0"
      },
      "source": [
        "plt.figure(figsize=(10,3))\n",
        "plt.bar(np.arange(4),MAPE)\n",
        "plt.title('MAPE')\n",
        "plt.xticks(np.arange(4),labels=['h=1, brent, $, week', 'h=1, brent', 'h=1, brent, $', 'direct brent by $'])"
      ],
      "execution_count": 291,
      "outputs": [
        {
          "output_type": "execute_result",
          "data": {
            "text/plain": [
              "([<matplotlib.axis.XTick at 0x7fe8a1e99ac8>,\n",
              "  <matplotlib.axis.XTick at 0x7fe8a1e99be0>,\n",
              "  <matplotlib.axis.XTick at 0x7fe8a1e997b8>,\n",
              "  <matplotlib.axis.XTick at 0x7fe8a2595160>],\n",
              " [Text(0, 0, 'h=1, brent, $, week'),\n",
              "  Text(0, 0, 'h=1, brent'),\n",
              "  Text(0, 0, 'h=1, brent, $'),\n",
              "  Text(0, 0, 'direct brent by $')])"
            ]
          },
          "metadata": {
            "tags": []
          },
          "execution_count": 291
        },
        {
          "output_type": "display_data",
          "data": {
            "image/png": "[encoded data removed]",
            "text/plain": [
              "<Figure size 720x216 with 1 Axes>"
            ]
          },
          "metadata": {
            "tags": [],
            "needs_background": "light"
          }
        }
      ]
    },
    {
      "cell_type": "markdown",
      "metadata": {
        "id": "rLeJtnXv5zY7",
        "colab_type": "text"
      },
      "source": [
        "Вывод по MAPE: судя по последним 2м столбикам, если предсказывать цену нефти просто в зависимости от курса доллара, то ошибка предсказания не особо сильно падает по сравнению с h1 brent & dollar.\n",
        "Если смотреть еще на r2, то лучшее предсказание все-таки дает h1 brent & dollar\n"
      ]
    }
  ]
}