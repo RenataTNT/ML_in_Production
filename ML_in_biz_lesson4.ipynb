{
  "nbformat": 4,
  "nbformat_minor": 0,
  "metadata": {
    "colab": {
      "name": "ML_in_biz_lesson4.ipynb",
      "provenance": [],
      "collapsed_sections": [],
      "authorship_tag": "ABX9TyN6egG1xsW9C8A6M6FFBAX4",
      "include_colab_link": true
    },
    "kernelspec": {
      "name": "python3",
      "display_name": "Python 3"
    }
  },
  "cells": [
    {
      "cell_type": "markdown",
      "metadata": {
        "id": "view-in-github",
        "colab_type": "text"
      },
      "source": [
        "<a href=\"https://colab.research.google.com/github/RenataTNT/ML_in_Production/blob/master/ML_in_biz_lesson4.ipynb\" target=\"_parent\"><img src=\"https://colab.research.google.com/assets/colab-badge.svg\" alt=\"Open In Colab\"/></a>"
      ]
    },
    {
      "cell_type": "markdown",
      "metadata": {
        "id": "rW5gFOZEE7Ko",
        "colab_type": "text"
      },
      "source": [
        "1.\n",
        "Прочитайте базу COVID19_data.csv .\n",
        "\n",
        "Постройте модель предсказания 4-й точки от текущей (h = 4), используя результаты автокорреляционного анализа из предшествующих уроков .\n",
        "\n",
        "Постройте модель предсказания 1-й точки от текущей (h = 1), используя результаты автокорреляционного анализа из предшествующих уроков.\n"
      ]
    },
    {
      "cell_type": "code",
      "metadata": {
        "id": "6Dq3ncJjFi-D",
        "colab_type": "code",
        "colab": {}
      },
      "source": [
        "import pandas as pd\n",
        "import matplotlib.pyplot as plt"
      ],
      "execution_count": 0,
      "outputs": []
    },
    {
      "cell_type": "code",
      "metadata": {
        "id": "GlITexr7E9FM",
        "colab_type": "code",
        "colab": {}
      },
      "source": [
        "covid_data=pd.read_csv('covid_19_data.csv')"
      ],
      "execution_count": 0,
      "outputs": []
    },
    {
      "cell_type": "code",
      "metadata": {
        "id": "pwcrjbjtFHlX",
        "colab_type": "code",
        "colab": {}
      },
      "source": [
        "COVID = covid_data.copy()\n",
        "\n",
        "COVID['Date']= pd.to_datetime(COVID['ObservationDate']).dt.date"
      ],
      "execution_count": 0,
      "outputs": []
    },
    {
      "cell_type": "code",
      "metadata": {
        "id": "2J_s8G02FMD7",
        "colab_type": "code",
        "colab": {
          "base_uri": "https://localhost:8080/",
          "height": 204
        },
        "outputId": "9a8864c3-32ab-44a4-ebf3-a70d15806383"
      },
      "source": [
        "Russia=COVID.loc[COVID['Country/Region']=='Russia']\n",
        "Russia_covid=Russia.set_index(pd.DatetimeIndex(Russia['Date'].values))\n",
        "Russia_covid.tail()"
      ],
      "execution_count": 4,
      "outputs": [
        {
          "output_type": "execute_result",
          "data": {
            "text/html": [
              "<div>\n",
              "<style scoped>\n",
              "    .dataframe tbody tr th:only-of-type {\n",
              "        vertical-align: middle;\n",
              "    }\n",
              "\n",
              "    .dataframe tbody tr th {\n",
              "        vertical-align: top;\n",
              "    }\n",
              "\n",
              "    .dataframe thead th {\n",
              "        text-align: right;\n",
              "    }\n",
              "</style>\n",
              "<table border=\"1\" class=\"dataframe\">\n",
              "  <thead>\n",
              "    <tr style=\"text-align: right;\">\n",
              "      <th></th>\n",
              "      <th>SNo</th>\n",
              "      <th>ObservationDate</th>\n",
              "      <th>Province/State</th>\n",
              "      <th>Country/Region</th>\n",
              "      <th>Last Update</th>\n",
              "      <th>Confirmed</th>\n",
              "      <th>Deaths</th>\n",
              "      <th>Recovered</th>\n",
              "      <th>Date</th>\n",
              "    </tr>\n",
              "  </thead>\n",
              "  <tbody>\n",
              "    <tr>\n",
              "      <th>2020-04-14</th>\n",
              "      <td>14944</td>\n",
              "      <td>04/14/2020</td>\n",
              "      <td>NaN</td>\n",
              "      <td>Russia</td>\n",
              "      <td>2020-04-14 23:41:11</td>\n",
              "      <td>21102.0</td>\n",
              "      <td>170.0</td>\n",
              "      <td>1694.0</td>\n",
              "      <td>2020-04-14</td>\n",
              "    </tr>\n",
              "    <tr>\n",
              "      <th>2020-04-15</th>\n",
              "      <td>15264</td>\n",
              "      <td>04/15/2020</td>\n",
              "      <td>NaN</td>\n",
              "      <td>Russia</td>\n",
              "      <td>2020-04-15 23:04:26</td>\n",
              "      <td>24490.0</td>\n",
              "      <td>198.0</td>\n",
              "      <td>1986.0</td>\n",
              "      <td>2020-04-15</td>\n",
              "    </tr>\n",
              "    <tr>\n",
              "      <th>2020-04-16</th>\n",
              "      <td>15584</td>\n",
              "      <td>04/16/2020</td>\n",
              "      <td>NaN</td>\n",
              "      <td>Russia</td>\n",
              "      <td>2020-04-16 23:38:19</td>\n",
              "      <td>27938.0</td>\n",
              "      <td>232.0</td>\n",
              "      <td>2304.0</td>\n",
              "      <td>2020-04-16</td>\n",
              "    </tr>\n",
              "    <tr>\n",
              "      <th>2020-04-17</th>\n",
              "      <td>15904</td>\n",
              "      <td>04/17/2020</td>\n",
              "      <td>NaN</td>\n",
              "      <td>Russia</td>\n",
              "      <td>2020-04-17 23:38:48</td>\n",
              "      <td>32008.0</td>\n",
              "      <td>273.0</td>\n",
              "      <td>2590.0</td>\n",
              "      <td>2020-04-17</td>\n",
              "    </tr>\n",
              "    <tr>\n",
              "      <th>2020-04-18</th>\n",
              "      <td>16224</td>\n",
              "      <td>04/18/2020</td>\n",
              "      <td>NaN</td>\n",
              "      <td>Russia</td>\n",
              "      <td>2020-04-18 22:40:18</td>\n",
              "      <td>36793.0</td>\n",
              "      <td>313.0</td>\n",
              "      <td>3057.0</td>\n",
              "      <td>2020-04-18</td>\n",
              "    </tr>\n",
              "  </tbody>\n",
              "</table>\n",
              "</div>"
            ],
            "text/plain": [
              "              SNo ObservationDate Province/State  ... Deaths Recovered        Date\n",
              "2020-04-14  14944      04/14/2020            NaN  ...  170.0    1694.0  2020-04-14\n",
              "2020-04-15  15264      04/15/2020            NaN  ...  198.0    1986.0  2020-04-15\n",
              "2020-04-16  15584      04/16/2020            NaN  ...  232.0    2304.0  2020-04-16\n",
              "2020-04-17  15904      04/17/2020            NaN  ...  273.0    2590.0  2020-04-17\n",
              "2020-04-18  16224      04/18/2020            NaN  ...  313.0    3057.0  2020-04-18\n",
              "\n",
              "[5 rows x 9 columns]"
            ]
          },
          "metadata": {
            "tags": []
          },
          "execution_count": 4
        }
      ]
    },
    {
      "cell_type": "code",
      "metadata": {
        "id": "YMxLw_E5FOee",
        "colab_type": "code",
        "colab": {
          "base_uri": "https://localhost:8080/",
          "height": 235
        },
        "outputId": "aeb2f403-db99-472c-da92-a216fa7bb412"
      },
      "source": [
        "Russia_covid=Russia_covid.groupby('Date').sum()\n",
        "Russia_covid=Russia_covid.drop('SNo', axis=1)\n",
        "Russia_covid.tail()"
      ],
      "execution_count": 5,
      "outputs": [
        {
          "output_type": "execute_result",
          "data": {
            "text/html": [
              "<div>\n",
              "<style scoped>\n",
              "    .dataframe tbody tr th:only-of-type {\n",
              "        vertical-align: middle;\n",
              "    }\n",
              "\n",
              "    .dataframe tbody tr th {\n",
              "        vertical-align: top;\n",
              "    }\n",
              "\n",
              "    .dataframe thead th {\n",
              "        text-align: right;\n",
              "    }\n",
              "</style>\n",
              "<table border=\"1\" class=\"dataframe\">\n",
              "  <thead>\n",
              "    <tr style=\"text-align: right;\">\n",
              "      <th></th>\n",
              "      <th>Confirmed</th>\n",
              "      <th>Deaths</th>\n",
              "      <th>Recovered</th>\n",
              "    </tr>\n",
              "    <tr>\n",
              "      <th>Date</th>\n",
              "      <th></th>\n",
              "      <th></th>\n",
              "      <th></th>\n",
              "    </tr>\n",
              "  </thead>\n",
              "  <tbody>\n",
              "    <tr>\n",
              "      <th>2020-04-14</th>\n",
              "      <td>21102.0</td>\n",
              "      <td>170.0</td>\n",
              "      <td>1694.0</td>\n",
              "    </tr>\n",
              "    <tr>\n",
              "      <th>2020-04-15</th>\n",
              "      <td>24490.0</td>\n",
              "      <td>198.0</td>\n",
              "      <td>1986.0</td>\n",
              "    </tr>\n",
              "    <tr>\n",
              "      <th>2020-04-16</th>\n",
              "      <td>27938.0</td>\n",
              "      <td>232.0</td>\n",
              "      <td>2304.0</td>\n",
              "    </tr>\n",
              "    <tr>\n",
              "      <th>2020-04-17</th>\n",
              "      <td>32008.0</td>\n",
              "      <td>273.0</td>\n",
              "      <td>2590.0</td>\n",
              "    </tr>\n",
              "    <tr>\n",
              "      <th>2020-04-18</th>\n",
              "      <td>36793.0</td>\n",
              "      <td>313.0</td>\n",
              "      <td>3057.0</td>\n",
              "    </tr>\n",
              "  </tbody>\n",
              "</table>\n",
              "</div>"
            ],
            "text/plain": [
              "            Confirmed  Deaths  Recovered\n",
              "Date                                    \n",
              "2020-04-14    21102.0   170.0     1694.0\n",
              "2020-04-15    24490.0   198.0     1986.0\n",
              "2020-04-16    27938.0   232.0     2304.0\n",
              "2020-04-17    32008.0   273.0     2590.0\n",
              "2020-04-18    36793.0   313.0     3057.0"
            ]
          },
          "metadata": {
            "tags": []
          },
          "execution_count": 5
        }
      ]
    },
    {
      "cell_type": "markdown",
      "metadata": {
        "id": "0FpnK7YsFSFG",
        "colab_type": "text"
      },
      "source": [
        "Будем анализировать не нарастающие итоги заболеваний, а дневные приросты"
      ]
    },
    {
      "cell_type": "code",
      "metadata": {
        "id": "tCI5_rh_FTjJ",
        "colab_type": "code",
        "colab": {
          "base_uri": "https://localhost:8080/",
          "height": 450
        },
        "outputId": "2c40bf06-376f-4e07-c65c-38f9c72417ef"
      },
      "source": [
        "Russia_covid['Confirmed_daily']=Russia_covid['Confirmed']\n",
        "Russia_covid['Confirmed_daily'].iloc[1:]=Russia_covid['Confirmed'].iloc[1:].values-Russia_covid['Confirmed'].iloc[:-1].values\n",
        "Russia_covid"
      ],
      "execution_count": 6,
      "outputs": [
        {
          "output_type": "execute_result",
          "data": {
            "text/html": [
              "<div>\n",
              "<style scoped>\n",
              "    .dataframe tbody tr th:only-of-type {\n",
              "        vertical-align: middle;\n",
              "    }\n",
              "\n",
              "    .dataframe tbody tr th {\n",
              "        vertical-align: top;\n",
              "    }\n",
              "\n",
              "    .dataframe thead th {\n",
              "        text-align: right;\n",
              "    }\n",
              "</style>\n",
              "<table border=\"1\" class=\"dataframe\">\n",
              "  <thead>\n",
              "    <tr style=\"text-align: right;\">\n",
              "      <th></th>\n",
              "      <th>Confirmed</th>\n",
              "      <th>Deaths</th>\n",
              "      <th>Recovered</th>\n",
              "      <th>Confirmed_daily</th>\n",
              "    </tr>\n",
              "    <tr>\n",
              "      <th>Date</th>\n",
              "      <th></th>\n",
              "      <th></th>\n",
              "      <th></th>\n",
              "      <th></th>\n",
              "    </tr>\n",
              "  </thead>\n",
              "  <tbody>\n",
              "    <tr>\n",
              "      <th>2020-01-31</th>\n",
              "      <td>2.0</td>\n",
              "      <td>0.0</td>\n",
              "      <td>0.0</td>\n",
              "      <td>2.0</td>\n",
              "    </tr>\n",
              "    <tr>\n",
              "      <th>2020-02-01</th>\n",
              "      <td>2.0</td>\n",
              "      <td>0.0</td>\n",
              "      <td>0.0</td>\n",
              "      <td>0.0</td>\n",
              "    </tr>\n",
              "    <tr>\n",
              "      <th>2020-02-02</th>\n",
              "      <td>2.0</td>\n",
              "      <td>0.0</td>\n",
              "      <td>0.0</td>\n",
              "      <td>0.0</td>\n",
              "    </tr>\n",
              "    <tr>\n",
              "      <th>2020-02-03</th>\n",
              "      <td>2.0</td>\n",
              "      <td>0.0</td>\n",
              "      <td>0.0</td>\n",
              "      <td>0.0</td>\n",
              "    </tr>\n",
              "    <tr>\n",
              "      <th>2020-02-04</th>\n",
              "      <td>2.0</td>\n",
              "      <td>0.0</td>\n",
              "      <td>0.0</td>\n",
              "      <td>0.0</td>\n",
              "    </tr>\n",
              "    <tr>\n",
              "      <th>...</th>\n",
              "      <td>...</td>\n",
              "      <td>...</td>\n",
              "      <td>...</td>\n",
              "      <td>...</td>\n",
              "    </tr>\n",
              "    <tr>\n",
              "      <th>2020-04-14</th>\n",
              "      <td>21102.0</td>\n",
              "      <td>170.0</td>\n",
              "      <td>1694.0</td>\n",
              "      <td>2774.0</td>\n",
              "    </tr>\n",
              "    <tr>\n",
              "      <th>2020-04-15</th>\n",
              "      <td>24490.0</td>\n",
              "      <td>198.0</td>\n",
              "      <td>1986.0</td>\n",
              "      <td>3388.0</td>\n",
              "    </tr>\n",
              "    <tr>\n",
              "      <th>2020-04-16</th>\n",
              "      <td>27938.0</td>\n",
              "      <td>232.0</td>\n",
              "      <td>2304.0</td>\n",
              "      <td>3448.0</td>\n",
              "    </tr>\n",
              "    <tr>\n",
              "      <th>2020-04-17</th>\n",
              "      <td>32008.0</td>\n",
              "      <td>273.0</td>\n",
              "      <td>2590.0</td>\n",
              "      <td>4070.0</td>\n",
              "    </tr>\n",
              "    <tr>\n",
              "      <th>2020-04-18</th>\n",
              "      <td>36793.0</td>\n",
              "      <td>313.0</td>\n",
              "      <td>3057.0</td>\n",
              "      <td>4785.0</td>\n",
              "    </tr>\n",
              "  </tbody>\n",
              "</table>\n",
              "<p>79 rows × 4 columns</p>\n",
              "</div>"
            ],
            "text/plain": [
              "            Confirmed  Deaths  Recovered  Confirmed_daily\n",
              "Date                                                     \n",
              "2020-01-31        2.0     0.0        0.0              2.0\n",
              "2020-02-01        2.0     0.0        0.0              0.0\n",
              "2020-02-02        2.0     0.0        0.0              0.0\n",
              "2020-02-03        2.0     0.0        0.0              0.0\n",
              "2020-02-04        2.0     0.0        0.0              0.0\n",
              "...               ...     ...        ...              ...\n",
              "2020-04-14    21102.0   170.0     1694.0           2774.0\n",
              "2020-04-15    24490.0   198.0     1986.0           3388.0\n",
              "2020-04-16    27938.0   232.0     2304.0           3448.0\n",
              "2020-04-17    32008.0   273.0     2590.0           4070.0\n",
              "2020-04-18    36793.0   313.0     3057.0           4785.0\n",
              "\n",
              "[79 rows x 4 columns]"
            ]
          },
          "metadata": {
            "tags": []
          },
          "execution_count": 6
        }
      ]
    },
    {
      "cell_type": "code",
      "metadata": {
        "id": "I5V4rYC_FaPC",
        "colab_type": "code",
        "colab": {
          "base_uri": "https://localhost:8080/",
          "height": 415
        },
        "outputId": "3199a3d9-806f-4f67-a962-857a047eae9e"
      },
      "source": [
        "Russia_covid['Confirmed_daily'].plot(figsize=(20,5), title='Covid_Russia', kind='bar')"
      ],
      "execution_count": 7,
      "outputs": [
        {
          "output_type": "execute_result",
          "data": {
            "text/plain": [
              "<matplotlib.axes._subplots.AxesSubplot at 0x7ff55b367668>"
            ]
          },
          "metadata": {
            "tags": []
          },
          "execution_count": 7
        },
        {
          "output_type": "display_data",
          "data": {
            "image/png": "[encoded data removed]",
            "text/plain": [
              "<Figure size 1440x360 with 1 Axes>"
            ]
          },
          "metadata": {
            "tags": [],
            "needs_background": "light"
          }
        }
      ]
    },
    {
      "cell_type": "markdown",
      "metadata": {
        "id": "Stm7c7PrHnwM",
        "colab_type": "text"
      },
      "source": [
        "По опыту предудущего д/з возьмем диапаон данных когда стал наблюдаться увеличивающийся рост и применим boxcox преобразование"
      ]
    },
    {
      "cell_type": "code",
      "metadata": {
        "id": "DydoLpIuITda",
        "colab_type": "code",
        "colab": {
          "base_uri": "https://localhost:8080/",
          "height": 51
        },
        "outputId": "26d57b4e-175b-4db1-910f-a7afe0d0ed95"
      },
      "source": [
        "#импорт модулей для формирования модели\n",
        "import statsmodels.api as sm\n",
        "from statsmodels.tsa.arima_model import ARIMA"
      ],
      "execution_count": 8,
      "outputs": [
        {
          "output_type": "stream",
          "text": [
            "/usr/local/lib/python3.6/dist-packages/statsmodels/tools/_testing.py:19: FutureWarning: pandas.util.testing is deprecated. Use the functions in the public API at pandas.testing instead.\n",
            "  import pandas.util.testing as tm\n"
          ],
          "name": "stderr"
        }
      ]
    },
    {
      "cell_type": "code",
      "metadata": {
        "id": "BJpRk2YAH9lH",
        "colab_type": "code",
        "colab": {
          "base_uri": "https://localhost:8080/",
          "height": 265
        },
        "outputId": "584051ec-a028-49d6-8fa5-de76df6b7317"
      },
      "source": [
        "import scipy.stats as scs\n",
        "\n",
        "X_dif_log, lmbda_dif = scs.boxcox(Russia_covid['Confirmed_daily'].values[42:])\n",
        "plt.plot(X_dif_log)\n",
        "plt.show()"
      ],
      "execution_count": 9,
      "outputs": [
        {
          "output_type": "display_data",
          "data": {
            "image/png": "[encoded data removed]",
            "text/plain": [
              "<Figure size 432x288 with 1 Axes>"
            ]
          },
          "metadata": {
            "tags": [],
            "needs_background": "light"
          }
        }
      ]
    },
    {
      "cell_type": "code",
      "metadata": {
        "id": "Td_m0s1atAOS",
        "colab_type": "code",
        "colab": {
          "base_uri": "https://localhost:8080/",
          "height": 153
        },
        "outputId": "44cabbf6-283a-4935-a3bd-d040f49393d2"
      },
      "source": [
        "X_dif_log"
      ],
      "execution_count": 10,
      "outputs": [
        {
          "output_type": "execute_result",
          "data": {
            "text/plain": [
              "array([ 3.32865799,  3.06569339,  1.49849777,  3.97852505,  3.80989435,\n",
              "        4.27094709,  4.95817497,  5.01678299,  4.9877248 ,  5.20775278,\n",
              "        5.44923042,  5.10117394,  6.84571364,  7.04083844,  7.17333668,\n",
              "        7.44712475,  7.75870425,  7.96835036,  8.94894514,  8.69215881,\n",
              "        9.82856147,  9.31516955,  9.24998579,  9.50028198, 10.27889677,\n",
              "       10.69043606, 10.729883  , 11.20961845, 11.66828383, 11.51073719,\n",
              "       12.13703814, 12.50887764, 12.70323314, 13.1901538 , 13.23342068,\n",
              "       13.64637164, 14.0567354 ])"
            ]
          },
          "metadata": {
            "tags": []
          },
          "execution_count": 10
        }
      ]
    },
    {
      "cell_type": "code",
      "metadata": {
        "id": "arGndidmIEdo",
        "colab_type": "code",
        "colab": {
          "base_uri": "https://localhost:8080/",
          "height": 579
        },
        "outputId": "8c930aa6-b6a2-46a0-c8d0-03fa8cbdcb8a"
      },
      "source": [
        "sm.graphics.tsa.plot_acf(X_dif_log, lags=30)\n",
        "plt.show()\n",
        "sm.graphics.tsa.plot_pacf(X_dif_log, lags=30)\n",
        "plt.show()"
      ],
      "execution_count": 11,
      "outputs": [
        {
          "output_type": "display_data",
          "data": {
            "image/png": "[encoded data removed]",
            "text/plain": [
              "<Figure size 432x288 with 1 Axes>"
            ]
          },
          "metadata": {
            "tags": [],
            "needs_background": "light"
          }
        },
        {
          "output_type": "stream",
          "text": [
            "/usr/local/lib/python3.6/dist-packages/statsmodels/regression/linear_model.py:1358: RuntimeWarning: invalid value encountered in sqrt\n",
            "  return rho, np.sqrt(sigmasq)\n"
          ],
          "name": "stderr"
        },
        {
          "output_type": "display_data",
          "data": {
            "image/png": "[encoded data removed]",
            "text/plain": [
              "<Figure size 432x288 with 1 Axes>"
            ]
          },
          "metadata": {
            "tags": [],
            "needs_background": "light"
          }
        }
      ]
    },
    {
      "cell_type": "markdown",
      "metadata": {
        "id": "L5cr3vaPIbRj",
        "colab_type": "text"
      },
      "source": [
        "p=3, q=1"
      ]
    },
    {
      "cell_type": "code",
      "metadata": {
        "id": "-hPZq49tIabc",
        "colab_type": "code",
        "colab": {
          "base_uri": "https://localhost:8080/",
          "height": 374
        },
        "outputId": "6d7d4979-7350-4018-bbc4-4335597e68f2"
      },
      "source": [
        "import warnings\n",
        "# Определим p, d и q \n",
        "q = 1\n",
        "p = 3\n",
        "d = 0\n",
        "pdq = [p, d, q]\n",
        "\n",
        "\n",
        "warnings.filterwarnings(\"ignore\") # отключает предупреждения\n",
        "\n",
        "# отнесм в тестовую выборку 5 последних измерений, на остальных будем тренировать модель\n",
        "mod1 = sm.tsa.statespace.SARIMAX(X_dif_log[:-5],\n",
        "                               order=pdq,seasonal_order=[0,0,0,0], trend='ct',\n",
        "                               enforce_stationarity=False,\n",
        "                               enforce_invertibility=False)\n",
        "results_cov_log = mod1.fit()\n",
        "print('ARIMA{} - AIC:{}'.format(pdq, results_cov_log.aic))\n",
        "\n",
        "print(results_cov_log.summary().tables[0],results_cov_log.summary().tables[1])"
      ],
      "execution_count": 12,
      "outputs": [
        {
          "output_type": "stream",
          "text": [
            "ARIMA[3, 0, 1] - AIC:33.2920534599758\n",
            "                           Statespace Model Results                           \n",
            "==============================================================================\n",
            "Dep. Variable:                      y   No. Observations:                   32\n",
            "Model:               SARIMAX(3, 0, 1)   Log Likelihood                  -9.646\n",
            "Date:                Mon, 20 Apr 2020   AIC                             33.292\n",
            "Time:                        20:06:51   BIC                             42.863\n",
            "Sample:                             0   HQIC                            36.290\n",
            "                                 - 32                                         \n",
            "Covariance Type:                  opg                                         \n",
            "============================================================================== ==============================================================================\n",
            "                 coef    std err          z      P>|z|      [0.025      0.975]\n",
            "------------------------------------------------------------------------------\n",
            "intercept      3.2635      3.255      1.003      0.316      -3.115       9.642\n",
            "drift          0.4040      0.408      0.989      0.323      -0.397       1.205\n",
            "ar.L1         -0.2250      1.425     -0.158      0.875      -3.018       2.568\n",
            "ar.L2         -0.0183      0.260     -0.070      0.944      -0.528       0.491\n",
            "ar.L3         -0.0319      0.230     -0.139      0.890      -0.483       0.419\n",
            "ma.L1          0.3119      1.495      0.209      0.835      -2.618       3.241\n",
            "sigma2         0.1140      0.031      3.716      0.000       0.054       0.174\n",
            "==============================================================================\n"
          ],
          "name": "stdout"
        }
      ]
    },
    {
      "cell_type": "code",
      "metadata": {
        "id": "sNsm0MRiIuDg",
        "colab_type": "code",
        "colab": {
          "base_uri": "https://localhost:8080/",
          "height": 281
        },
        "outputId": "032992ae-3a8d-43b0-d3c8-0cf5a416f452"
      },
      "source": [
        "plt.figure(figsize=(20,4))\n",
        "\n",
        "pred_dynamic_log = results_cov_log.forecast(10)    #делаем предсказание на 10 точки от текущего конца ряда\n",
        "\n",
        "plt.plot(list(X_dif_log[:-5])+list(pred_dynamic_log),'o', label='predict')\n",
        "#Отобразим истинный значения \n",
        "plt.plot(X_dif_log,label='true')\n",
        "plt.title('Предсказание последних точек ряда  и следующих 5 точек ряда')\n",
        "plt.legend()\n",
        "plt.plot()\n",
        "plt.show()"
      ],
      "execution_count": 13,
      "outputs": [
        {
          "output_type": "display_data",
          "data": {
            "image/png": "[encoded data removed]",
            "text/plain": [
              "<Figure size 1440x288 with 1 Axes>"
            ]
          },
          "metadata": {
            "tags": [],
            "needs_background": "light"
          }
        }
      ]
    },
    {
      "cell_type": "code",
      "metadata": {
        "id": "ICC0wPiJIFNw",
        "colab_type": "code",
        "colab": {}
      },
      "source": [
        "import numpy as np\n",
        "\n",
        "def invboxcox(y,lmbda):\n",
        "    # обрабтное преобразование Бокса-Кокса\n",
        "    if lmbda == 0:\n",
        "        return(np.exp(y))\n",
        "    else:\n",
        "        return(np.exp(np.log(lmbda*y+1)/lmbda))"
      ],
      "execution_count": 0,
      "outputs": []
    },
    {
      "cell_type": "markdown",
      "metadata": {
        "id": "cfMafghqJ03n",
        "colab_type": "text"
      },
      "source": [
        "Обратное предобазование"
      ]
    },
    {
      "cell_type": "code",
      "metadata": {
        "id": "a0UYYmorJ4r1",
        "colab_type": "code",
        "colab": {
          "base_uri": "https://localhost:8080/",
          "height": 68
        },
        "outputId": "ad315442-a6ea-4282-d961-fe9caa9e6d3b"
      },
      "source": [
        "pred_log_inv=invboxcox(pred_dynamic_log,lmbda_dif)\n",
        "pred_log_inv"
      ],
      "execution_count": 15,
      "outputs": [
        {
          "output_type": "execute_result",
          "data": {
            "text/plain": [
              "array([2882.20697095, 3264.6364785 , 3714.10186063, 4216.10390889,\n",
              "       4776.46021318, 5401.39077981, 6098.26565637, 6873.963534  ,\n",
              "       7736.21067746, 8693.30220047])"
            ]
          },
          "metadata": {
            "tags": []
          },
          "execution_count": 15
        }
      ]
    },
    {
      "cell_type": "code",
      "metadata": {
        "id": "fhuddVwpdLqY",
        "colab_type": "code",
        "colab": {
          "base_uri": "https://localhost:8080/",
          "height": 34
        },
        "outputId": "e6bb01ce-321e-42fe-d2e8-41311f46f9f3"
      },
      "source": [
        "Russia_covid.index[78]"
      ],
      "execution_count": 16,
      "outputs": [
        {
          "output_type": "execute_result",
          "data": {
            "text/plain": [
              "datetime.date(2020, 4, 18)"
            ]
          },
          "metadata": {
            "tags": []
          },
          "execution_count": 16
        }
      ]
    },
    {
      "cell_type": "code",
      "metadata": {
        "id": "jIqKqfbiYYzE",
        "colab_type": "code",
        "colab": {
          "base_uri": "https://localhost:8080/",
          "height": 102
        },
        "outputId": "40d4bbfb-fad0-4d79-ac97-397c21ea193c"
      },
      "source": [
        "datelist = pd.date_range(Russia_covid.index[78], periods=6).date.tolist()\n",
        "datelist[1:]"
      ],
      "execution_count": 17,
      "outputs": [
        {
          "output_type": "execute_result",
          "data": {
            "text/plain": [
              "[datetime.date(2020, 4, 19),\n",
              " datetime.date(2020, 4, 20),\n",
              " datetime.date(2020, 4, 21),\n",
              " datetime.date(2020, 4, 22),\n",
              " datetime.date(2020, 4, 23)]"
            ]
          },
          "metadata": {
            "tags": []
          },
          "execution_count": 17
        }
      ]
    },
    {
      "cell_type": "code",
      "metadata": {
        "id": "6sFDwEplKFVb",
        "colab_type": "code",
        "colab": {
          "base_uri": "https://localhost:8080/",
          "height": 275
        },
        "outputId": "7d7c23ec-4ef1-4ce9-847c-8d5b8b0f8cd5"
      },
      "source": [
        "plt.figure(figsize=(20,3))\n",
        "\n",
        "\n",
        "plt.plot(list(Russia_covid.index[42:])+datelist[1:], list(Russia_covid['Confirmed_daily'].values[42:-5])+list(pred_log_inv), label='predict_log_inv')\n",
        "#Отобразим истинный значения \n",
        "plt.plot(list(Russia_covid.index[42:]),Russia_covid['Confirmed_daily'].values[42:],label='true')\n",
        "plt.title('Предсказание последних точек ряда  и следующих 5 точек ряда')\n",
        "\n",
        "plt.xticks(list(Russia_covid.index[42:])+datelist[1:],rotation='vertical')\n",
        "plt.grid()\n",
        "\n",
        "plt.legend()\n",
        "plt.plot()\n",
        "plt.show()"
      ],
      "execution_count": 18,
      "outputs": [
        {
          "output_type": "display_data",
          "data": {
            "image/png": "[encoded data removed]",
            "text/plain": [
              "<Figure size 1440x216 with 1 Axes>"
            ]
          },
          "metadata": {
            "tags": [],
            "needs_background": "light"
          }
        }
      ]
    },
    {
      "cell_type": "code",
      "metadata": {
        "id": "Xvtd-nVMKNoL",
        "colab_type": "code",
        "colab": {
          "base_uri": "https://localhost:8080/",
          "height": 34
        },
        "outputId": "90c59bb2-b8cf-40cd-fd0c-5633be797d1c"
      },
      "source": [
        "from sklearn.metrics import r2_score\n",
        "r2_score(Russia_covid['Confirmed_daily'].values[-5:],pred_log_inv[:5])"
      ],
      "execution_count": 19,
      "outputs": [
        {
          "output_type": "execute_result",
          "data": {
            "text/plain": [
              "0.9489080769165839"
            ]
          },
          "metadata": {
            "tags": []
          },
          "execution_count": 19
        }
      ]
    },
    {
      "cell_type": "markdown",
      "metadata": {
        "id": "pxp4GM3lODvj",
        "colab_type": "text"
      },
      "source": [
        "Отступим h=4 от начала теста (тест = 5 последних значений ряда) и ограничим этой датой треннировочные данные:"
      ]
    },
    {
      "cell_type": "code",
      "metadata": {
        "id": "tLtUEsqaOAye",
        "colab_type": "code",
        "colab": {
          "base_uri": "https://localhost:8080/",
          "height": 34
        },
        "outputId": "7dea8487-f9d2-4547-f2a7-df1caa2d873a"
      },
      "source": [
        "h=4\n",
        "mod4 = sm.tsa.statespace.SARIMAX(X_dif_log[:(-5-h)],\n",
        "                               order=pdq,seasonal_order=[0,0,0,0], trend='ct',\n",
        "                               enforce_stationarity=False,\n",
        "                               enforce_invertibility=False)\n",
        "results_cov_log2 = mod4.fit()\n",
        "print('ARIMA{} - AIC:{}'.format(pdq, results_cov_log2.aic))"
      ],
      "execution_count": 20,
      "outputs": [
        {
          "output_type": "stream",
          "text": [
            "ARIMA[3, 0, 1] - AIC:33.23077835800173\n"
          ],
          "name": "stdout"
        }
      ]
    },
    {
      "cell_type": "code",
      "metadata": {
        "id": "zDRsRMKoO5VE",
        "colab_type": "code",
        "colab": {
          "base_uri": "https://localhost:8080/",
          "height": 281
        },
        "outputId": "5be6260a-0651-4a66-f941-8edcbbbc6af8"
      },
      "source": [
        "plt.figure(figsize=(20,4))\n",
        "\n",
        "pred_dynamic_log2 = results_cov_log2.forecast(10+h)    #делаем предсказание на 10+h точки от текущего конца ряда\n",
        "\n",
        "plt.plot(list(Russia_covid.index[42:])+datelist[1:],list(X_dif_log[:-5-h])+list(pred_dynamic_log2),'o', label='predict')\n",
        "#Отобразим истинный значения \n",
        "plt.plot(list(Russia_covid.index[42:]),X_dif_log,label='true')\n",
        "plt.title('Предсказание последних точек ряда  и следующих 5 точек ряда')\n",
        "plt.legend()\n",
        "plt.grid()\n",
        "plt.show()"
      ],
      "execution_count": 21,
      "outputs": [
        {
          "output_type": "display_data",
          "data": {
            "image/png": "[encoded data removed]",
            "text/plain": [
              "<Figure size 1440x288 with 1 Axes>"
            ]
          },
          "metadata": {
            "tags": [],
            "needs_background": "light"
          }
        }
      ]
    },
    {
      "cell_type": "code",
      "metadata": {
        "id": "9hRDcvS1sUCd",
        "colab_type": "code",
        "colab": {}
      },
      "source": [
        ""
      ],
      "execution_count": 0,
      "outputs": []
    },
    {
      "cell_type": "code",
      "metadata": {
        "id": "_aKwoebMRX4J",
        "colab_type": "code",
        "colab": {
          "base_uri": "https://localhost:8080/",
          "height": 85
        },
        "outputId": "b677e54f-ebc9-4203-e6ad-87392e281b79"
      },
      "source": [
        "pred_log_inv2=invboxcox(pred_dynamic_log2,lmbda_dif)\n",
        "pred_log_inv2"
      ],
      "execution_count": 22,
      "outputs": [
        {
          "output_type": "execute_result",
          "data": {
            "text/plain": [
              "array([1696.36084271, 1949.19321911, 2227.60313942, 2548.72009329,\n",
              "       2909.52235432, 3315.49327977, 3770.54917477, 4280.48203803,\n",
              "       4850.78360131, 5487.71098512, 6197.92630657, 6988.73088714,\n",
              "       7868.00925628, 8844.31240106])"
            ]
          },
          "metadata": {
            "tags": []
          },
          "execution_count": 22
        }
      ]
    },
    {
      "cell_type": "code",
      "metadata": {
        "id": "QuDt-9YelLlj",
        "colab_type": "code",
        "colab": {
          "base_uri": "https://localhost:8080/",
          "height": 227
        },
        "outputId": "c2188cc9-1a4b-4896-fc1d-0c578b5fce4b"
      },
      "source": [
        "plt.figure(figsize=(20,3))\n",
        "\n",
        "plt.plot(Russia_covid.index[-5:],pred_log_inv[:-5], label='predict_log_inv h=1')\n",
        "plt.plot(Russia_covid.index[-5:],pred_log_inv2[h:-5],label='predict_log_inv h=4' , color='red')\n",
        "#Отобразим истинный значения \n",
        "plt.plot(Russia_covid.index[-5:], Russia_covid['Confirmed_daily'].values[-5:],label='true')\n",
        "plt.title('Предсказание последних 5 точек ряда по h=4 и h=1')\n",
        "plt.legend()\n",
        "plt.grid(which='both')\n",
        "plt.show()"
      ],
      "execution_count": 23,
      "outputs": [
        {
          "output_type": "display_data",
          "data": {
            "image/png": "[encoded data removed]",
            "text/plain": [
              "<Figure size 1440x216 with 1 Axes>"
            ]
          },
          "metadata": {
            "tags": [],
            "needs_background": "light"
          }
        }
      ]
    },
    {
      "cell_type": "code",
      "metadata": {
        "id": "DLWOTropqk1K",
        "colab_type": "code",
        "colab": {
          "base_uri": "https://localhost:8080/",
          "height": 34
        },
        "outputId": "7e73bb7c-5a7d-4b7a-ea59-69f55718a2c2"
      },
      "source": [
        "#Last 5 true\n",
        "last_5_true=Russia_covid['Confirmed_daily'].values[-5:]\n",
        "last_5_true"
      ],
      "execution_count": 24,
      "outputs": [
        {
          "output_type": "execute_result",
          "data": {
            "text/plain": [
              "array([2774., 3388., 3448., 4070., 4785.])"
            ]
          },
          "metadata": {
            "tags": []
          },
          "execution_count": 24
        }
      ]
    },
    {
      "cell_type": "code",
      "metadata": {
        "id": "Z8s-lUB6q0WI",
        "colab_type": "code",
        "colab": {
          "base_uri": "https://localhost:8080/",
          "height": 51
        },
        "outputId": "4f8e77ec-8f2d-47af-e864-7e4040f440d3"
      },
      "source": [
        "#Last 5 h=1\n",
        "last_5_h1=pred_log_inv[:-5]\n",
        "last_5_h1"
      ],
      "execution_count": 25,
      "outputs": [
        {
          "output_type": "execute_result",
          "data": {
            "text/plain": [
              "array([2882.20697095, 3264.6364785 , 3714.10186063, 4216.10390889,\n",
              "       4776.46021318])"
            ]
          },
          "metadata": {
            "tags": []
          },
          "execution_count": 25
        }
      ]
    },
    {
      "cell_type": "code",
      "metadata": {
        "id": "RSOd966orI5e",
        "colab_type": "code",
        "colab": {
          "base_uri": "https://localhost:8080/",
          "height": 51
        },
        "outputId": "ec7b220e-c38b-4129-85a7-4d092b3228eb"
      },
      "source": [
        "#Last 5 h=4\n",
        "last_5_h4=pred_log_inv2[h:-5]\n",
        "last_5_h4"
      ],
      "execution_count": 26,
      "outputs": [
        {
          "output_type": "execute_result",
          "data": {
            "text/plain": [
              "array([2909.52235432, 3315.49327977, 3770.54917477, 4280.48203803,\n",
              "       4850.78360131])"
            ]
          },
          "metadata": {
            "tags": []
          },
          "execution_count": 26
        }
      ]
    },
    {
      "cell_type": "code",
      "metadata": {
        "id": "tuaXhGkRRQXx",
        "colab_type": "code",
        "colab": {
          "base_uri": "https://localhost:8080/",
          "height": 34
        },
        "outputId": "5378ba5f-99b0-45f1-8e7d-f79ee72f1565"
      },
      "source": [
        "r2_score(last_5_true,last_5_h1)"
      ],
      "execution_count": 27,
      "outputs": [
        {
          "output_type": "execute_result",
          "data": {
            "text/plain": [
              "0.9489080769165839"
            ]
          },
          "metadata": {
            "tags": []
          },
          "execution_count": 27
        }
      ]
    },
    {
      "cell_type": "code",
      "metadata": {
        "id": "NEBZOfk1rzaJ",
        "colab_type": "code",
        "colab": {
          "base_uri": "https://localhost:8080/",
          "height": 34
        },
        "outputId": "88582ffe-4ab3-4496-94be-f593d3d22f8f"
      },
      "source": [
        "r2_score(last_5_true,last_5_h4)"
      ],
      "execution_count": 28,
      "outputs": [
        {
          "output_type": "execute_result",
          "data": {
            "text/plain": [
              "0.9244098399289304"
            ]
          },
          "metadata": {
            "tags": []
          },
          "execution_count": 28
        }
      ]
    },
    {
      "cell_type": "markdown",
      "metadata": {
        "id": "gXTwpw7dWaLr",
        "colab_type": "text"
      },
      "source": [
        "Видно, что чем дальше треннировочные данные от предсказываемого диапазона, тем ниже качество прогноза"
      ]
    },
    {
      "cell_type": "markdown",
      "metadata": {
        "id": "BxxmgIPcaZmQ",
        "colab_type": "text"
      },
      "source": [
        "2. Примените авторекурсию и сравните результат путем прямого моделирования и путем рекурсивного моделирования на длине выборки из 10-ти точек."
      ]
    },
    {
      "cell_type": "code",
      "metadata": {
        "id": "-NRZKdT3GwL8",
        "colab_type": "code",
        "colab": {}
      },
      "source": [
        "def train_model(X):\n",
        "  mod = sm.tsa.statespace.SARIMAX(X,\n",
        "                               order=pdq,seasonal_order=[0,0,0,0], trend='ct',\n",
        "                               enforce_stationarity=False,\n",
        "                               enforce_invertibility=False)\n",
        "  results = mod.fit()\n",
        "  return results"
      ],
      "execution_count": 0,
      "outputs": []
    },
    {
      "cell_type": "code",
      "metadata": {
        "id": "ls1gVqXBbBP7",
        "colab_type": "code",
        "colab": {
          "base_uri": "https://localhost:8080/",
          "height": 85
        },
        "outputId": "c9715331-05a8-4da7-dce3-5824989de6c2"
      },
      "source": [
        "h=10\n",
        "X_test = X_dif_log[-h:].copy()\n",
        "print('boxcox от реальных', h, 'последних элементов',X_test)\n",
        "\n",
        "X_train = X_dif_log[:-h].copy()\n",
        "\n",
        "y_test_direct=train_model(X_train).forecast(10)\n",
        "print('их предсказание прямой моделью', y_test_direct)\n",
        "\n",
        "\n",
        "\n"
      ],
      "execution_count": 30,
      "outputs": [
        {
          "output_type": "stream",
          "text": [
            "boxcox от реальных 10 последних элементов [11.20961845 11.66828383 11.51073719 12.13703814 12.50887764 12.70323314\n",
            " 13.1901538  13.23342068 13.64637164 14.0567354 ]\n",
            "их предсказание прямой моделью [11.2006632  11.53851547 11.86353366 12.17624532 12.49469248 12.8122068\n",
            " 13.13034856 13.44819628 13.76613633 14.08403613]\n"
          ],
          "name": "stdout"
        }
      ]
    },
    {
      "cell_type": "code",
      "metadata": {
        "id": "52wZMsArusN-",
        "colab_type": "code",
        "colab": {}
      },
      "source": [
        "y_test=y_test_direct.copy()\n",
        "X_train_new=X_train.copy()\n",
        "for i in range(h):\n",
        "  y_test[i]=train_model(X_train_new).forecast(1)\n",
        "   # заполняем вектор для прогноза следующей точки\n",
        "  X_train_new=np.append(X_train_new,y_test[i])\n",
        "  "
      ],
      "execution_count": 0,
      "outputs": []
    },
    {
      "cell_type": "code",
      "metadata": {
        "id": "ehq6FhIY4pXB",
        "colab_type": "code",
        "colab": {
          "base_uri": "https://localhost:8080/",
          "height": 51
        },
        "outputId": "e857f7d1-b4ae-4591-f273-2367f3127324"
      },
      "source": [
        "# предсказание рекурсивной моделью 10 последних точек\n",
        "y_test"
      ],
      "execution_count": 33,
      "outputs": [
        {
          "output_type": "execute_result",
          "data": {
            "text/plain": [
              "array([11.2006632 , 11.54817246, 11.86580084, 12.17783542, 12.50049059,\n",
              "       12.81458222, 13.13280794, 13.45593879, 13.76983078, 14.08861931])"
            ]
          },
          "metadata": {
            "tags": []
          },
          "execution_count": 33
        }
      ]
    },
    {
      "cell_type": "code",
      "metadata": {
        "id": "rAGYu-fdqFc1",
        "colab_type": "code",
        "colab": {
          "base_uri": "https://localhost:8080/",
          "height": 85
        },
        "outputId": "36fc4e3a-f945-43a4-fd63-04f540eedcd8"
      },
      "source": [
        "#Обратное преобразование\n",
        "last_10_direct=invboxcox(y_test_direct,lmbda_dif)\n",
        "print(last_10_direct)\n",
        "last_10_rec=invboxcox(y_test,lmbda_dif)\n",
        "print(last_10_rec)"
      ],
      "execution_count": 34,
      "outputs": [
        {
          "output_type": "stream",
          "text": [
            "[1453.18455259 1687.45514486 1943.92240889 2222.81281557 2542.83735056\n",
            " 2902.07469683 3306.59429907 3760.05135475 4268.13821839 4836.30407521]\n",
            "[1453.18455259 1694.61837829 1945.826814   2224.31737604 2549.02531907\n",
            " 2904.92407013 3309.90735146 3771.75487749 4274.38432992 4844.96466003]\n"
          ],
          "name": "stdout"
        }
      ]
    },
    {
      "cell_type": "code",
      "metadata": {
        "id": "9qLIGVkgIM4U",
        "colab_type": "code",
        "colab": {
          "base_uri": "https://localhost:8080/",
          "height": 51
        },
        "outputId": "0cf12a31-ee41-4eef-8b35-7a01184ce474"
      },
      "source": [
        "last_10_true=Russia_covid['Confirmed_daily'][-h:].values\n",
        "last_10_true\n"
      ],
      "execution_count": 35,
      "outputs": [
        {
          "output_type": "execute_result",
          "data": {
            "text/plain": [
              "array([1459., 1786., 1667., 2186., 2558., 2774., 3388., 3448., 4070.,\n",
              "       4785.])"
            ]
          },
          "metadata": {
            "tags": []
          },
          "execution_count": 35
        }
      ]
    },
    {
      "cell_type": "code",
      "metadata": {
        "id": "dtQ9-N3q8I2W",
        "colab_type": "code",
        "colab": {
          "base_uri": "https://localhost:8080/",
          "height": 34
        },
        "outputId": "022fa827-f69d-46e5-ba51-becbec04540e"
      },
      "source": [
        "# r2 при прямом прогнозе 5 точек\n",
        "r2_score(last_10_true,last_10_direct)"
      ],
      "execution_count": 36,
      "outputs": [
        {
          "output_type": "execute_result",
          "data": {
            "text/plain": [
              "0.9769587992613178"
            ]
          },
          "metadata": {
            "tags": []
          },
          "execution_count": 36
        }
      ]
    },
    {
      "cell_type": "code",
      "metadata": {
        "id": "8n-eXgMA8jEW",
        "colab_type": "code",
        "colab": {}
      },
      "source": [
        "# r2 при рекурсивном прогнозе каждой следующей из 10-ти точек"
      ],
      "execution_count": 0,
      "outputs": []
    },
    {
      "cell_type": "code",
      "metadata": {
        "id": "nnli182f8r3-",
        "colab_type": "code",
        "colab": {
          "base_uri": "https://localhost:8080/",
          "height": 34
        },
        "outputId": "9c2d649b-5806-45ef-89b5-e1e67664bb3b"
      },
      "source": [
        "r2_score(last_10_true,last_10_rec)"
      ],
      "execution_count": 38,
      "outputs": [
        {
          "output_type": "execute_result",
          "data": {
            "text/plain": [
              "0.9759655710286801"
            ]
          },
          "metadata": {
            "tags": []
          },
          "execution_count": 38
        }
      ]
    },
    {
      "cell_type": "markdown",
      "metadata": {
        "id": "awXlvsG983uQ",
        "colab_type": "text"
      },
      "source": [
        "Качество по r2 при рекурсивном подходе в нашем случае,несущественно, но снизилось :)"
      ]
    },
    {
      "cell_type": "markdown",
      "metadata": {
        "id": "U_rviL3K9lKL",
        "colab_type": "text"
      },
      "source": [
        "3. Оцените рост ошибки прогнозирования рекурсивной модели в интервалах от 1-й до 10-й точки"
      ]
    },
    {
      "cell_type": "code",
      "metadata": {
        "id": "tMMGAgCg9jh8",
        "colab_type": "code",
        "colab": {}
      },
      "source": [
        "def MAPE(y_true, y_pred):\n",
        "  return np.mean(abs(1-y_pred/y_true))*100"
      ],
      "execution_count": 0,
      "outputs": []
    },
    {
      "cell_type": "code",
      "metadata": {
        "id": "UyW12BEeCfB_",
        "colab_type": "code",
        "colab": {
          "base_uri": "https://localhost:8080/",
          "height": 34
        },
        "outputId": "6ee4caf7-d139-499e-e571-e960e24e299d"
      },
      "source": [
        "MAPE(np.array(last_10_true),np.array(last_10_rec))"
      ],
      "execution_count": 40,
      "outputs": [
        {
          "output_type": "execute_result",
          "data": {
            "text/plain": [
              "4.70343217657531"
            ]
          },
          "metadata": {
            "tags": []
          },
          "execution_count": 40
        }
      ]
    },
    {
      "cell_type": "code",
      "metadata": {
        "id": "53dT7ePkKrnj",
        "colab_type": "code",
        "colab": {
          "base_uri": "https://localhost:8080/",
          "height": 34
        },
        "outputId": "54b389aa-09e4-4955-ac80-38bfada01266"
      },
      "source": [
        "err_direct=[]\n",
        "for i in range(h):\n",
        "  err_direct.append(MAPE(np.array(last_10_true[:i+1]),np.array(last_10_direct[:i+1])))\n",
        "print(err_direct)"
      ],
      "execution_count": 41,
      "outputs": [
        {
          "output_type": "stream",
          "text": [
            "[0.39859132323724067, 2.9581101953031985, 7.509414173281326, 6.053067212453028, 4.961004586510807, 4.903665182539516, 4.546393823730834, 5.1093712588655515, 5.0825812183413195, 4.681541644480584]\n"
          ],
          "name": "stdout"
        }
      ]
    },
    {
      "cell_type": "code",
      "metadata": {
        "id": "ES-DCNXc-zrq",
        "colab_type": "code",
        "colab": {
          "base_uri": "https://localhost:8080/",
          "height": 34
        },
        "outputId": "4d7ed9ba-de62-49b7-cce6-68cbbc9b3330"
      },
      "source": [
        "err_rec=[]\n",
        "for i in range(h):\n",
        "  err_rec.append(MAPE(np.array(last_10_true[:i+1]),np.array(last_10_rec[:i+1])))\n",
        "print(err_rec)"
      ],
      "execution_count": 42,
      "outputs": [
        {
          "output_type": "stream",
          "text": [
            "[0.39859132323724067, 2.757571745398085, 7.41380235944213, 5.998565127809511, 4.869021616971412, 4.8441322302482215, 4.481395885899638, 5.09492672748583, 5.086793536430004, 4.70343217657531]\n"
          ],
          "name": "stdout"
        }
      ]
    },
    {
      "cell_type": "code",
      "metadata": {
        "id": "2QrAfktsDff2",
        "colab_type": "code",
        "colab": {
          "base_uri": "https://localhost:8080/",
          "height": 336
        },
        "outputId": "2dcb1c89-1aa7-4b30-de91-a5b6d91f4e06"
      },
      "source": [
        "plt.figure(figsize=(10,5))\n",
        "\n",
        "plt.plot(Russia_covid.index[-h:],last_10_direct, 'o', label='прогноз на 10 точек вперед')\n",
        "plt.plot(Russia_covid.index[-h:],last_10_rec,label='прогноз на 1 точку вперет по рекурсии' , color='red')\n",
        "#Отобразим истинный значения \n",
        "plt.plot(Russia_covid.index[-h:], Russia_covid['Confirmed_daily'].values[-h:],label='true')\n",
        "plt.title('Предсказание последних 10 точек ряда')\n",
        "plt.legend()\n",
        "plt.grid()\n",
        "plt.show()"
      ],
      "execution_count": 43,
      "outputs": [
        {
          "output_type": "display_data",
          "data": {
            "image/png": "[encoded data removed]",
            "text/plain": [
              "<Figure size 720x360 with 1 Axes>"
            ]
          },
          "metadata": {
            "tags": [],
            "needs_background": "light"
          }
        }
      ]
    },
    {
      "cell_type": "code",
      "metadata": {
        "id": "VqMnrZ5pFacA",
        "colab_type": "code",
        "colab": {
          "base_uri": "https://localhost:8080/",
          "height": 592
        },
        "outputId": "fe9665b2-1574-4546-fb73-7db4b9ad2737"
      },
      "source": [
        "plt.figure(figsize=(10,10))\n",
        "plt.plot(Russia_covid.index[-h:],err_direct, label='изменение ошибки при прямом прогнозе')\n",
        "plt.plot(Russia_covid.index[-h:],err_rec, label='изменение ошибки при рекурсии')\n",
        "plt.legend()\n",
        "\n",
        "plt.grid()\n",
        "plt.show()"
      ],
      "execution_count": 44,
      "outputs": [
        {
          "output_type": "display_data",
          "data": {
            "image/png": "[encoded data removed]",
            "text/plain": [
              "<Figure size 720x720 with 1 Axes>"
            ]
          },
          "metadata": {
            "tags": [],
            "needs_background": "light"
          }
        }
      ]
    },
    {
      "cell_type": "markdown",
      "metadata": {
        "id": "1E0GEBa1-CN3",
        "colab_type": "text"
      },
      "source": [
        "Сделайте вывод о том, как изменилось поведение ошибки предсказания ряда."
      ]
    },
    {
      "cell_type": "markdown",
      "metadata": {
        "id": "QqD6GNn3LoMf",
        "colab_type": "text"
      },
      "source": [
        "Видно, что по MAPE рекурсивный подход был лучше прямого до 8-го предсказания, а после 9-го и 10-го обобщенный MAPE стал чуть хуже"
      ]
    },
    {
      "cell_type": "code",
      "metadata": {
        "id": "OGC8WZdaFS6d",
        "colab_type": "code",
        "colab": {}
      },
      "source": [
        ""
      ],
      "execution_count": 0,
      "outputs": []
    }
  ]
}